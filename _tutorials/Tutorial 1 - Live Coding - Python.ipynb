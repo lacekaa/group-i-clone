{
 "cells": [
  {
   "cell_type": "markdown",
   "id": "d86f1136",
   "metadata": {},
   "source": [
    "# Python Tutorial"
   ]
  },
  {
   "cell_type": "markdown",
   "id": "4ab87c72",
   "metadata": {},
   "source": [
    "by Uwe Grünefeld\\\n",
    "we introduce the basics of the programming language Python"
   ]
  },
  {
   "cell_type": "markdown",
   "id": "87363500",
   "metadata": {},
   "source": [
    "### First Program"
   ]
  },
  {
   "cell_type": "code",
   "execution_count": 1,
   "id": "e3cdd225",
   "metadata": {},
   "outputs": [
    {
     "name": "stdout",
     "output_type": "stream",
     "text": [
      "Hello World!\n"
     ]
    }
   ],
   "source": [
    "print(\"Hello World!\")"
   ]
  },
  {
   "cell_type": "markdown",
   "id": "d735ca80",
   "metadata": {},
   "source": [
    "### Syntax\n",
    "hallo\n"
   ]
  },
  {
   "cell_type": "markdown",
   "id": "873f12d8",
   "metadata": {},
   "source": [
    "Compared to other programming languages, Python does not need a semicolon in the end"
   ]
  },
  {
   "cell_type": "code",
   "execution_count": 2,
   "id": "28983419",
   "metadata": {},
   "outputs": [
    {
     "name": "stdout",
     "output_type": "stream",
     "text": [
      "Hello World!\n"
     ]
    }
   ],
   "source": [
    "print(\"Hello World!\");"
   ]
  },
  {
   "cell_type": "markdown",
   "id": "6042ef00",
   "metadata": {},
   "source": [
    "But it does not mind one - and in some cases it may be useful, for example, to combine two statements"
   ]
  },
  {
   "cell_type": "code",
   "execution_count": 3,
   "id": "71a9296e",
   "metadata": {},
   "outputs": [
    {
     "name": "stdout",
     "output_type": "stream",
     "text": [
      "Hello World!\n",
      "Hello World!\n"
     ]
    }
   ],
   "source": [
    "print(\"Hello World!\"); print(\"Hello World!\")"
   ]
  },
  {
   "cell_type": "markdown",
   "id": "6db947ea",
   "metadata": {},
   "source": [
    "All statements with the same indent belong to the same block"
   ]
  },
  {
   "cell_type": "code",
   "execution_count": 4,
   "id": "10e13bc1",
   "metadata": {},
   "outputs": [
    {
     "name": "stdout",
     "output_type": "stream",
     "text": [
      "Hello World!\n",
      "Hello again!\n"
     ]
    }
   ],
   "source": [
    "if True:\n",
    "    print(\"Hello World!\")\n",
    "    print(\"Hello again!\")"
   ]
  },
  {
   "cell_type": "code",
   "execution_count": 5,
   "id": "64c6bea5",
   "metadata": {},
   "outputs": [],
   "source": [
    "if False:\n",
    "    print(\"Hello World!\")\n",
    "    print(\"Hello again!\")"
   ]
  },
  {
   "cell_type": "markdown",
   "id": "7e2bed6c",
   "metadata": {},
   "source": [
    "### Comments"
   ]
  },
  {
   "cell_type": "markdown",
   "id": "f5ae28c3",
   "metadata": {},
   "source": [
    "Single-line comment"
   ]
  },
  {
   "cell_type": "code",
   "execution_count": 6,
   "id": "efae6d14",
   "metadata": {},
   "outputs": [],
   "source": [
    "# print(\"Hello World!\")"
   ]
  },
  {
   "cell_type": "markdown",
   "id": "43a80ae9",
   "metadata": {},
   "source": [
    "Multi-line comment"
   ]
  },
  {
   "cell_type": "code",
   "execution_count": 7,
   "id": "80b283e0",
   "metadata": {},
   "outputs": [
    {
     "data": {
      "text/plain": [
       "'\\nprint(\"Hello World!\")\\nprint(\"Hello World!\")\\n'"
      ]
     },
     "execution_count": 7,
     "metadata": {},
     "output_type": "execute_result"
    }
   ],
   "source": [
    "\"\"\"\n",
    "print(\"Hello World!\")\n",
    "print(\"Hello World!\")\n",
    "\"\"\""
   ]
  },
  {
   "cell_type": "markdown",
   "id": "7d623642",
   "metadata": {},
   "source": [
    "What happened here?"
   ]
  },
  {
   "cell_type": "code",
   "execution_count": 8,
   "id": "22f1dfb6",
   "metadata": {},
   "outputs": [
    {
     "data": {
      "text/plain": [
       "'Hello World!'"
      ]
     },
     "execution_count": 8,
     "metadata": {},
     "output_type": "execute_result"
    }
   ],
   "source": [
    "\"Hello World!\""
   ]
  },
  {
   "cell_type": "code",
   "execution_count": 9,
   "id": "1d51e298",
   "metadata": {},
   "outputs": [
    {
     "data": {
      "text/plain": [
       "5"
      ]
     },
     "execution_count": 9,
     "metadata": {},
     "output_type": "execute_result"
    }
   ],
   "source": [
    "5"
   ]
  },
  {
   "cell_type": "code",
   "execution_count": 10,
   "id": "4a54da28",
   "metadata": {},
   "outputs": [
    {
     "data": {
      "text/plain": [
       "'Hello world!'"
      ]
     },
     "execution_count": 10,
     "metadata": {},
     "output_type": "execute_result"
    }
   ],
   "source": [
    "\"Hello world!\"\n",
    "\"Hello world!\"\n",
    "#print(0)"
   ]
  },
  {
   "cell_type": "code",
   "execution_count": 11,
   "id": "ce8fcd6b-dd1e-4c9e-8f09-76ff974d6fef",
   "metadata": {},
   "outputs": [
    {
     "data": {
      "text/plain": [
       "'Hello world!'"
      ]
     },
     "execution_count": 11,
     "metadata": {},
     "output_type": "execute_result"
    }
   ],
   "source": [
    "\"Hello world!\""
   ]
  },
  {
   "cell_type": "code",
   "execution_count": 12,
   "id": "0c0247c0",
   "metadata": {},
   "outputs": [
    {
     "name": "stdout",
     "output_type": "stream",
     "text": [
      "0\n"
     ]
    }
   ],
   "source": [
    "'''\n",
    "print(\"Hello World!\")\n",
    "print(\"Hello World!\")\n",
    "'''\n",
    "print(0)"
   ]
  },
  {
   "cell_type": "markdown",
   "id": "6dd0e34c",
   "metadata": {},
   "source": [
    "### Variables"
   ]
  },
  {
   "cell_type": "code",
   "execution_count": 13,
   "id": "8695e25f",
   "metadata": {},
   "outputs": [],
   "source": [
    "a = 5\n",
    "b = \"hello\""
   ]
  },
  {
   "cell_type": "code",
   "execution_count": 14,
   "id": "9e98e0d1",
   "metadata": {},
   "outputs": [
    {
     "name": "stdout",
     "output_type": "stream",
     "text": [
      "5\n"
     ]
    }
   ],
   "source": [
    "print(a)"
   ]
  },
  {
   "cell_type": "code",
   "execution_count": 15,
   "id": "f3cc790e",
   "metadata": {},
   "outputs": [],
   "source": [
    "c = 5.231121212121"
   ]
  },
  {
   "cell_type": "code",
   "execution_count": 16,
   "id": "0c655e5c",
   "metadata": {},
   "outputs": [
    {
     "name": "stdout",
     "output_type": "stream",
     "text": [
      "5.231121212121\n"
     ]
    }
   ],
   "source": [
    "print(c)"
   ]
  },
  {
   "cell_type": "code",
   "execution_count": 17,
   "id": "7adbf7a8",
   "metadata": {},
   "outputs": [
    {
     "name": "stdout",
     "output_type": "stream",
     "text": [
      "10.231121212121\n"
     ]
    }
   ],
   "source": [
    "d = a + c\n",
    "print(d)"
   ]
  },
  {
   "cell_type": "code",
   "execution_count": 18,
   "id": "e53747aa-328d-4d0d-999f-ae6f0b9dbb50",
   "metadata": {},
   "outputs": [
    {
     "data": {
      "text/plain": [
       "10.231121212121"
      ]
     },
     "execution_count": 18,
     "metadata": {},
     "output_type": "execute_result"
    }
   ],
   "source": [
    "d"
   ]
  },
  {
   "cell_type": "code",
   "execution_count": 26,
   "id": "41c4a594",
   "metadata": {},
   "outputs": [
    {
     "name": "stdout",
     "output_type": "stream",
     "text": [
      "4\n",
      "6\n"
     ]
    }
   ],
   "source": [
    "a = 6\n",
    "b = a\n",
    "a = 4\n",
    "print(a)\n",
    "print(b)"
   ]
  },
  {
   "cell_type": "markdown",
   "id": "e72df006",
   "metadata": {},
   "source": [
    "### Lists"
   ]
  },
  {
   "cell_type": "code",
   "execution_count": 29,
   "id": "f7602fd7",
   "metadata": {},
   "outputs": [
    {
     "name": "stdout",
     "output_type": "stream",
     "text": [
      "[1, 2, 3]\n",
      "[1, 2]\n",
      "[1, 2, 3]\n"
     ]
    }
   ],
   "source": [
    "a = list([1, 2, 3])\n",
    "print(a)\n",
    "b = list(a)\n",
    "a.pop()\n",
    "print(a)\n",
    "print(b)"
   ]
  },
  {
   "cell_type": "code",
   "execution_count": 30,
   "id": "741280d9",
   "metadata": {},
   "outputs": [
    {
     "name": "stdout",
     "output_type": "stream",
     "text": [
      "4\n"
     ]
    }
   ],
   "source": [
    "a = [1, 2, 3, 4]\n",
    "print(len(a))"
   ]
  },
  {
   "cell_type": "code",
   "execution_count": 31,
   "id": "1fdc9ac4-0b81-4b8b-95ce-125f71803286",
   "metadata": {},
   "outputs": [
    {
     "data": {
      "text/plain": [
       "[1, 2, 3, 4]"
      ]
     },
     "execution_count": 31,
     "metadata": {},
     "output_type": "execute_result"
    }
   ],
   "source": [
    "a"
   ]
  },
  {
   "cell_type": "code",
   "execution_count": 32,
   "id": "7c2892f6",
   "metadata": {},
   "outputs": [
    {
     "name": "stdout",
     "output_type": "stream",
     "text": [
      "[2, 3]\n"
     ]
    }
   ],
   "source": [
    "print(a[1:3])"
   ]
  },
  {
   "cell_type": "code",
   "execution_count": 33,
   "id": "20df6899",
   "metadata": {},
   "outputs": [
    {
     "name": "stdout",
     "output_type": "stream",
     "text": [
      "[1, 3, 4]\n"
     ]
    }
   ],
   "source": [
    "# delete an element from the list\n",
    "del a[1]\n",
    "print(a)"
   ]
  },
  {
   "cell_type": "markdown",
   "id": "a5fcf689",
   "metadata": {},
   "source": [
    "### Tupels"
   ]
  },
  {
   "cell_type": "code",
   "execution_count": 34,
   "id": "7b78b487",
   "metadata": {},
   "outputs": [
    {
     "name": "stdout",
     "output_type": "stream",
     "text": [
      "2\n",
      "3\n"
     ]
    }
   ],
   "source": [
    "a = (1,2,3)\n",
    "print(a[1])\n",
    "print(len(a))"
   ]
  },
  {
   "cell_type": "code",
   "execution_count": 36,
   "id": "ac1de90f-49c5-47e5-90b6-96e03d059aa3",
   "metadata": {},
   "outputs": [
    {
     "data": {
      "text/plain": [
       "(1, 2, 3)"
      ]
     },
     "execution_count": 36,
     "metadata": {},
     "output_type": "execute_result"
    }
   ],
   "source": [
    "a"
   ]
  },
  {
   "cell_type": "code",
   "execution_count": 37,
   "id": "eabd07eb",
   "metadata": {},
   "outputs": [
    {
     "name": "stdout",
     "output_type": "stream",
     "text": [
      "2\n"
     ]
    }
   ],
   "source": [
    "print(a[-2])"
   ]
  },
  {
   "cell_type": "code",
   "execution_count": 38,
   "id": "e213e2e8",
   "metadata": {},
   "outputs": [
    {
     "name": "stdout",
     "output_type": "stream",
     "text": [
      "(2, 3)\n"
     ]
    }
   ],
   "source": [
    "print(a[1:3])"
   ]
  },
  {
   "cell_type": "markdown",
   "id": "d0036c35",
   "metadata": {},
   "source": [
    "### Sets"
   ]
  },
  {
   "cell_type": "code",
   "execution_count": 40,
   "id": "d7c513a4",
   "metadata": {},
   "outputs": [
    {
     "data": {
      "text/plain": [
       "{1, 2, 3}"
      ]
     },
     "execution_count": 40,
     "metadata": {},
     "output_type": "execute_result"
    }
   ],
   "source": [
    "a = {1, 2, 3}\n",
    "a"
   ]
  },
  {
   "cell_type": "code",
   "execution_count": 42,
   "id": "b931624f",
   "metadata": {},
   "outputs": [
    {
     "data": {
      "text/plain": [
       "{1, 2, 3}"
      ]
     },
     "execution_count": 42,
     "metadata": {},
     "output_type": "execute_result"
    }
   ],
   "source": [
    "a = {1, 2, 2, 3}\n",
    "a"
   ]
  },
  {
   "cell_type": "code",
   "execution_count": 43,
   "id": "603acdc5",
   "metadata": {},
   "outputs": [
    {
     "name": "stdout",
     "output_type": "stream",
     "text": [
      "{1, 2, 3}\n",
      "3\n"
     ]
    }
   ],
   "source": [
    "print(a)\n",
    "print(len(a))"
   ]
  },
  {
   "cell_type": "code",
   "execution_count": 45,
   "id": "8fe203aa",
   "metadata": {},
   "outputs": [
    {
     "data": {
      "text/plain": [
       "False"
      ]
     },
     "execution_count": 45,
     "metadata": {},
     "output_type": "execute_result"
    }
   ],
   "source": [
    "54 in a"
   ]
  },
  {
   "cell_type": "markdown",
   "id": "3cf739d4",
   "metadata": {},
   "source": [
    "### Dicts"
   ]
  },
  {
   "cell_type": "code",
   "execution_count": 58,
   "id": "8532c07e",
   "metadata": {},
   "outputs": [
    {
     "data": {
      "text/plain": [
       "2"
      ]
     },
     "execution_count": 58,
     "metadata": {},
     "output_type": "execute_result"
    }
   ],
   "source": [
    "a = {\"name\" : \"Uwe\", \"age\" : 33}\n",
    "len(a)"
   ]
  },
  {
   "cell_type": "code",
   "execution_count": 49,
   "id": "df80a59c",
   "metadata": {},
   "outputs": [
    {
     "data": {
      "text/plain": [
       "'Uwe'"
      ]
     },
     "execution_count": 49,
     "metadata": {},
     "output_type": "execute_result"
    }
   ],
   "source": [
    "#print(a[0]) #=> KeyError\n",
    "a[\"name\"]"
   ]
  },
  {
   "cell_type": "code",
   "execution_count": 53,
   "id": "bff14c84",
   "metadata": {},
   "outputs": [],
   "source": [
    "a[\"height\"] = 189\n",
    "x = a[\"height\"]"
   ]
  },
  {
   "cell_type": "code",
   "execution_count": 54,
   "id": "5a442aa0-d687-41df-893f-3effafd87edd",
   "metadata": {},
   "outputs": [
    {
     "data": {
      "text/plain": [
       "189"
      ]
     },
     "execution_count": 54,
     "metadata": {},
     "output_type": "execute_result"
    }
   ],
   "source": [
    "x"
   ]
  },
  {
   "cell_type": "code",
   "execution_count": 55,
   "id": "2f4092bd",
   "metadata": {},
   "outputs": [
    {
     "name": "stdout",
     "output_type": "stream",
     "text": [
      "189\n"
     ]
    }
   ],
   "source": [
    "print(a[\"height\"])"
   ]
  },
  {
   "cell_type": "code",
   "execution_count": 56,
   "id": "4895df05",
   "metadata": {},
   "outputs": [
    {
     "name": "stdout",
     "output_type": "stream",
     "text": [
      "{'name': 'Uwe', 'height': 189}\n"
     ]
    }
   ],
   "source": [
    "del a[\"age\"]\n",
    "print(a)"
   ]
  },
  {
   "cell_type": "code",
   "execution_count": 60,
   "id": "bdcfbe0e",
   "metadata": {},
   "outputs": [
    {
     "data": {
      "text/plain": [
       "int"
      ]
     },
     "execution_count": 60,
     "metadata": {},
     "output_type": "execute_result"
    }
   ],
   "source": [
    "a = 5\n",
    "type(a)"
   ]
  },
  {
   "cell_type": "markdown",
   "id": "cd88ec54",
   "metadata": {},
   "source": [
    "### Immutable and Mutable"
   ]
  },
  {
   "cell_type": "code",
   "execution_count": 61,
   "id": "e3db3743",
   "metadata": {},
   "outputs": [
    {
     "name": "stdout",
     "output_type": "stream",
     "text": [
      "10\n",
      "10\n",
      "11\n",
      "10\n"
     ]
    }
   ],
   "source": [
    "x = 10\n",
    "y = x\n",
    "\n",
    "print(x) # output: 10\n",
    "print(y) # output: 10\n",
    "\n",
    "x = 11 # because int is immutable a new object is initiated\n",
    "\n",
    "print(x) # output: 11\n",
    "print(y) # output: 10"
   ]
  },
  {
   "cell_type": "markdown",
   "id": "7bb69e2f",
   "metadata": {},
   "source": [
    "### Comparisions"
   ]
  },
  {
   "cell_type": "code",
   "execution_count": 67,
   "id": "7eddebce",
   "metadata": {},
   "outputs": [
    {
     "name": "stdout",
     "output_type": "stream",
     "text": [
      "False\n"
     ]
    }
   ],
   "source": [
    "print(4 in {5})"
   ]
  },
  {
   "cell_type": "markdown",
   "id": "196c6498",
   "metadata": {},
   "source": [
    "### Conditions"
   ]
  },
  {
   "cell_type": "code",
   "execution_count": 71,
   "id": "2c18952f",
   "metadata": {},
   "outputs": [
    {
     "name": "stdout",
     "output_type": "stream",
     "text": [
      "5 is not greater than 5!\n"
     ]
    }
   ],
   "source": [
    "# if, else statements\n",
    "if 5 > 5:\n",
    "    print(\"5 is greater than 5!\")\n",
    "else:\n",
    "    print(\"5 is not greater than 5!\")"
   ]
  },
  {
   "cell_type": "code",
   "execution_count": 69,
   "id": "46e309ab",
   "metadata": {},
   "outputs": [
    {
     "name": "stdout",
     "output_type": "stream",
     "text": [
      "5 equals 5!\n"
     ]
    }
   ],
   "source": [
    "if 5 > 5:\n",
    "    print(\"5 is greater than 5!\")\n",
    "elif 5 < 5:\n",
    "    print(\"5 is less than 5!\")\n",
    "else:\n",
    "    print(\"5 equals 5!\")"
   ]
  },
  {
   "cell_type": "markdown",
   "id": "165c5584",
   "metadata": {},
   "source": [
    "### Loops"
   ]
  },
  {
   "cell_type": "code",
   "execution_count": 72,
   "id": "d8f302fd",
   "metadata": {},
   "outputs": [
    {
     "data": {
      "text/plain": [
       "range(0, 6)"
      ]
     },
     "execution_count": 72,
     "metadata": {},
     "output_type": "execute_result"
    }
   ],
   "source": [
    "range(6)"
   ]
  },
  {
   "cell_type": "code",
   "execution_count": 79,
   "id": "34e166ca",
   "metadata": {},
   "outputs": [
    {
     "name": "stdout",
     "output_type": "stream",
     "text": [
      "0\n",
      "1\n",
      "2\n",
      "3\n",
      "4\n",
      "5\n"
     ]
    }
   ],
   "source": [
    "for x in range(6):\n",
    "      print(x)"
   ]
  },
  {
   "cell_type": "code",
   "execution_count": 80,
   "id": "db912e43",
   "metadata": {},
   "outputs": [
    {
     "name": "stdout",
     "output_type": "stream",
     "text": [
      "1\n",
      "2\n",
      "3\n",
      "4\n"
     ]
    }
   ],
   "source": [
    "i = 1\n",
    "while i < 5:\n",
    "    print(i)\n",
    "    i += 1"
   ]
  },
  {
   "cell_type": "code",
   "execution_count": 81,
   "id": "70953dd1",
   "metadata": {},
   "outputs": [
    {
     "name": "stdout",
     "output_type": "stream",
     "text": [
      "1\n",
      "2\n",
      "4\n",
      "5\n"
     ]
    }
   ],
   "source": [
    "i = 0\n",
    "while i < 5:\n",
    "    i += 1\n",
    "    if i == 3:\n",
    "        continue # allows to skip this iteration and continue with the next one\n",
    "    print(i)"
   ]
  },
  {
   "cell_type": "code",
   "execution_count": 82,
   "id": "5e32a1a5",
   "metadata": {},
   "outputs": [
    {
     "name": "stdout",
     "output_type": "stream",
     "text": [
      "1\n",
      "2\n"
     ]
    }
   ],
   "source": [
    "i = 0\n",
    "while i < 5:\n",
    "    i += 1\n",
    "    if i == 3:\n",
    "        break # allows to stop the loop at any point inside an iteration\n",
    "    print(i)"
   ]
  },
  {
   "cell_type": "markdown",
   "id": "acfbd837",
   "metadata": {},
   "source": [
    "### Functions"
   ]
  },
  {
   "cell_type": "code",
   "execution_count": 87,
   "id": "a33a1448",
   "metadata": {},
   "outputs": [
    {
     "name": "stdout",
     "output_type": "stream",
     "text": [
      "Hello Dieter\n"
     ]
    }
   ],
   "source": [
    "def hello(name):\n",
    "    print('Hello ' + str(name))\n",
    "hello(\"Dieter\")"
   ]
  },
  {
   "cell_type": "code",
   "execution_count": 88,
   "id": "4a5a0a32-9fb9-4899-8c6b-2d85b1b36dc4",
   "metadata": {},
   "outputs": [
    {
     "name": "stdout",
     "output_type": "stream",
     "text": [
      "Hello sadas\n"
     ]
    }
   ],
   "source": [
    "hello(\"sadas\")"
   ]
  },
  {
   "cell_type": "code",
   "execution_count": 89,
   "id": "aa04c258",
   "metadata": {},
   "outputs": [
    {
     "name": "stdout",
     "output_type": "stream",
     "text": [
      "What is your name?\n"
     ]
    },
    {
     "name": "stdin",
     "output_type": "stream",
     "text": [
      " jsafjsaoif\n"
     ]
    },
    {
     "name": "stdout",
     "output_type": "stream",
     "text": [
      "It is good to meet you, jsafjsaoif\n"
     ]
    }
   ],
   "source": [
    "print('What is your name?') # prints a message into the console\n",
    "name = input() # awaits input via keyboard\n",
    "print('It is good to meet you, ' + name)"
   ]
  },
  {
   "cell_type": "code",
   "execution_count": 96,
   "id": "73d9f5cf",
   "metadata": {},
   "outputs": [
    {
     "name": "stdout",
     "output_type": "stream",
     "text": [
      "4\n"
     ]
    }
   ],
   "source": [
    "def powerOfTwo(number):\n",
    "    return number * number # specifies a return value for the function\n",
    "\n",
    "# calling the function\n",
    "result = powerOfTwo(2) # the result is stored in a variable\n",
    "print(result)"
   ]
  },
  {
   "cell_type": "code",
   "execution_count": 97,
   "id": "c78e5fed",
   "metadata": {},
   "outputs": [
    {
     "name": "stdout",
     "output_type": "stream",
     "text": [
      "4\n",
      "6\n"
     ]
    }
   ],
   "source": [
    "def add2(number1, number2):\n",
    "    return number1 + number2\n",
    "\n",
    "def add3(number1, number2, number3):\n",
    "    return number1 + number2 + number3\n",
    "\n",
    "print(add2(2, 2))\n",
    "print(add3(2, 2, 2))"
   ]
  },
  {
   "cell_type": "code",
   "execution_count": 100,
   "id": "5af209b4",
   "metadata": {},
   "outputs": [
    {
     "name": "stdout",
     "output_type": "stream",
     "text": [
      "<class 'tuple'>\n",
      "4\n",
      "<class 'tuple'>\n",
      "15\n"
     ]
    }
   ],
   "source": [
    "def add(*args):\n",
    "    print(type(args))\n",
    "    result = 0\n",
    "    for x in args:\n",
    "        result += x\n",
    "    return result\n",
    "\n",
    "print(add(2, 2))\n",
    "print(add(2, 2, 2, 9))"
   ]
  },
  {
   "cell_type": "code",
   "execution_count": 101,
   "id": "aea11614",
   "metadata": {},
   "outputs": [
    {
     "name": "stdout",
     "output_type": "stream",
     "text": [
      "0\n",
      "4\n",
      "6\n",
      "8\n"
     ]
    }
   ],
   "source": [
    "def add(*args):\n",
    "    result = 0\n",
    "    for x in args:\n",
    "        result += x\n",
    "    return result\n",
    "\n",
    "print(add())\n",
    "print(add(2, 2))\n",
    "print(add(2, 2, 2))\n",
    "print(add(2, 2, 2, 2))"
   ]
  },
  {
   "cell_type": "markdown",
   "id": "ac33542e",
   "metadata": {},
   "source": [
    "### Imports"
   ]
  },
  {
   "cell_type": "code",
   "execution_count": 114,
   "id": "67a9f33c",
   "metadata": {},
   "outputs": [
    {
     "name": "stdout",
     "output_type": "stream",
     "text": [
      "7\n"
     ]
    }
   ],
   "source": [
    "import random as r\n",
    "\n",
    "print(r.randint(1, 10))"
   ]
  },
  {
   "cell_type": "markdown",
   "id": "6818da86",
   "metadata": {},
   "source": [
    "### Plotting"
   ]
  },
  {
   "cell_type": "code",
   "execution_count": 116,
   "id": "8152c5cb",
   "metadata": {},
   "outputs": [
    {
     "data": {
      "image/png": "[encoded data removed]",
      "text/plain": [
       "<Figure size 432x288 with 1 Axes>"
      ]
     },
     "metadata": {
      "needs_background": "light"
     },
     "output_type": "display_data"
    }
   ],
   "source": [
    "import matplotlib.pyplot as plt\n",
    "\n",
    "plt.scatter([0, 1, 2, 6], [0, 1, 2, 78])\n",
    "\n",
    "plt.show()"
   ]
  },
  {
   "cell_type": "code",
   "execution_count": 120,
   "id": "0a23c2c1-4337-4468-b0f0-cf770a59b288",
   "metadata": {},
   "outputs": [],
   "source": [
    "c = 10"
   ]
  },
  {
   "cell_type": "code",
   "execution_count": 122,
   "id": "40b24e7f",
   "metadata": {},
   "outputs": [
    {
     "data": {
      "image/png": "[encoded data removed]",
      "text/plain": [
       "<Figure size 432x288 with 1 Axes>"
      ]
     },
     "metadata": {
      "needs_background": "light"
     },
     "output_type": "display_data"
    }
   ],
   "source": [
    "import matplotlib.pyplot as plt\n",
    "\n",
    "plt.scatter([0, 1, 2], [0, 1, 2], c=\"green\", label=\"green dots\")\n",
    "plt.scatter([0.5, 0.5, 1.5], [1.5, 0.5, 0.5], c=\"blue\", label=\"blue dots\")\n",
    "plt.scatter([1, 5, 6], [2, 4, 7], c=\"yellow\", label=\"blue dots\")\n",
    "\n",
    "\n",
    "#plt.legend()\n",
    "plt.show()"
   ]
  },
  {
   "cell_type": "code",
   "execution_count": null,
   "id": "1fc3e06d",
   "metadata": {},
   "outputs": [],
   "source": []
  }
 ],
 "metadata": {
  "kernelspec": {
   "display_name": "Python 3 (ipykernel)",
   "language": "python",
   "name": "python3"
  },
  "language_info": {
   "codemirror_mode": {
    "name": "ipython",
    "version": 3
   },
   "file_extension": ".py",
   "mimetype": "text/x-python",
   "name": "python",
   "nbconvert_exporter": "python",
   "pygments_lexer": "ipython3",
   "version": "3.10.1"
  }
 },
 "nbformat": 4,
 "nbformat_minor": 5
}
