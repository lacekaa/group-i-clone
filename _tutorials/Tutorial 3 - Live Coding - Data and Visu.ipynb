{
 "cells": [
  {
   "cell_type": "markdown",
   "id": "209ee343",
   "metadata": {},
   "source": [
    "# Tutorial on Data Structures and Visualizations\n",
    "with NumPy, Pandas, and Matplotlib"
   ]
  },
  {
   "cell_type": "markdown",
   "id": "76bc6003",
   "metadata": {},
   "source": [
    "## Numpy"
   ]
  },
  {
   "cell_type": "markdown",
   "id": "00344c02",
   "metadata": {},
   "source": [
    "> NumPy is a library for the Python programming language, adding support for large, \n",
    "> multi-dimensional arrays [...], along with a large collection of high-level\n",
    "> mathematical functions to operate on these arrays. **from Wikipedia**\n",
    "\n",
    "[Find more details on numpy here.](https://numpy.org/doc/stable/user/quickstart.html)"
   ]
  },
  {
   "cell_type": "code",
   "execution_count": 24,
   "id": "d994a0bd",
   "metadata": {},
   "outputs": [],
   "source": [
    "# import numpy\n",
    "import numpy as np"
   ]
  },
  {
   "cell_type": "markdown",
   "id": "ead336db",
   "metadata": {},
   "source": [
    "NumPy’s main object is the homogeneous multidimensional array. It is a table of elements (usually numbers), all of the same type, indexed by a tuple of non-negative integers."
   ]
  },
  {
   "cell_type": "markdown",
   "id": "48184f95",
   "metadata": {},
   "source": [
    "### Create Array"
   ]
  },
  {
   "cell_type": "code",
   "execution_count": 3,
   "id": "53706d67",
   "metadata": {},
   "outputs": [
    {
     "name": "stdout",
     "output_type": "stream",
     "text": [
      "[2 3 4]\n",
      "[1.1 2.7 3.2]\n"
     ]
    }
   ],
   "source": [
    "# create numpy arrays\n",
    "a = np.array([2,3,4])\n",
    "b = np.array([1.1, 2.7, 3.2])\n",
    "print(a)\n",
    "print(b)"
   ]
  },
  {
   "cell_type": "code",
   "execution_count": 4,
   "id": "a892cf85",
   "metadata": {},
   "outputs": [
    {
     "name": "stdout",
     "output_type": "stream",
     "text": [
      "<class 'numpy.ndarray'>\n",
      "<class 'numpy.ndarray'>\n"
     ]
    }
   ],
   "source": [
    "# show the type\n",
    "print(type(a))"
   ]
  },
  {
   "cell_type": "code",
   "execution_count": 5,
   "id": "fdba4f17",
   "metadata": {},
   "outputs": [
    {
     "name": "stdout",
     "output_type": "stream",
     "text": [
      "int64\n",
      "float64\n"
     ]
    }
   ],
   "source": [
    "# the data type of the numpy arrays\n",
    "print(b.dtype)"
   ]
  },
  {
   "cell_type": "code",
   "execution_count": 13,
   "id": "8c60fd37",
   "metadata": {},
   "outputs": [
    {
     "name": "stdout",
     "output_type": "stream",
     "text": [
      "[[1 2]\n",
      " [3 4]]\n"
     ]
    }
   ],
   "source": [
    "# create multi-dimensional array\n",
    "c = np.array([[1, 2], [3, 4]])\n",
    "print(c)"
   ]
  },
  {
   "cell_type": "code",
   "execution_count": 17,
   "id": "72a94cce",
   "metadata": {},
   "outputs": [
    {
     "name": "stdout",
     "output_type": "stream",
     "text": [
      "[[1 2]\n",
      " [3 4]]\n"
     ]
    }
   ],
   "source": [
    "# it is also possible to use parentheses\n",
    "c = np.array([(1, 2), (3, 4)])\n",
    "print(c)"
   ]
  },
  {
   "cell_type": "code",
   "execution_count": 7,
   "id": "df319667",
   "metadata": {},
   "outputs": [
    {
     "data": {
      "text/plain": [
       "dtype('int64')"
      ]
     },
     "execution_count": 7,
     "metadata": {},
     "output_type": "execute_result"
    }
   ],
   "source": [
    "c.dtype"
   ]
  },
  {
   "cell_type": "code",
   "execution_count": 15,
   "id": "cd9e3178",
   "metadata": {},
   "outputs": [
    {
     "name": "stdout",
     "output_type": "stream",
     "text": [
      "[[1. 2.]\n",
      " [3. 4.]]\n"
     ]
    }
   ],
   "source": [
    "# create array with specfic type\n",
    "c = np.array([[1, 2], [3, 4]], dtype=float)\n",
    "print(c)"
   ]
  },
  {
   "cell_type": "code",
   "execution_count": 16,
   "id": "5299126a",
   "metadata": {},
   "outputs": [
    {
     "name": "stdout",
     "output_type": "stream",
     "text": [
      "[[0. 0. 0. 0.]\n",
      " [0. 0. 0. 0.]\n",
      " [0. 0. 0. 0.]\n",
      " [0. 0. 0. 0.]]\n"
     ]
    }
   ],
   "source": [
    "# create array with zeros\n",
    "d = np.zeros([4, 4])\n",
    "print(d)"
   ]
  },
  {
   "cell_type": "code",
   "execution_count": 10,
   "id": "26aed709",
   "metadata": {},
   "outputs": [
    {
     "data": {
      "text/plain": [
       "dtype('float64')"
      ]
     },
     "execution_count": 10,
     "metadata": {},
     "output_type": "execute_result"
    }
   ],
   "source": [
    "# default for zeros is float\n",
    "d.dtype"
   ]
  },
  {
   "cell_type": "markdown",
   "id": "2c2d215a",
   "metadata": {},
   "source": [
    "The following stuff is todo that needs to ne discussed"
   ]
  },
  {
   "cell_type": "code",
   "execution_count": 11,
   "id": "ab8c21dd",
   "metadata": {},
   "outputs": [
    {
     "name": "stdout",
     "output_type": "stream",
     "text": [
      "[0.         0.02020202 0.04040404 0.06060606 0.08080808 0.1010101\n",
      " 0.12121212 0.14141414 0.16161616 0.18181818 0.2020202  0.22222222\n",
      " 0.24242424 0.26262626 0.28282828 0.3030303  0.32323232 0.34343434\n",
      " 0.36363636 0.38383838 0.4040404  0.42424242 0.44444444 0.46464646\n",
      " 0.48484848 0.50505051 0.52525253 0.54545455 0.56565657 0.58585859\n",
      " 0.60606061 0.62626263 0.64646465 0.66666667 0.68686869 0.70707071\n",
      " 0.72727273 0.74747475 0.76767677 0.78787879 0.80808081 0.82828283\n",
      " 0.84848485 0.86868687 0.88888889 0.90909091 0.92929293 0.94949495\n",
      " 0.96969697 0.98989899 1.01010101 1.03030303 1.05050505 1.07070707\n",
      " 1.09090909 1.11111111 1.13131313 1.15151515 1.17171717 1.19191919\n",
      " 1.21212121 1.23232323 1.25252525 1.27272727 1.29292929 1.31313131\n",
      " 1.33333333 1.35353535 1.37373737 1.39393939 1.41414141 1.43434343\n",
      " 1.45454545 1.47474747 1.49494949 1.51515152 1.53535354 1.55555556\n",
      " 1.57575758 1.5959596  1.61616162 1.63636364 1.65656566 1.67676768\n",
      " 1.6969697  1.71717172 1.73737374 1.75757576 1.77777778 1.7979798\n",
      " 1.81818182 1.83838384 1.85858586 1.87878788 1.8989899  1.91919192\n",
      " 1.93939394 1.95959596 1.97979798 2.        ]\n"
     ]
    }
   ],
   "source": [
    "# create an array with 100 values from 0 to 2 (with equal distance between them)\n",
    "x = np.linspace(0, 2, 100)\n",
    "print(x)"
   ]
  },
  {
   "cell_type": "markdown",
   "id": "879439b2",
   "metadata": {},
   "source": [
    "### Metrics"
   ]
  },
  {
   "cell_type": "code",
   "execution_count": 62,
   "id": "d6c30118",
   "metadata": {},
   "outputs": [],
   "source": [
    "a = np.array([[1, 2], [3, 4]])"
   ]
  },
  {
   "cell_type": "code",
   "execution_count": 63,
   "id": "05fa8d19",
   "metadata": {},
   "outputs": [
    {
     "data": {
      "text/plain": [
       "2"
      ]
     },
     "execution_count": 63,
     "metadata": {},
     "output_type": "execute_result"
    }
   ],
   "source": [
    "# get number of dimensions (in numpy dimensions are called axes)\n",
    "a.ndim"
   ]
  },
  {
   "cell_type": "code",
   "execution_count": 64,
   "id": "30a414d6",
   "metadata": {},
   "outputs": [
    {
     "data": {
      "text/plain": [
       "(2, 2)"
      ]
     },
     "execution_count": 64,
     "metadata": {},
     "output_type": "execute_result"
    }
   ],
   "source": [
    "# get the shape (tupel of integer showing the size of every dimension (axes))\n",
    "a.shape"
   ]
  },
  {
   "cell_type": "code",
   "execution_count": 65,
   "id": "fffea1fa",
   "metadata": {},
   "outputs": [
    {
     "data": {
      "text/plain": [
       "4"
      ]
     },
     "execution_count": 65,
     "metadata": {},
     "output_type": "execute_result"
    }
   ],
   "source": [
    "# get number of elements in array\n",
    "a.size"
   ]
  },
  {
   "cell_type": "markdown",
   "id": "5521f38a",
   "metadata": {},
   "source": [
    "### Indexing and Selection"
   ]
  },
  {
   "cell_type": "markdown",
   "id": "f46ef2a8",
   "metadata": {},
   "source": [
    "https://www.w3schools.com/python/numpy/numpy_array_indexing.asp"
   ]
  },
  {
   "cell_type": "code",
   "execution_count": 22,
   "id": "a5986579",
   "metadata": {},
   "outputs": [
    {
     "name": "stdout",
     "output_type": "stream",
     "text": [
      "1\n"
     ]
    }
   ],
   "source": [
    "# select the first element from an array by index\n",
    "a = np.array([1, 2, 3, 4, 5])\n",
    "print(a[0])"
   ]
  },
  {
   "cell_type": "code",
   "execution_count": 23,
   "id": "bcfd56ff",
   "metadata": {},
   "outputs": [
    {
     "name": "stdout",
     "output_type": "stream",
     "text": [
      "5\n"
     ]
    }
   ],
   "source": [
    "# get last element from array\n",
    "print(a[-1])"
   ]
  },
  {
   "cell_type": "code",
   "execution_count": 24,
   "id": "ec9ed34e",
   "metadata": {},
   "outputs": [
    {
     "name": "stdout",
     "output_type": "stream",
     "text": [
      "[[1 2 3 4]\n",
      " [6 7 8 9]]\n"
     ]
    }
   ],
   "source": [
    "# creating a two-dimensional array\n",
    "a = np.array([[1, 2, 3, 4],[6, 7, 8, 9]])\n",
    "print(a)"
   ]
  },
  {
   "cell_type": "code",
   "execution_count": 19,
   "id": "454fd36d",
   "metadata": {},
   "outputs": [
    {
     "name": "stdout",
     "output_type": "stream",
     "text": [
      "2\n"
     ]
    }
   ],
   "source": [
    "# get second element of first row\n",
    "print(a[0, 1])"
   ]
  },
  {
   "cell_type": "code",
   "execution_count": 20,
   "id": "a5c3c27a",
   "metadata": {},
   "outputs": [
    {
     "name": "stdout",
     "output_type": "stream",
     "text": [
      "6\n"
     ]
    }
   ],
   "source": [
    "# get first element of second row\n",
    "print(a[1, 0])"
   ]
  },
  {
   "cell_type": "markdown",
   "id": "d4fd5a05",
   "metadata": {},
   "source": [
    "#### Slicing"
   ]
  },
  {
   "cell_type": "code",
   "execution_count": 29,
   "id": "a01b9336",
   "metadata": {},
   "outputs": [],
   "source": [
    "a = np.array([1, 2, 3, 4, 5])"
   ]
  },
  {
   "cell_type": "code",
   "execution_count": 26,
   "id": "77a0831d",
   "metadata": {},
   "outputs": [
    {
     "name": "stdout",
     "output_type": "stream",
     "text": [
      "[1 2]\n"
     ]
    }
   ],
   "source": [
    "# select a slice of an array\n",
    "print(a[0:2])"
   ]
  },
  {
   "cell_type": "code",
   "execution_count": 27,
   "id": "955b2ffc",
   "metadata": {},
   "outputs": [
    {
     "name": "stdout",
     "output_type": "stream",
     "text": [
      "[2 3 4 5]\n"
     ]
    }
   ],
   "source": [
    "# slice from index to the end\n",
    "print(a[1:])"
   ]
  },
  {
   "cell_type": "code",
   "execution_count": 28,
   "id": "006a5a0b",
   "metadata": {},
   "outputs": [
    {
     "name": "stdout",
     "output_type": "stream",
     "text": [
      "[4 5]\n"
     ]
    }
   ],
   "source": [
    "# slice from the end\n",
    "print(a[-2:])"
   ]
  },
  {
   "cell_type": "markdown",
   "id": "cd85905f",
   "metadata": {},
   "source": [
    "### Datatypes"
   ]
  },
  {
   "cell_type": "markdown",
   "id": "2702d579",
   "metadata": {},
   "source": [
    "By default Python has data types like\n",
    "* strings\n",
    "* integer\n",
    "* float\n",
    "* boolean\n",
    "* complex"
   ]
  },
  {
   "cell_type": "markdown",
   "id": "fe3b8901",
   "metadata": {},
   "source": [
    "NumPy offers some additional datatypes and represents datatypes with one letter\n",
    "* __i__ integer\n",
    "* __b__ boolean\n",
    "* __u__ unsigned integer\n",
    "* __f__ float\n",
    "* __c__ complex float\n",
    "* __m__ timedelta\n",
    "* __M__ datetime\n",
    "* __O__ object\n",
    "* __S__ string\n",
    "* __U__ unicode string"
   ]
  },
  {
   "cell_type": "markdown",
   "id": "a1b7ca55",
   "metadata": {},
   "source": [
    "[Click here](https://www.w3schools.com/python/numpy/numpy_data_types.asp) for more information on NumPy data types."
   ]
  },
  {
   "cell_type": "code",
   "execution_count": 30,
   "id": "b26de58c",
   "metadata": {},
   "outputs": [
    {
     "name": "stdout",
     "output_type": "stream",
     "text": [
      "int64\n"
     ]
    }
   ],
   "source": [
    "print(a.dtype)"
   ]
  },
  {
   "cell_type": "code",
   "execution_count": 31,
   "id": "80840dc9",
   "metadata": {},
   "outputs": [
    {
     "name": "stdout",
     "output_type": "stream",
     "text": [
      "<U5\n"
     ]
    }
   ],
   "source": [
    "b = np.array(['red', 'green', 'blue'])\n",
    "print(b.dtype)"
   ]
  },
  {
   "cell_type": "markdown",
   "id": "932b884e",
   "metadata": {},
   "source": [
    "Here NumPy informs us that the type is unicode string and the longest string defines the size."
   ]
  },
  {
   "cell_type": "markdown",
   "id": "2a5cf287",
   "metadata": {},
   "source": [
    "### Copy vs. View"
   ]
  },
  {
   "cell_type": "markdown",
   "id": "bba8523f",
   "metadata": {},
   "source": [
    "#### Copy"
   ]
  },
  {
   "cell_type": "code",
   "execution_count": 32,
   "id": "d6e45ca8",
   "metadata": {},
   "outputs": [
    {
     "name": "stdout",
     "output_type": "stream",
     "text": [
      "[42  2  3  4  5]\n",
      "[1 2 3 4 5]\n"
     ]
    }
   ],
   "source": [
    "# make a copy\n",
    "arr = np.array([1, 2, 3, 4, 5])\n",
    "x = arr.copy()\n",
    "arr[0] = 42\n",
    "\n",
    "print(arr)\n",
    "print(x)"
   ]
  },
  {
   "cell_type": "markdown",
   "id": "eed42375",
   "metadata": {},
   "source": [
    "#### View"
   ]
  },
  {
   "cell_type": "code",
   "execution_count": 33,
   "id": "7cb3c177",
   "metadata": {},
   "outputs": [
    {
     "name": "stdout",
     "output_type": "stream",
     "text": [
      "[42  2  3  4  5]\n",
      "[42  2  3  4  5]\n"
     ]
    }
   ],
   "source": [
    "# use a view\n",
    "arr = np.array([1, 2, 3, 4, 5])\n",
    "x = arr.view()\n",
    "arr[0] = 42 # changing the original\n",
    "\n",
    "print(arr)\n",
    "print(x)"
   ]
  },
  {
   "cell_type": "code",
   "execution_count": 34,
   "id": "99601e0f",
   "metadata": {},
   "outputs": [
    {
     "name": "stdout",
     "output_type": "stream",
     "text": [
      "[42  2  3  4  5]\n",
      "[42  2  3  4  5]\n"
     ]
    }
   ],
   "source": [
    "# use a view\n",
    "arr = np.array([1, 2, 3, 4, 5])\n",
    "x = arr.view()\n",
    "x[0] = 42 # changing the view\n",
    "\n",
    "print(arr)\n",
    "print(x)"
   ]
  },
  {
   "cell_type": "markdown",
   "id": "80bdd8d2",
   "metadata": {},
   "source": [
    "### Shape and Reshape"
   ]
  },
  {
   "cell_type": "code",
   "execution_count": 115,
   "id": "5244f8bd",
   "metadata": {},
   "outputs": [
    {
     "name": "stdout",
     "output_type": "stream",
     "text": [
      "(5,)\n",
      "5\n"
     ]
    }
   ],
   "source": [
    "# the attribute shape returns a tupel with the number of objects in a dimension\n",
    "a = np.array([1, 2, 3, 4, 5])\n",
    "print(a.shape)\n",
    "print(len(a))"
   ]
  },
  {
   "cell_type": "code",
   "execution_count": 116,
   "id": "0a05a5de",
   "metadata": {},
   "outputs": [
    {
     "name": "stdout",
     "output_type": "stream",
     "text": [
      "(2, 2)\n",
      "2\n"
     ]
    }
   ],
   "source": [
    "a = np.array([[1, 2], [3, 4]])\n",
    "print(a.shape)\n",
    "print(len(a))"
   ]
  },
  {
   "cell_type": "code",
   "execution_count": 43,
   "id": "5fff9613",
   "metadata": {},
   "outputs": [
    {
     "name": "stdout",
     "output_type": "stream",
     "text": [
      "[[1 2]\n",
      " [3 4]\n",
      " [5 6]]\n"
     ]
    }
   ],
   "source": [
    "# reshaping a 1D array into a 2D one\n",
    "a = np.array([1, 2, 3, 4, 5, 6])\n",
    "print(a.reshape(3,2))"
   ]
  },
  {
   "cell_type": "code",
   "execution_count": 44,
   "id": "c0f0f66e",
   "metadata": {},
   "outputs": [
    {
     "name": "stdout",
     "output_type": "stream",
     "text": [
      "[[1 2 3]\n",
      " [4 5 6]]\n"
     ]
    }
   ],
   "source": [
    "print(a.reshape(2,3))"
   ]
  },
  {
   "cell_type": "markdown",
   "id": "2626af22",
   "metadata": {},
   "source": [
    "### Iterating"
   ]
  },
  {
   "cell_type": "code",
   "execution_count": 46,
   "id": "edfb88f6",
   "metadata": {},
   "outputs": [
    {
     "name": "stdout",
     "output_type": "stream",
     "text": [
      "1\n",
      "2\n",
      "3\n",
      "4\n",
      "5\n"
     ]
    }
   ],
   "source": [
    "# iterate 1D arrays\n",
    "a = np.array([1, 2, 3, 4, 5])\n",
    "\n",
    "for x in a:\n",
    "    print(x)"
   ]
  },
  {
   "cell_type": "code",
   "execution_count": 48,
   "id": "833f91a3",
   "metadata": {},
   "outputs": [
    {
     "name": "stdout",
     "output_type": "stream",
     "text": [
      "1\n",
      "2\n",
      "3\n",
      "4\n",
      "5\n"
     ]
    }
   ],
   "source": [
    "for i in range(len(a)):\n",
    "    print(a[i])"
   ]
  },
  {
   "cell_type": "code",
   "execution_count": 49,
   "id": "a583a1d8",
   "metadata": {},
   "outputs": [
    {
     "name": "stdout",
     "output_type": "stream",
     "text": [
      "1\n",
      "2\n",
      "3\n",
      "4\n",
      "6\n",
      "7\n",
      "8\n",
      "9\n"
     ]
    }
   ],
   "source": [
    "a = np.array([[1, 2, 3, 4],[6, 7, 8, 9]])\n",
    "\n",
    "for x in a:\n",
    "    for y in x:\n",
    "        print(y)"
   ]
  },
  {
   "cell_type": "markdown",
   "id": "8cfbe604",
   "metadata": {},
   "source": [
    "### Search"
   ]
  },
  {
   "cell_type": "code",
   "execution_count": 50,
   "id": "c363fae4",
   "metadata": {},
   "outputs": [
    {
     "name": "stdout",
     "output_type": "stream",
     "text": [
      "(array([2, 7, 8]),)\n"
     ]
    }
   ],
   "source": [
    "a = np.array([1, 2, 3, 4, 5, 2, 1, 3, 3])\n",
    "\n",
    "# find indexes where value is 3\n",
    "print(np.where(a == 3))"
   ]
  },
  {
   "cell_type": "code",
   "execution_count": 51,
   "id": "02a9fe28",
   "metadata": {},
   "outputs": [
    {
     "name": "stdout",
     "output_type": "stream",
     "text": [
      "(array([0, 2, 4, 6, 7, 8]),)\n"
     ]
    }
   ],
   "source": [
    "# find indexes with uneven numbers\n",
    "print(np.where(a%2 != 0))"
   ]
  },
  {
   "cell_type": "markdown",
   "id": "a1c85684",
   "metadata": {},
   "source": [
    "### Sorting"
   ]
  },
  {
   "cell_type": "code",
   "execution_count": 52,
   "id": "58c977f2",
   "metadata": {},
   "outputs": [
    {
     "name": "stdout",
     "output_type": "stream",
     "text": [
      "[1 1 2 2 3 3 3 4 5]\n"
     ]
    }
   ],
   "source": [
    "# sort array\n",
    "print(np.sort(a))"
   ]
  },
  {
   "cell_type": "code",
   "execution_count": 54,
   "id": "6dbb23b5",
   "metadata": {},
   "outputs": [
    {
     "name": "stdout",
     "output_type": "stream",
     "text": [
      "[5 4 3 3 3 2 2 1 1]\n"
     ]
    }
   ],
   "source": [
    "# sort the other way around with a little trick\n",
    "print(-np.sort(-a))"
   ]
  },
  {
   "cell_type": "markdown",
   "id": "38a6c775",
   "metadata": {},
   "source": [
    "## Pandas"
   ]
  },
  {
   "cell_type": "markdown",
   "id": "a551565a",
   "metadata": {},
   "source": [
    "Pandas is build on top of NumPy, focusing on in-memory 2d tables that provide richer functionality and different data types.\n",
    "\n",
    "> Pandas is a software library written for the Python programming language for data\n",
    "> manipulation and analysis. In particular, it offers data structures and operations for\n",
    "> manipulating numerical tables and time series. __from Wikipedia__\n",
    "\n",
    "In this tutorial, I mainly follow the [offical pandas user guide](https://pandas.pydata.org/docs/user_guide/10min.html)."
   ]
  },
  {
   "cell_type": "code",
   "execution_count": 57,
   "id": "55f81e90",
   "metadata": {},
   "outputs": [],
   "source": [
    "# import pandas\n",
    "import pandas as pd"
   ]
  },
  {
   "cell_type": "markdown",
   "id": "d33e76ac",
   "metadata": {},
   "source": [
    "### Create Objects"
   ]
  },
  {
   "cell_type": "markdown",
   "id": "a510c101",
   "metadata": {},
   "source": [
    "#### Create a Series"
   ]
  },
  {
   "cell_type": "markdown",
   "id": "cc405935",
   "metadata": {},
   "source": [
    "Similar to an array or list."
   ]
  },
  {
   "cell_type": "code",
   "execution_count": 12,
   "id": "b4c65068",
   "metadata": {},
   "outputs": [
    {
     "name": "stdout",
     "output_type": "stream",
     "text": [
      "0    1\n",
      "1    2\n",
      "2    3\n",
      "3    4\n",
      "4    5\n",
      "5    8\n",
      "dtype: int64\n"
     ]
    }
   ],
   "source": [
    "s = pd.Series([1, 2, 3, 4, 5, 8])\n",
    "print(s)"
   ]
  },
  {
   "cell_type": "markdown",
   "id": "754ace8c",
   "metadata": {},
   "source": [
    "#### Create a DataFrame"
   ]
  },
  {
   "cell_type": "markdown",
   "id": "b39de65b",
   "metadata": {},
   "source": [
    "A Pandas DataFrame is basically several Series combined."
   ]
  },
  {
   "cell_type": "code",
   "execution_count": 12,
   "id": "b4664cf2",
   "metadata": {},
   "outputs": [
    {
     "name": "stdout",
     "output_type": "stream",
     "text": [
      "     A  B     C\n",
      "0  1.0  1  True\n",
      "1  1.0  2  True\n",
      "2  1.0  3  True\n"
     ]
    }
   ],
   "source": [
    "# create a dataframe from a dict object containing the columns\n",
    "df1 = pd.DataFrame(\n",
    "    {\n",
    "        \"A\": 1.0,\n",
    "        \"B\": pd.Series([1, 2, 3]),\n",
    "        \"C\": True\n",
    "    }\n",
    ")\n",
    "print(df1)"
   ]
  },
  {
   "cell_type": "code",
   "execution_count": 14,
   "id": "36c5ba18",
   "metadata": {},
   "outputs": [
    {
     "name": "stdout",
     "output_type": "stream",
     "text": [
      "A    float64\n",
      "B      int64\n",
      "C       bool\n",
      "dtype: object\n"
     ]
    }
   ],
   "source": [
    "print(df1.dtypes)"
   ]
  },
  {
   "cell_type": "code",
   "execution_count": 25,
   "id": "683a9c87",
   "metadata": {},
   "outputs": [
    {
     "name": "stdout",
     "output_type": "stream",
     "text": [
      "          0         1         2         3         4         5         6  \\\n",
      "0  1.912707 -1.175194 -0.439828 -1.584741 -0.558594 -0.061947 -0.403085   \n",
      "1 -0.106303 -0.201669  1.385069 -0.415475 -0.697072 -1.315049  1.850633   \n",
      "2  0.302120  1.571183  0.720835  0.622757  0.186416 -0.570612 -0.483853   \n",
      "3  0.554010  0.238735  0.816043 -0.229889  1.059423 -0.099396 -0.545719   \n",
      "4 -0.100404  0.233400  1.769245 -1.755601  0.910272  0.105253 -0.928767   \n",
      "5 -1.974237  0.995469  0.524299  0.167532 -0.525556 -0.443694  0.858684   \n",
      "6  1.350088 -1.008031 -2.179781 -0.935600 -0.243324 -1.015463 -0.143692   \n",
      "7  0.276314  0.012092 -0.569280  0.003044 -0.951214  0.375466  1.360406   \n",
      "8 -1.106170 -1.386908  1.078924 -0.976241  0.557081 -1.199145 -1.037135   \n",
      "9 -2.122414 -1.575383 -0.458788  1.050434  0.096926  2.219802  0.123950   \n",
      "\n",
      "          7         8         9  \n",
      "0 -0.401009 -0.981270  0.761806  \n",
      "1 -0.078931 -1.751133 -2.323325  \n",
      "2 -0.931561 -1.082551 -0.002478  \n",
      "3  0.049763  1.198212  0.278427  \n",
      "4  0.201712  0.079400  1.125886  \n",
      "5  0.665856  0.781521 -1.096162  \n",
      "6  0.045937  0.656489  1.122656  \n",
      "7 -0.508022 -0.979138  0.810259  \n",
      "8  0.194850 -0.310678 -1.047363  \n",
      "9  0.062149  0.553545  0.486472  \n"
     ]
    }
   ],
   "source": [
    "# create a dataframe from a numpy array\n",
    "df2 = pd.DataFrame(np.random.randn(10, 10))\n",
    "print(df2)"
   ]
  },
  {
   "cell_type": "markdown",
   "id": "1ed2eb0a",
   "metadata": {},
   "source": [
    "### Import and Export"
   ]
  },
  {
   "cell_type": "markdown",
   "id": "cf00eb0b",
   "metadata": {},
   "source": [
    "DataFrames can be imported and exported from/to different formats.\n",
    "We focus on CSV files here, but HDF5 and Excel are supported as well."
   ]
  },
  {
   "cell_type": "markdown",
   "id": "584480a4",
   "metadata": {},
   "source": [
    "*Example of CSV-file:*\n",
    "```csv\n",
    "header1,header2,header3\n",
    "value1,value2,value3\n",
    "value1,value2,value3\n",
    "```"
   ]
  },
  {
   "cell_type": "markdown",
   "id": "9791e392",
   "metadata": {},
   "source": [
    "A defined charater is separating the values (the default case is a comma; hence, comma-separated values CSV).\n",
    "Every lines represents a row of the table and optionally the first line is the header of the table."
   ]
  },
  {
   "cell_type": "markdown",
   "id": "2673debe",
   "metadata": {},
   "source": [
    "#### Import CSV"
   ]
  },
  {
   "cell_type": "code",
   "execution_count": 15,
   "id": "a15746e8",
   "metadata": {},
   "outputs": [
    {
     "data": {
      "text/html": [
       "<div>\n",
       "<style scoped>\n",
       "    .dataframe tbody tr th:only-of-type {\n",
       "        vertical-align: middle;\n",
       "    }\n",
       "\n",
       "    .dataframe tbody tr th {\n",
       "        vertical-align: top;\n",
       "    }\n",
       "\n",
       "    .dataframe thead th {\n",
       "        text-align: right;\n",
       "    }\n",
       "</style>\n",
       "<table border=\"1\" class=\"dataframe\">\n",
       "  <thead>\n",
       "    <tr style=\"text-align: right;\">\n",
       "      <th></th>\n",
       "      <th>Tattag</th>\n",
       "      <th>Zeit</th>\n",
       "      <th>Tatort</th>\n",
       "      <th>Tatort 2</th>\n",
       "      <th>Tatbestand</th>\n",
       "      <th>Geldbuße</th>\n",
       "    </tr>\n",
       "  </thead>\n",
       "  <tbody>\n",
       "    <tr>\n",
       "      <th>0</th>\n",
       "      <td>01.01.2021</td>\n",
       "      <td>06:57</td>\n",
       "      <td>Aachen, Turmstr./Prof.Pirletstr.</td>\n",
       "      <td>Fahrtrichtung Ponttor</td>\n",
       "      <td>103202</td>\n",
       "      <td>15</td>\n",
       "    </tr>\n",
       "    <tr>\n",
       "      <th>1</th>\n",
       "      <td>01.01.2021</td>\n",
       "      <td>09:30</td>\n",
       "      <td>Aachen, Eupener Str. Höhe 274</td>\n",
       "      <td>Fahrtrichtung Belgien</td>\n",
       "      <td>103202</td>\n",
       "      <td>15</td>\n",
       "    </tr>\n",
       "    <tr>\n",
       "      <th>2</th>\n",
       "      <td>01.01.2021</td>\n",
       "      <td>11:44</td>\n",
       "      <td>Aachen, Eupener Str. Höhe 274</td>\n",
       "      <td>Fahrtrichtung Belgien</td>\n",
       "      <td>103202</td>\n",
       "      <td>15</td>\n",
       "    </tr>\n",
       "    <tr>\n",
       "      <th>3</th>\n",
       "      <td>01.01.2021</td>\n",
       "      <td>11:54</td>\n",
       "      <td>Aachen, Turmstr./Prof.Pirletstr.</td>\n",
       "      <td>Fahrtrichtung Ponttor</td>\n",
       "      <td>103202</td>\n",
       "      <td>15</td>\n",
       "    </tr>\n",
       "    <tr>\n",
       "      <th>4</th>\n",
       "      <td>01.01.2021</td>\n",
       "      <td>13:18</td>\n",
       "      <td>Aachen, Eupener Str. Höhe 274</td>\n",
       "      <td>Fahrtrichtung Belgien</td>\n",
       "      <td>103202</td>\n",
       "      <td>15</td>\n",
       "    </tr>\n",
       "    <tr>\n",
       "      <th>...</th>\n",
       "      <td>...</td>\n",
       "      <td>...</td>\n",
       "      <td>...</td>\n",
       "      <td>...</td>\n",
       "      <td>...</td>\n",
       "      <td>...</td>\n",
       "    </tr>\n",
       "    <tr>\n",
       "      <th>67944</th>\n",
       "      <td>31.12.2021</td>\n",
       "      <td>00:36</td>\n",
       "      <td>Aachen, Eupener Str. Höhe 274</td>\n",
       "      <td>Fahrtrichtung Innenstadt</td>\n",
       "      <td>103762</td>\n",
       "      <td>115</td>\n",
       "    </tr>\n",
       "    <tr>\n",
       "      <th>67945</th>\n",
       "      <td>31.12.2021</td>\n",
       "      <td>16:15</td>\n",
       "      <td>Aachen, Eupener Str. Höhe 274</td>\n",
       "      <td>Fahrtrichtung Innenstadt</td>\n",
       "      <td>103762</td>\n",
       "      <td>115</td>\n",
       "    </tr>\n",
       "    <tr>\n",
       "      <th>67946</th>\n",
       "      <td>31.12.2021</td>\n",
       "      <td>16:59</td>\n",
       "      <td>Aachen, Turmstr./Prof.Pirletstr.</td>\n",
       "      <td>Fahrtrichtung Junkerstr.</td>\n",
       "      <td>103762</td>\n",
       "      <td>115</td>\n",
       "    </tr>\n",
       "    <tr>\n",
       "      <th>67947</th>\n",
       "      <td>31.12.2021</td>\n",
       "      <td>20:22</td>\n",
       "      <td>Aachen, Berliner Ring, km 0,4</td>\n",
       "      <td>Fahrtri. Jülicher Str.</td>\n",
       "      <td>141240</td>\n",
       "      <td>40</td>\n",
       "    </tr>\n",
       "    <tr>\n",
       "      <th>67948</th>\n",
       "      <td>31.12.2021</td>\n",
       "      <td>13:49</td>\n",
       "      <td>Aachen, Eupener Str. Höhe 274</td>\n",
       "      <td>Fahrtrichtung Innenstadt</td>\n",
       "      <td>123624</td>\n",
       "      <td>115</td>\n",
       "    </tr>\n",
       "  </tbody>\n",
       "</table>\n",
       "<p>67949 rows × 6 columns</p>\n",
       "</div>"
      ],
      "text/plain": [
       "           Tattag   Zeit                            Tatort  \\\n",
       "0      01.01.2021  06:57  Aachen, Turmstr./Prof.Pirletstr.   \n",
       "1      01.01.2021  09:30     Aachen, Eupener Str. Höhe 274   \n",
       "2      01.01.2021  11:44     Aachen, Eupener Str. Höhe 274   \n",
       "3      01.01.2021  11:54  Aachen, Turmstr./Prof.Pirletstr.   \n",
       "4      01.01.2021  13:18     Aachen, Eupener Str. Höhe 274   \n",
       "...           ...    ...                               ...   \n",
       "67944  31.12.2021  00:36     Aachen, Eupener Str. Höhe 274   \n",
       "67945  31.12.2021  16:15     Aachen, Eupener Str. Höhe 274   \n",
       "67946  31.12.2021  16:59  Aachen, Turmstr./Prof.Pirletstr.   \n",
       "67947  31.12.2021  20:22     Aachen, Berliner Ring, km 0,4   \n",
       "67948  31.12.2021  13:49     Aachen, Eupener Str. Höhe 274   \n",
       "\n",
       "                       Tatort 2  Tatbestand  Geldbuße  \n",
       "0         Fahrtrichtung Ponttor      103202        15  \n",
       "1         Fahrtrichtung Belgien      103202        15  \n",
       "2         Fahrtrichtung Belgien      103202        15  \n",
       "3         Fahrtrichtung Ponttor      103202        15  \n",
       "4         Fahrtrichtung Belgien      103202        15  \n",
       "...                         ...         ...       ...  \n",
       "67944  Fahrtrichtung Innenstadt      103762       115  \n",
       "67945  Fahrtrichtung Innenstadt      103762       115  \n",
       "67946  Fahrtrichtung Junkerstr.      103762       115  \n",
       "67947    Fahrtri. Jülicher Str.      141240        40  \n",
       "67948  Fahrtrichtung Innenstadt      123624       115  \n",
       "\n",
       "[67949 rows x 6 columns]"
      ]
     },
     "execution_count": 15,
     "metadata": {},
     "output_type": "execute_result"
    }
   ],
   "source": [
    "df3 = pd.read_csv(\"bussgelder.csv\", sep=';')\n",
    "df3"
   ]
  },
  {
   "cell_type": "markdown",
   "id": "c413613f",
   "metadata": {},
   "source": [
    "#### Export CSV"
   ]
  },
  {
   "cell_type": "code",
   "execution_count": 13,
   "id": "a954a071",
   "metadata": {},
   "outputs": [],
   "source": [
    "df1.to_csv(\"test.csv\")"
   ]
  },
  {
   "cell_type": "markdown",
   "id": "1cb99b9c",
   "metadata": {},
   "source": [
    "### Inspecting Data"
   ]
  },
  {
   "cell_type": "markdown",
   "id": "bdfce365",
   "metadata": {},
   "source": [
    "#### View the top rows"
   ]
  },
  {
   "cell_type": "code",
   "execution_count": 16,
   "id": "2119004a",
   "metadata": {},
   "outputs": [
    {
     "data": {
      "text/html": [
       "<div>\n",
       "<style scoped>\n",
       "    .dataframe tbody tr th:only-of-type {\n",
       "        vertical-align: middle;\n",
       "    }\n",
       "\n",
       "    .dataframe tbody tr th {\n",
       "        vertical-align: top;\n",
       "    }\n",
       "\n",
       "    .dataframe thead th {\n",
       "        text-align: right;\n",
       "    }\n",
       "</style>\n",
       "<table border=\"1\" class=\"dataframe\">\n",
       "  <thead>\n",
       "    <tr style=\"text-align: right;\">\n",
       "      <th></th>\n",
       "      <th>Tattag</th>\n",
       "      <th>Zeit</th>\n",
       "      <th>Tatort</th>\n",
       "      <th>Tatort 2</th>\n",
       "      <th>Tatbestand</th>\n",
       "      <th>Geldbuße</th>\n",
       "    </tr>\n",
       "  </thead>\n",
       "  <tbody>\n",
       "    <tr>\n",
       "      <th>0</th>\n",
       "      <td>01.01.2021</td>\n",
       "      <td>06:57</td>\n",
       "      <td>Aachen, Turmstr./Prof.Pirletstr.</td>\n",
       "      <td>Fahrtrichtung Ponttor</td>\n",
       "      <td>103202</td>\n",
       "      <td>15</td>\n",
       "    </tr>\n",
       "    <tr>\n",
       "      <th>1</th>\n",
       "      <td>01.01.2021</td>\n",
       "      <td>09:30</td>\n",
       "      <td>Aachen, Eupener Str. Höhe 274</td>\n",
       "      <td>Fahrtrichtung Belgien</td>\n",
       "      <td>103202</td>\n",
       "      <td>15</td>\n",
       "    </tr>\n",
       "    <tr>\n",
       "      <th>2</th>\n",
       "      <td>01.01.2021</td>\n",
       "      <td>11:44</td>\n",
       "      <td>Aachen, Eupener Str. Höhe 274</td>\n",
       "      <td>Fahrtrichtung Belgien</td>\n",
       "      <td>103202</td>\n",
       "      <td>15</td>\n",
       "    </tr>\n",
       "    <tr>\n",
       "      <th>3</th>\n",
       "      <td>01.01.2021</td>\n",
       "      <td>11:54</td>\n",
       "      <td>Aachen, Turmstr./Prof.Pirletstr.</td>\n",
       "      <td>Fahrtrichtung Ponttor</td>\n",
       "      <td>103202</td>\n",
       "      <td>15</td>\n",
       "    </tr>\n",
       "    <tr>\n",
       "      <th>4</th>\n",
       "      <td>01.01.2021</td>\n",
       "      <td>13:18</td>\n",
       "      <td>Aachen, Eupener Str. Höhe 274</td>\n",
       "      <td>Fahrtrichtung Belgien</td>\n",
       "      <td>103202</td>\n",
       "      <td>15</td>\n",
       "    </tr>\n",
       "  </tbody>\n",
       "</table>\n",
       "</div>"
      ],
      "text/plain": [
       "       Tattag   Zeit                            Tatort               Tatort 2  \\\n",
       "0  01.01.2021  06:57  Aachen, Turmstr./Prof.Pirletstr.  Fahrtrichtung Ponttor   \n",
       "1  01.01.2021  09:30     Aachen, Eupener Str. Höhe 274  Fahrtrichtung Belgien   \n",
       "2  01.01.2021  11:44     Aachen, Eupener Str. Höhe 274  Fahrtrichtung Belgien   \n",
       "3  01.01.2021  11:54  Aachen, Turmstr./Prof.Pirletstr.  Fahrtrichtung Ponttor   \n",
       "4  01.01.2021  13:18     Aachen, Eupener Str. Höhe 274  Fahrtrichtung Belgien   \n",
       "\n",
       "   Tatbestand  Geldbuße  \n",
       "0      103202        15  \n",
       "1      103202        15  \n",
       "2      103202        15  \n",
       "3      103202        15  \n",
       "4      103202        15  "
      ]
     },
     "execution_count": 16,
     "metadata": {},
     "output_type": "execute_result"
    }
   ],
   "source": [
    "# default is 5 rows\n",
    "df3.head()"
   ]
  },
  {
   "cell_type": "markdown",
   "id": "3b7f3d47",
   "metadata": {},
   "source": [
    "#### View the bottom rows"
   ]
  },
  {
   "cell_type": "code",
   "execution_count": 20,
   "id": "b5b16f0f",
   "metadata": {},
   "outputs": [
    {
     "data": {
      "text/html": [
       "<div>\n",
       "<style scoped>\n",
       "    .dataframe tbody tr th:only-of-type {\n",
       "        vertical-align: middle;\n",
       "    }\n",
       "\n",
       "    .dataframe tbody tr th {\n",
       "        vertical-align: top;\n",
       "    }\n",
       "\n",
       "    .dataframe thead th {\n",
       "        text-align: right;\n",
       "    }\n",
       "</style>\n",
       "<table border=\"1\" class=\"dataframe\">\n",
       "  <thead>\n",
       "    <tr style=\"text-align: right;\">\n",
       "      <th></th>\n",
       "      <th>Tattag</th>\n",
       "      <th>Zeit</th>\n",
       "      <th>Tatort</th>\n",
       "      <th>Tatort 2</th>\n",
       "      <th>Tatbestand</th>\n",
       "      <th>Geldbuße</th>\n",
       "    </tr>\n",
       "  </thead>\n",
       "  <tbody>\n",
       "    <tr>\n",
       "      <th>67947</th>\n",
       "      <td>31.12.2021</td>\n",
       "      <td>20:22</td>\n",
       "      <td>Aachen, Berliner Ring, km 0,4</td>\n",
       "      <td>Fahrtri. Jülicher Str.</td>\n",
       "      <td>141240</td>\n",
       "      <td>40</td>\n",
       "    </tr>\n",
       "    <tr>\n",
       "      <th>67948</th>\n",
       "      <td>31.12.2021</td>\n",
       "      <td>13:49</td>\n",
       "      <td>Aachen, Eupener Str. Höhe 274</td>\n",
       "      <td>Fahrtrichtung Innenstadt</td>\n",
       "      <td>123624</td>\n",
       "      <td>115</td>\n",
       "    </tr>\n",
       "  </tbody>\n",
       "</table>\n",
       "</div>"
      ],
      "text/plain": [
       "           Tattag   Zeit                         Tatort  \\\n",
       "67947  31.12.2021  20:22  Aachen, Berliner Ring, km 0,4   \n",
       "67948  31.12.2021  13:49  Aachen, Eupener Str. Höhe 274   \n",
       "\n",
       "                       Tatort 2  Tatbestand  Geldbuße  \n",
       "67947    Fahrtri. Jülicher Str.      141240        40  \n",
       "67948  Fahrtrichtung Innenstadt      123624       115  "
      ]
     },
     "execution_count": 20,
     "metadata": {},
     "output_type": "execute_result"
    }
   ],
   "source": [
    "# default is 5 rows\n",
    "df3.tail(2)"
   ]
  },
  {
   "cell_type": "markdown",
   "id": "79e66c01",
   "metadata": {},
   "source": [
    "#### View columns"
   ]
  },
  {
   "cell_type": "code",
   "execution_count": 21,
   "id": "8793dfaf",
   "metadata": {},
   "outputs": [
    {
     "data": {
      "text/plain": [
       "RangeIndex(start=0, stop=67949, step=1)"
      ]
     },
     "execution_count": 21,
     "metadata": {},
     "output_type": "execute_result"
    }
   ],
   "source": [
    "df3.index"
   ]
  },
  {
   "cell_type": "code",
   "execution_count": 30,
   "id": "b3e72497",
   "metadata": {},
   "outputs": [
    {
     "data": {
      "text/plain": [
       "Index(['Tattag', 'Zeit', 'Tatort', 'Tatort 2', 'Tatbestand', 'Geldbuße'], dtype='object')"
      ]
     },
     "execution_count": 30,
     "metadata": {},
     "output_type": "execute_result"
    }
   ],
   "source": [
    "df3.columns"
   ]
  },
  {
   "cell_type": "markdown",
   "id": "7bc32132",
   "metadata": {},
   "source": [
    "#### Statistical Summary"
   ]
  },
  {
   "cell_type": "code",
   "execution_count": 35,
   "id": "b65b34c6",
   "metadata": {},
   "outputs": [
    {
     "data": {
      "text/html": [
       "<div>\n",
       "<style scoped>\n",
       "    .dataframe tbody tr th:only-of-type {\n",
       "        vertical-align: middle;\n",
       "    }\n",
       "\n",
       "    .dataframe tbody tr th {\n",
       "        vertical-align: top;\n",
       "    }\n",
       "\n",
       "    .dataframe thead th {\n",
       "        text-align: right;\n",
       "    }\n",
       "</style>\n",
       "<table border=\"1\" class=\"dataframe\">\n",
       "  <thead>\n",
       "    <tr style=\"text-align: right;\">\n",
       "      <th></th>\n",
       "      <th>0</th>\n",
       "      <th>1</th>\n",
       "      <th>2</th>\n",
       "      <th>3</th>\n",
       "      <th>4</th>\n",
       "      <th>5</th>\n",
       "      <th>6</th>\n",
       "      <th>7</th>\n",
       "      <th>8</th>\n",
       "      <th>9</th>\n",
       "    </tr>\n",
       "  </thead>\n",
       "  <tbody>\n",
       "    <tr>\n",
       "      <th>count</th>\n",
       "      <td>10.000000</td>\n",
       "      <td>10.000000</td>\n",
       "      <td>10.000000</td>\n",
       "      <td>10.000000</td>\n",
       "      <td>10.000000</td>\n",
       "      <td>10.000000</td>\n",
       "      <td>10.000000</td>\n",
       "      <td>10.000000</td>\n",
       "      <td>10.000000</td>\n",
       "      <td>10.000000</td>\n",
       "    </tr>\n",
       "    <tr>\n",
       "      <th>mean</th>\n",
       "      <td>-0.101429</td>\n",
       "      <td>-0.229631</td>\n",
       "      <td>0.264674</td>\n",
       "      <td>-0.405378</td>\n",
       "      <td>-0.016564</td>\n",
       "      <td>-0.200478</td>\n",
       "      <td>0.065142</td>\n",
       "      <td>-0.069926</td>\n",
       "      <td>-0.183560</td>\n",
       "      <td>0.011618</td>\n",
       "    </tr>\n",
       "    <tr>\n",
       "      <th>std</th>\n",
       "      <td>1.312339</td>\n",
       "      <td>1.048126</td>\n",
       "      <td>1.176250</td>\n",
       "      <td>0.914294</td>\n",
       "      <td>0.694492</td>\n",
       "      <td>1.022649</td>\n",
       "      <td>0.979746</td>\n",
       "      <td>0.444035</td>\n",
       "      <td>0.983742</td>\n",
       "      <td>1.143778</td>\n",
       "    </tr>\n",
       "    <tr>\n",
       "      <th>min</th>\n",
       "      <td>-2.122414</td>\n",
       "      <td>-1.575383</td>\n",
       "      <td>-2.179781</td>\n",
       "      <td>-1.755601</td>\n",
       "      <td>-0.951214</td>\n",
       "      <td>-1.315049</td>\n",
       "      <td>-1.037135</td>\n",
       "      <td>-0.931561</td>\n",
       "      <td>-1.751133</td>\n",
       "      <td>-2.323325</td>\n",
       "    </tr>\n",
       "    <tr>\n",
       "      <th>25%</th>\n",
       "      <td>-0.856204</td>\n",
       "      <td>-1.133404</td>\n",
       "      <td>-0.454048</td>\n",
       "      <td>-0.966080</td>\n",
       "      <td>-0.550334</td>\n",
       "      <td>-0.904250</td>\n",
       "      <td>-0.530253</td>\n",
       "      <td>-0.320490</td>\n",
       "      <td>-0.980737</td>\n",
       "      <td>-0.786142</td>\n",
       "    </tr>\n",
       "    <tr>\n",
       "      <th>50%</th>\n",
       "      <td>0.087955</td>\n",
       "      <td>-0.094788</td>\n",
       "      <td>0.622567</td>\n",
       "      <td>-0.322682</td>\n",
       "      <td>-0.073199</td>\n",
       "      <td>-0.271545</td>\n",
       "      <td>-0.273389</td>\n",
       "      <td>0.047850</td>\n",
       "      <td>-0.115639</td>\n",
       "      <td>0.382450</td>\n",
       "    </tr>\n",
       "    <tr>\n",
       "      <th>75%</th>\n",
       "      <td>0.491037</td>\n",
       "      <td>0.237402</td>\n",
       "      <td>1.013204</td>\n",
       "      <td>0.126410</td>\n",
       "      <td>0.464415</td>\n",
       "      <td>0.063453</td>\n",
       "      <td>0.675001</td>\n",
       "      <td>0.161675</td>\n",
       "      <td>0.630753</td>\n",
       "      <td>0.798146</td>\n",
       "    </tr>\n",
       "    <tr>\n",
       "      <th>max</th>\n",
       "      <td>1.912707</td>\n",
       "      <td>1.571183</td>\n",
       "      <td>1.769245</td>\n",
       "      <td>1.050434</td>\n",
       "      <td>1.059423</td>\n",
       "      <td>2.219802</td>\n",
       "      <td>1.850633</td>\n",
       "      <td>0.665856</td>\n",
       "      <td>1.198212</td>\n",
       "      <td>1.125886</td>\n",
       "    </tr>\n",
       "  </tbody>\n",
       "</table>\n",
       "</div>"
      ],
      "text/plain": [
       "               0          1          2          3          4          5  \\\n",
       "count  10.000000  10.000000  10.000000  10.000000  10.000000  10.000000   \n",
       "mean   -0.101429  -0.229631   0.264674  -0.405378  -0.016564  -0.200478   \n",
       "std     1.312339   1.048126   1.176250   0.914294   0.694492   1.022649   \n",
       "min    -2.122414  -1.575383  -2.179781  -1.755601  -0.951214  -1.315049   \n",
       "25%    -0.856204  -1.133404  -0.454048  -0.966080  -0.550334  -0.904250   \n",
       "50%     0.087955  -0.094788   0.622567  -0.322682  -0.073199  -0.271545   \n",
       "75%     0.491037   0.237402   1.013204   0.126410   0.464415   0.063453   \n",
       "max     1.912707   1.571183   1.769245   1.050434   1.059423   2.219802   \n",
       "\n",
       "               6          7          8          9  \n",
       "count  10.000000  10.000000  10.000000  10.000000  \n",
       "mean    0.065142  -0.069926  -0.183560   0.011618  \n",
       "std     0.979746   0.444035   0.983742   1.143778  \n",
       "min    -1.037135  -0.931561  -1.751133  -2.323325  \n",
       "25%    -0.530253  -0.320490  -0.980737  -0.786142  \n",
       "50%    -0.273389   0.047850  -0.115639   0.382450  \n",
       "75%     0.675001   0.161675   0.630753   0.798146  \n",
       "max     1.850633   0.665856   1.198212   1.125886  "
      ]
     },
     "execution_count": 35,
     "metadata": {},
     "output_type": "execute_result"
    }
   ],
   "source": [
    "df2.describe()"
   ]
  },
  {
   "cell_type": "markdown",
   "id": "38208321",
   "metadata": {},
   "source": [
    "#### Transposing"
   ]
  },
  {
   "cell_type": "code",
   "execution_count": 36,
   "id": "114011f2",
   "metadata": {},
   "outputs": [
    {
     "data": {
      "text/html": [
       "<div>\n",
       "<style scoped>\n",
       "    .dataframe tbody tr th:only-of-type {\n",
       "        vertical-align: middle;\n",
       "    }\n",
       "\n",
       "    .dataframe tbody tr th {\n",
       "        vertical-align: top;\n",
       "    }\n",
       "\n",
       "    .dataframe thead th {\n",
       "        text-align: right;\n",
       "    }\n",
       "</style>\n",
       "<table border=\"1\" class=\"dataframe\">\n",
       "  <thead>\n",
       "    <tr style=\"text-align: right;\">\n",
       "      <th></th>\n",
       "      <th>0</th>\n",
       "      <th>1</th>\n",
       "      <th>2</th>\n",
       "    </tr>\n",
       "  </thead>\n",
       "  <tbody>\n",
       "    <tr>\n",
       "      <th>A</th>\n",
       "      <td>1.0</td>\n",
       "      <td>1.0</td>\n",
       "      <td>1.0</td>\n",
       "    </tr>\n",
       "    <tr>\n",
       "      <th>B</th>\n",
       "      <td>1</td>\n",
       "      <td>2</td>\n",
       "      <td>3</td>\n",
       "    </tr>\n",
       "    <tr>\n",
       "      <th>C</th>\n",
       "      <td>True</td>\n",
       "      <td>True</td>\n",
       "      <td>True</td>\n",
       "    </tr>\n",
       "  </tbody>\n",
       "</table>\n",
       "</div>"
      ],
      "text/plain": [
       "      0     1     2\n",
       "A   1.0   1.0   1.0\n",
       "B     1     2     3\n",
       "C  True  True  True"
      ]
     },
     "execution_count": 36,
     "metadata": {},
     "output_type": "execute_result"
    }
   ],
   "source": [
    "df1.T"
   ]
  },
  {
   "cell_type": "markdown",
   "id": "4e67e049",
   "metadata": {},
   "source": [
    "#### Sorting"
   ]
  },
  {
   "cell_type": "code",
   "execution_count": 33,
   "id": "c4020737",
   "metadata": {},
   "outputs": [
    {
     "data": {
      "text/html": [
       "<div>\n",
       "<style scoped>\n",
       "    .dataframe tbody tr th:only-of-type {\n",
       "        vertical-align: middle;\n",
       "    }\n",
       "\n",
       "    .dataframe tbody tr th {\n",
       "        vertical-align: top;\n",
       "    }\n",
       "\n",
       "    .dataframe thead th {\n",
       "        text-align: right;\n",
       "    }\n",
       "</style>\n",
       "<table border=\"1\" class=\"dataframe\">\n",
       "  <thead>\n",
       "    <tr style=\"text-align: right;\">\n",
       "      <th></th>\n",
       "      <th>9</th>\n",
       "      <th>8</th>\n",
       "      <th>7</th>\n",
       "      <th>6</th>\n",
       "      <th>5</th>\n",
       "      <th>4</th>\n",
       "      <th>3</th>\n",
       "      <th>2</th>\n",
       "      <th>1</th>\n",
       "      <th>0</th>\n",
       "    </tr>\n",
       "  </thead>\n",
       "  <tbody>\n",
       "    <tr>\n",
       "      <th>0</th>\n",
       "      <td>-1.122378</td>\n",
       "      <td>1.331182</td>\n",
       "      <td>-0.404595</td>\n",
       "      <td>0.357013</td>\n",
       "      <td>-0.297467</td>\n",
       "      <td>0.407632</td>\n",
       "      <td>0.226763</td>\n",
       "      <td>-0.930764</td>\n",
       "      <td>1.256592</td>\n",
       "      <td>-0.249276</td>\n",
       "    </tr>\n",
       "    <tr>\n",
       "      <th>1</th>\n",
       "      <td>0.138432</td>\n",
       "      <td>-0.454427</td>\n",
       "      <td>0.103319</td>\n",
       "      <td>-0.607813</td>\n",
       "      <td>1.193666</td>\n",
       "      <td>-0.151437</td>\n",
       "      <td>0.384154</td>\n",
       "      <td>0.180822</td>\n",
       "      <td>-1.222491</td>\n",
       "      <td>-1.741834</td>\n",
       "    </tr>\n",
       "    <tr>\n",
       "      <th>2</th>\n",
       "      <td>-1.768472</td>\n",
       "      <td>-1.263036</td>\n",
       "      <td>-2.096381</td>\n",
       "      <td>0.880217</td>\n",
       "      <td>-0.026659</td>\n",
       "      <td>0.955888</td>\n",
       "      <td>-0.166971</td>\n",
       "      <td>1.194716</td>\n",
       "      <td>-1.498264</td>\n",
       "      <td>-0.189020</td>\n",
       "    </tr>\n",
       "    <tr>\n",
       "      <th>3</th>\n",
       "      <td>-0.247693</td>\n",
       "      <td>-1.146826</td>\n",
       "      <td>-0.530927</td>\n",
       "      <td>0.782466</td>\n",
       "      <td>-0.151485</td>\n",
       "      <td>0.517202</td>\n",
       "      <td>1.659042</td>\n",
       "      <td>-0.901366</td>\n",
       "      <td>-0.913210</td>\n",
       "      <td>1.039718</td>\n",
       "    </tr>\n",
       "    <tr>\n",
       "      <th>4</th>\n",
       "      <td>-0.808544</td>\n",
       "      <td>-1.518668</td>\n",
       "      <td>-1.783056</td>\n",
       "      <td>-0.461558</td>\n",
       "      <td>0.108549</td>\n",
       "      <td>0.465806</td>\n",
       "      <td>-2.098007</td>\n",
       "      <td>0.326388</td>\n",
       "      <td>1.416185</td>\n",
       "      <td>-0.214346</td>\n",
       "    </tr>\n",
       "    <tr>\n",
       "      <th>5</th>\n",
       "      <td>1.664729</td>\n",
       "      <td>-1.023207</td>\n",
       "      <td>-0.572709</td>\n",
       "      <td>-0.309915</td>\n",
       "      <td>0.988938</td>\n",
       "      <td>0.367932</td>\n",
       "      <td>0.005303</td>\n",
       "      <td>-0.248498</td>\n",
       "      <td>-0.371956</td>\n",
       "      <td>0.297056</td>\n",
       "    </tr>\n",
       "    <tr>\n",
       "      <th>6</th>\n",
       "      <td>-0.291993</td>\n",
       "      <td>0.379301</td>\n",
       "      <td>-1.029916</td>\n",
       "      <td>-0.484379</td>\n",
       "      <td>0.883303</td>\n",
       "      <td>1.598818</td>\n",
       "      <td>-1.361094</td>\n",
       "      <td>1.547203</td>\n",
       "      <td>0.041849</td>\n",
       "      <td>-0.963577</td>\n",
       "    </tr>\n",
       "    <tr>\n",
       "      <th>7</th>\n",
       "      <td>-0.613806</td>\n",
       "      <td>1.101654</td>\n",
       "      <td>-2.686016</td>\n",
       "      <td>-1.380162</td>\n",
       "      <td>0.397129</td>\n",
       "      <td>1.056885</td>\n",
       "      <td>0.432738</td>\n",
       "      <td>-0.913300</td>\n",
       "      <td>-1.598246</td>\n",
       "      <td>-1.847924</td>\n",
       "    </tr>\n",
       "    <tr>\n",
       "      <th>8</th>\n",
       "      <td>-0.137432</td>\n",
       "      <td>0.859475</td>\n",
       "      <td>0.531575</td>\n",
       "      <td>-0.108761</td>\n",
       "      <td>-0.116200</td>\n",
       "      <td>-0.470748</td>\n",
       "      <td>-0.932920</td>\n",
       "      <td>-0.667372</td>\n",
       "      <td>0.011531</td>\n",
       "      <td>-0.513792</td>\n",
       "    </tr>\n",
       "    <tr>\n",
       "      <th>9</th>\n",
       "      <td>-1.279093</td>\n",
       "      <td>-0.783316</td>\n",
       "      <td>-1.019539</td>\n",
       "      <td>0.660748</td>\n",
       "      <td>-0.424561</td>\n",
       "      <td>2.033201</td>\n",
       "      <td>0.709340</td>\n",
       "      <td>1.637741</td>\n",
       "      <td>1.138541</td>\n",
       "      <td>0.656254</td>\n",
       "    </tr>\n",
       "  </tbody>\n",
       "</table>\n",
       "</div>"
      ],
      "text/plain": [
       "          9         8         7         6         5         4         3  \\\n",
       "0 -1.122378  1.331182 -0.404595  0.357013 -0.297467  0.407632  0.226763   \n",
       "1  0.138432 -0.454427  0.103319 -0.607813  1.193666 -0.151437  0.384154   \n",
       "2 -1.768472 -1.263036 -2.096381  0.880217 -0.026659  0.955888 -0.166971   \n",
       "3 -0.247693 -1.146826 -0.530927  0.782466 -0.151485  0.517202  1.659042   \n",
       "4 -0.808544 -1.518668 -1.783056 -0.461558  0.108549  0.465806 -2.098007   \n",
       "5  1.664729 -1.023207 -0.572709 -0.309915  0.988938  0.367932  0.005303   \n",
       "6 -0.291993  0.379301 -1.029916 -0.484379  0.883303  1.598818 -1.361094   \n",
       "7 -0.613806  1.101654 -2.686016 -1.380162  0.397129  1.056885  0.432738   \n",
       "8 -0.137432  0.859475  0.531575 -0.108761 -0.116200 -0.470748 -0.932920   \n",
       "9 -1.279093 -0.783316 -1.019539  0.660748 -0.424561  2.033201  0.709340   \n",
       "\n",
       "          2         1         0  \n",
       "0 -0.930764  1.256592 -0.249276  \n",
       "1  0.180822 -1.222491 -1.741834  \n",
       "2  1.194716 -1.498264 -0.189020  \n",
       "3 -0.901366 -0.913210  1.039718  \n",
       "4  0.326388  1.416185 -0.214346  \n",
       "5 -0.248498 -0.371956  0.297056  \n",
       "6  1.547203  0.041849 -0.963577  \n",
       "7 -0.913300 -1.598246 -1.847924  \n",
       "8 -0.667372  0.011531 -0.513792  \n",
       "9  1.637741  1.138541  0.656254  "
      ]
     },
     "execution_count": 33,
     "metadata": {},
     "output_type": "execute_result"
    }
   ],
   "source": [
    "# sort by index of axis\n",
    "df2.sort_index(axis=1, ascending=False)"
   ]
  },
  {
   "cell_type": "code",
   "execution_count": 34,
   "id": "81aabf44",
   "metadata": {},
   "outputs": [
    {
     "data": {
      "text/html": [
       "<div>\n",
       "<style scoped>\n",
       "    .dataframe tbody tr th:only-of-type {\n",
       "        vertical-align: middle;\n",
       "    }\n",
       "\n",
       "    .dataframe tbody tr th {\n",
       "        vertical-align: top;\n",
       "    }\n",
       "\n",
       "    .dataframe thead th {\n",
       "        text-align: right;\n",
       "    }\n",
       "</style>\n",
       "<table border=\"1\" class=\"dataframe\">\n",
       "  <thead>\n",
       "    <tr style=\"text-align: right;\">\n",
       "      <th></th>\n",
       "      <th>0</th>\n",
       "      <th>1</th>\n",
       "      <th>2</th>\n",
       "      <th>3</th>\n",
       "      <th>4</th>\n",
       "      <th>5</th>\n",
       "      <th>6</th>\n",
       "      <th>7</th>\n",
       "      <th>8</th>\n",
       "      <th>9</th>\n",
       "    </tr>\n",
       "  </thead>\n",
       "  <tbody>\n",
       "    <tr>\n",
       "      <th>0</th>\n",
       "      <td>-0.249276</td>\n",
       "      <td>1.256592</td>\n",
       "      <td>-0.930764</td>\n",
       "      <td>0.226763</td>\n",
       "      <td>0.407632</td>\n",
       "      <td>-0.297467</td>\n",
       "      <td>0.357013</td>\n",
       "      <td>-0.404595</td>\n",
       "      <td>1.331182</td>\n",
       "      <td>-1.122378</td>\n",
       "    </tr>\n",
       "    <tr>\n",
       "      <th>1</th>\n",
       "      <td>-1.741834</td>\n",
       "      <td>-1.222491</td>\n",
       "      <td>0.180822</td>\n",
       "      <td>0.384154</td>\n",
       "      <td>-0.151437</td>\n",
       "      <td>1.193666</td>\n",
       "      <td>-0.607813</td>\n",
       "      <td>0.103319</td>\n",
       "      <td>-0.454427</td>\n",
       "      <td>0.138432</td>\n",
       "    </tr>\n",
       "    <tr>\n",
       "      <th>2</th>\n",
       "      <td>-0.189020</td>\n",
       "      <td>-1.498264</td>\n",
       "      <td>1.194716</td>\n",
       "      <td>-0.166971</td>\n",
       "      <td>0.955888</td>\n",
       "      <td>-0.026659</td>\n",
       "      <td>0.880217</td>\n",
       "      <td>-2.096381</td>\n",
       "      <td>-1.263036</td>\n",
       "      <td>-1.768472</td>\n",
       "    </tr>\n",
       "    <tr>\n",
       "      <th>3</th>\n",
       "      <td>1.039718</td>\n",
       "      <td>-0.913210</td>\n",
       "      <td>-0.901366</td>\n",
       "      <td>1.659042</td>\n",
       "      <td>0.517202</td>\n",
       "      <td>-0.151485</td>\n",
       "      <td>0.782466</td>\n",
       "      <td>-0.530927</td>\n",
       "      <td>-1.146826</td>\n",
       "      <td>-0.247693</td>\n",
       "    </tr>\n",
       "    <tr>\n",
       "      <th>4</th>\n",
       "      <td>-0.214346</td>\n",
       "      <td>1.416185</td>\n",
       "      <td>0.326388</td>\n",
       "      <td>-2.098007</td>\n",
       "      <td>0.465806</td>\n",
       "      <td>0.108549</td>\n",
       "      <td>-0.461558</td>\n",
       "      <td>-1.783056</td>\n",
       "      <td>-1.518668</td>\n",
       "      <td>-0.808544</td>\n",
       "    </tr>\n",
       "    <tr>\n",
       "      <th>5</th>\n",
       "      <td>0.297056</td>\n",
       "      <td>-0.371956</td>\n",
       "      <td>-0.248498</td>\n",
       "      <td>0.005303</td>\n",
       "      <td>0.367932</td>\n",
       "      <td>0.988938</td>\n",
       "      <td>-0.309915</td>\n",
       "      <td>-0.572709</td>\n",
       "      <td>-1.023207</td>\n",
       "      <td>1.664729</td>\n",
       "    </tr>\n",
       "    <tr>\n",
       "      <th>6</th>\n",
       "      <td>-0.963577</td>\n",
       "      <td>0.041849</td>\n",
       "      <td>1.547203</td>\n",
       "      <td>-1.361094</td>\n",
       "      <td>1.598818</td>\n",
       "      <td>0.883303</td>\n",
       "      <td>-0.484379</td>\n",
       "      <td>-1.029916</td>\n",
       "      <td>0.379301</td>\n",
       "      <td>-0.291993</td>\n",
       "    </tr>\n",
       "    <tr>\n",
       "      <th>7</th>\n",
       "      <td>-1.847924</td>\n",
       "      <td>-1.598246</td>\n",
       "      <td>-0.913300</td>\n",
       "      <td>0.432738</td>\n",
       "      <td>1.056885</td>\n",
       "      <td>0.397129</td>\n",
       "      <td>-1.380162</td>\n",
       "      <td>-2.686016</td>\n",
       "      <td>1.101654</td>\n",
       "      <td>-0.613806</td>\n",
       "    </tr>\n",
       "    <tr>\n",
       "      <th>8</th>\n",
       "      <td>-0.513792</td>\n",
       "      <td>0.011531</td>\n",
       "      <td>-0.667372</td>\n",
       "      <td>-0.932920</td>\n",
       "      <td>-0.470748</td>\n",
       "      <td>-0.116200</td>\n",
       "      <td>-0.108761</td>\n",
       "      <td>0.531575</td>\n",
       "      <td>0.859475</td>\n",
       "      <td>-0.137432</td>\n",
       "    </tr>\n",
       "    <tr>\n",
       "      <th>9</th>\n",
       "      <td>0.656254</td>\n",
       "      <td>1.138541</td>\n",
       "      <td>1.637741</td>\n",
       "      <td>0.709340</td>\n",
       "      <td>2.033201</td>\n",
       "      <td>-0.424561</td>\n",
       "      <td>0.660748</td>\n",
       "      <td>-1.019539</td>\n",
       "      <td>-0.783316</td>\n",
       "      <td>-1.279093</td>\n",
       "    </tr>\n",
       "  </tbody>\n",
       "</table>\n",
       "</div>"
      ],
      "text/plain": [
       "          0         1         2         3         4         5         6  \\\n",
       "0 -0.249276  1.256592 -0.930764  0.226763  0.407632 -0.297467  0.357013   \n",
       "1 -1.741834 -1.222491  0.180822  0.384154 -0.151437  1.193666 -0.607813   \n",
       "2 -0.189020 -1.498264  1.194716 -0.166971  0.955888 -0.026659  0.880217   \n",
       "3  1.039718 -0.913210 -0.901366  1.659042  0.517202 -0.151485  0.782466   \n",
       "4 -0.214346  1.416185  0.326388 -2.098007  0.465806  0.108549 -0.461558   \n",
       "5  0.297056 -0.371956 -0.248498  0.005303  0.367932  0.988938 -0.309915   \n",
       "6 -0.963577  0.041849  1.547203 -1.361094  1.598818  0.883303 -0.484379   \n",
       "7 -1.847924 -1.598246 -0.913300  0.432738  1.056885  0.397129 -1.380162   \n",
       "8 -0.513792  0.011531 -0.667372 -0.932920 -0.470748 -0.116200 -0.108761   \n",
       "9  0.656254  1.138541  1.637741  0.709340  2.033201 -0.424561  0.660748   \n",
       "\n",
       "          7         8         9  \n",
       "0 -0.404595  1.331182 -1.122378  \n",
       "1  0.103319 -0.454427  0.138432  \n",
       "2 -2.096381 -1.263036 -1.768472  \n",
       "3 -0.530927 -1.146826 -0.247693  \n",
       "4 -1.783056 -1.518668 -0.808544  \n",
       "5 -0.572709 -1.023207  1.664729  \n",
       "6 -1.029916  0.379301 -0.291993  \n",
       "7 -2.686016  1.101654 -0.613806  \n",
       "8  0.531575  0.859475 -0.137432  \n",
       "9 -1.019539 -0.783316 -1.279093  "
      ]
     },
     "execution_count": 34,
     "metadata": {},
     "output_type": "execute_result"
    }
   ],
   "source": [
    "# it is not permanent - save the result in the variable if you want to keep the order\n",
    "df2"
   ]
  },
  {
   "cell_type": "code",
   "execution_count": 40,
   "id": "9ca53f24",
   "metadata": {},
   "outputs": [
    {
     "data": {
      "text/html": [
       "<div>\n",
       "<style scoped>\n",
       "    .dataframe tbody tr th:only-of-type {\n",
       "        vertical-align: middle;\n",
       "    }\n",
       "\n",
       "    .dataframe tbody tr th {\n",
       "        vertical-align: top;\n",
       "    }\n",
       "\n",
       "    .dataframe thead th {\n",
       "        text-align: right;\n",
       "    }\n",
       "</style>\n",
       "<table border=\"1\" class=\"dataframe\">\n",
       "  <thead>\n",
       "    <tr style=\"text-align: right;\">\n",
       "      <th></th>\n",
       "      <th>0</th>\n",
       "      <th>1</th>\n",
       "      <th>2</th>\n",
       "      <th>3</th>\n",
       "      <th>4</th>\n",
       "      <th>5</th>\n",
       "      <th>6</th>\n",
       "      <th>7</th>\n",
       "      <th>8</th>\n",
       "      <th>9</th>\n",
       "    </tr>\n",
       "  </thead>\n",
       "  <tbody>\n",
       "    <tr>\n",
       "      <th>3</th>\n",
       "      <td>1.039718</td>\n",
       "      <td>-0.913210</td>\n",
       "      <td>-0.901366</td>\n",
       "      <td>1.659042</td>\n",
       "      <td>0.517202</td>\n",
       "      <td>-0.151485</td>\n",
       "      <td>0.782466</td>\n",
       "      <td>-0.530927</td>\n",
       "      <td>-1.146826</td>\n",
       "      <td>-0.247693</td>\n",
       "    </tr>\n",
       "    <tr>\n",
       "      <th>9</th>\n",
       "      <td>0.656254</td>\n",
       "      <td>1.138541</td>\n",
       "      <td>1.637741</td>\n",
       "      <td>0.709340</td>\n",
       "      <td>2.033201</td>\n",
       "      <td>-0.424561</td>\n",
       "      <td>0.660748</td>\n",
       "      <td>-1.019539</td>\n",
       "      <td>-0.783316</td>\n",
       "      <td>-1.279093</td>\n",
       "    </tr>\n",
       "    <tr>\n",
       "      <th>5</th>\n",
       "      <td>0.297056</td>\n",
       "      <td>-0.371956</td>\n",
       "      <td>-0.248498</td>\n",
       "      <td>0.005303</td>\n",
       "      <td>0.367932</td>\n",
       "      <td>0.988938</td>\n",
       "      <td>-0.309915</td>\n",
       "      <td>-0.572709</td>\n",
       "      <td>-1.023207</td>\n",
       "      <td>1.664729</td>\n",
       "    </tr>\n",
       "    <tr>\n",
       "      <th>2</th>\n",
       "      <td>-0.189020</td>\n",
       "      <td>-1.498264</td>\n",
       "      <td>1.194716</td>\n",
       "      <td>-0.166971</td>\n",
       "      <td>0.955888</td>\n",
       "      <td>-0.026659</td>\n",
       "      <td>0.880217</td>\n",
       "      <td>-2.096381</td>\n",
       "      <td>-1.263036</td>\n",
       "      <td>-1.768472</td>\n",
       "    </tr>\n",
       "    <tr>\n",
       "      <th>4</th>\n",
       "      <td>-0.214346</td>\n",
       "      <td>1.416185</td>\n",
       "      <td>0.326388</td>\n",
       "      <td>-2.098007</td>\n",
       "      <td>0.465806</td>\n",
       "      <td>0.108549</td>\n",
       "      <td>-0.461558</td>\n",
       "      <td>-1.783056</td>\n",
       "      <td>-1.518668</td>\n",
       "      <td>-0.808544</td>\n",
       "    </tr>\n",
       "    <tr>\n",
       "      <th>0</th>\n",
       "      <td>-0.249276</td>\n",
       "      <td>1.256592</td>\n",
       "      <td>-0.930764</td>\n",
       "      <td>0.226763</td>\n",
       "      <td>0.407632</td>\n",
       "      <td>-0.297467</td>\n",
       "      <td>0.357013</td>\n",
       "      <td>-0.404595</td>\n",
       "      <td>1.331182</td>\n",
       "      <td>-1.122378</td>\n",
       "    </tr>\n",
       "    <tr>\n",
       "      <th>8</th>\n",
       "      <td>-0.513792</td>\n",
       "      <td>0.011531</td>\n",
       "      <td>-0.667372</td>\n",
       "      <td>-0.932920</td>\n",
       "      <td>-0.470748</td>\n",
       "      <td>-0.116200</td>\n",
       "      <td>-0.108761</td>\n",
       "      <td>0.531575</td>\n",
       "      <td>0.859475</td>\n",
       "      <td>-0.137432</td>\n",
       "    </tr>\n",
       "    <tr>\n",
       "      <th>6</th>\n",
       "      <td>-0.963577</td>\n",
       "      <td>0.041849</td>\n",
       "      <td>1.547203</td>\n",
       "      <td>-1.361094</td>\n",
       "      <td>1.598818</td>\n",
       "      <td>0.883303</td>\n",
       "      <td>-0.484379</td>\n",
       "      <td>-1.029916</td>\n",
       "      <td>0.379301</td>\n",
       "      <td>-0.291993</td>\n",
       "    </tr>\n",
       "    <tr>\n",
       "      <th>1</th>\n",
       "      <td>-1.741834</td>\n",
       "      <td>-1.222491</td>\n",
       "      <td>0.180822</td>\n",
       "      <td>0.384154</td>\n",
       "      <td>-0.151437</td>\n",
       "      <td>1.193666</td>\n",
       "      <td>-0.607813</td>\n",
       "      <td>0.103319</td>\n",
       "      <td>-0.454427</td>\n",
       "      <td>0.138432</td>\n",
       "    </tr>\n",
       "    <tr>\n",
       "      <th>7</th>\n",
       "      <td>-1.847924</td>\n",
       "      <td>-1.598246</td>\n",
       "      <td>-0.913300</td>\n",
       "      <td>0.432738</td>\n",
       "      <td>1.056885</td>\n",
       "      <td>0.397129</td>\n",
       "      <td>-1.380162</td>\n",
       "      <td>-2.686016</td>\n",
       "      <td>1.101654</td>\n",
       "      <td>-0.613806</td>\n",
       "    </tr>\n",
       "  </tbody>\n",
       "</table>\n",
       "</div>"
      ],
      "text/plain": [
       "          0         1         2         3         4         5         6  \\\n",
       "3  1.039718 -0.913210 -0.901366  1.659042  0.517202 -0.151485  0.782466   \n",
       "9  0.656254  1.138541  1.637741  0.709340  2.033201 -0.424561  0.660748   \n",
       "5  0.297056 -0.371956 -0.248498  0.005303  0.367932  0.988938 -0.309915   \n",
       "2 -0.189020 -1.498264  1.194716 -0.166971  0.955888 -0.026659  0.880217   \n",
       "4 -0.214346  1.416185  0.326388 -2.098007  0.465806  0.108549 -0.461558   \n",
       "0 -0.249276  1.256592 -0.930764  0.226763  0.407632 -0.297467  0.357013   \n",
       "8 -0.513792  0.011531 -0.667372 -0.932920 -0.470748 -0.116200 -0.108761   \n",
       "6 -0.963577  0.041849  1.547203 -1.361094  1.598818  0.883303 -0.484379   \n",
       "1 -1.741834 -1.222491  0.180822  0.384154 -0.151437  1.193666 -0.607813   \n",
       "7 -1.847924 -1.598246 -0.913300  0.432738  1.056885  0.397129 -1.380162   \n",
       "\n",
       "          7         8         9  \n",
       "3 -0.530927 -1.146826 -0.247693  \n",
       "9 -1.019539 -0.783316 -1.279093  \n",
       "5 -0.572709 -1.023207  1.664729  \n",
       "2 -2.096381 -1.263036 -1.768472  \n",
       "4 -1.783056 -1.518668 -0.808544  \n",
       "0 -0.404595  1.331182 -1.122378  \n",
       "8  0.531575  0.859475 -0.137432  \n",
       "6 -1.029916  0.379301 -0.291993  \n",
       "1  0.103319 -0.454427  0.138432  \n",
       "7 -2.686016  1.101654 -0.613806  "
      ]
     },
     "execution_count": 40,
     "metadata": {},
     "output_type": "execute_result"
    }
   ],
   "source": [
    "# sort by values of column\n",
    "df2.sort_values(by=0, ascending=False)"
   ]
  },
  {
   "cell_type": "markdown",
   "id": "dec275e1",
   "metadata": {},
   "source": [
    "### Indexing and Selection"
   ]
  },
  {
   "cell_type": "code",
   "execution_count": 37,
   "id": "485015c9",
   "metadata": {},
   "outputs": [
    {
     "data": {
      "text/plain": [
       "0         15\n",
       "1         15\n",
       "2         15\n",
       "3         15\n",
       "4         15\n",
       "        ... \n",
       "67944    115\n",
       "67945    115\n",
       "67946    115\n",
       "67947     40\n",
       "67948    115\n",
       "Name: Geldbuße, Length: 67949, dtype: int64"
      ]
     },
     "execution_count": 37,
     "metadata": {},
     "output_type": "execute_result"
    }
   ],
   "source": [
    "# select a column\n",
    "df3[\"Geldbuße\"]"
   ]
  },
  {
   "cell_type": "code",
   "execution_count": 38,
   "id": "48731ec3",
   "metadata": {},
   "outputs": [
    {
     "data": {
      "text/plain": [
       "0    15\n",
       "1    15\n",
       "2    15\n",
       "3    15\n",
       "4    15\n",
       "Name: Geldbuße, dtype: int64"
      ]
     },
     "execution_count": 38,
     "metadata": {},
     "output_type": "execute_result"
    }
   ],
   "source": [
    "# can be combined, for example, with head and tail\n",
    "df3[\"Geldbuße\"].head()"
   ]
  },
  {
   "cell_type": "code",
   "execution_count": 39,
   "id": "d8ff2447",
   "metadata": {},
   "outputs": [
    {
     "data": {
      "text/html": [
       "<div>\n",
       "<style scoped>\n",
       "    .dataframe tbody tr th:only-of-type {\n",
       "        vertical-align: middle;\n",
       "    }\n",
       "\n",
       "    .dataframe tbody tr th {\n",
       "        vertical-align: top;\n",
       "    }\n",
       "\n",
       "    .dataframe thead th {\n",
       "        text-align: right;\n",
       "    }\n",
       "</style>\n",
       "<table border=\"1\" class=\"dataframe\">\n",
       "  <thead>\n",
       "    <tr style=\"text-align: right;\">\n",
       "      <th></th>\n",
       "      <th>Tattag</th>\n",
       "      <th>Zeit</th>\n",
       "      <th>Tatort</th>\n",
       "      <th>Tatort 2</th>\n",
       "      <th>Tatbestand</th>\n",
       "      <th>Geldbuße</th>\n",
       "    </tr>\n",
       "  </thead>\n",
       "  <tbody>\n",
       "    <tr>\n",
       "      <th>2</th>\n",
       "      <td>01.01.2021</td>\n",
       "      <td>11:44</td>\n",
       "      <td>Aachen, Eupener Str. Höhe 274</td>\n",
       "      <td>Fahrtrichtung Belgien</td>\n",
       "      <td>103202</td>\n",
       "      <td>15</td>\n",
       "    </tr>\n",
       "    <tr>\n",
       "      <th>3</th>\n",
       "      <td>01.01.2021</td>\n",
       "      <td>11:54</td>\n",
       "      <td>Aachen, Turmstr./Prof.Pirletstr.</td>\n",
       "      <td>Fahrtrichtung Ponttor</td>\n",
       "      <td>103202</td>\n",
       "      <td>15</td>\n",
       "    </tr>\n",
       "    <tr>\n",
       "      <th>4</th>\n",
       "      <td>01.01.2021</td>\n",
       "      <td>13:18</td>\n",
       "      <td>Aachen, Eupener Str. Höhe 274</td>\n",
       "      <td>Fahrtrichtung Belgien</td>\n",
       "      <td>103202</td>\n",
       "      <td>15</td>\n",
       "    </tr>\n",
       "  </tbody>\n",
       "</table>\n",
       "</div>"
      ],
      "text/plain": [
       "       Tattag   Zeit                            Tatort               Tatort 2  \\\n",
       "2  01.01.2021  11:44     Aachen, Eupener Str. Höhe 274  Fahrtrichtung Belgien   \n",
       "3  01.01.2021  11:54  Aachen, Turmstr./Prof.Pirletstr.  Fahrtrichtung Ponttor   \n",
       "4  01.01.2021  13:18     Aachen, Eupener Str. Höhe 274  Fahrtrichtung Belgien   \n",
       "\n",
       "   Tatbestand  Geldbuße  \n",
       "2      103202        15  \n",
       "3      103202        15  \n",
       "4      103202        15  "
      ]
     },
     "execution_count": 39,
     "metadata": {},
     "output_type": "execute_result"
    }
   ],
   "source": [
    "# slicing rows out of the dataframe\n",
    "df3[2:5]"
   ]
  },
  {
   "cell_type": "markdown",
   "id": "87adf80d",
   "metadata": {},
   "source": [
    "#### Selecting by Label"
   ]
  },
  {
   "cell_type": "code",
   "execution_count": 41,
   "id": "df98f0ee",
   "metadata": {},
   "outputs": [
    {
     "data": {
      "text/plain": [
       "Tattag                           01.01.2021\n",
       "Zeit                                  11:44\n",
       "Tatort        Aachen, Eupener Str. Höhe 274\n",
       "Tatort 2              Fahrtrichtung Belgien\n",
       "Tatbestand                           103202\n",
       "Geldbuße                                 15\n",
       "Name: 2, dtype: object"
      ]
     },
     "execution_count": 41,
     "metadata": {},
     "output_type": "execute_result"
    }
   ],
   "source": [
    "# getting row by label of index\n",
    "df3.loc[2]"
   ]
  },
  {
   "cell_type": "code",
   "execution_count": 46,
   "id": "7fb69cc0",
   "metadata": {},
   "outputs": [
    {
     "data": {
      "text/plain": [
       "0        01.01.2021\n",
       "1        01.01.2021\n",
       "2        01.01.2021\n",
       "3        01.01.2021\n",
       "4        01.01.2021\n",
       "            ...    \n",
       "67944    31.12.2021\n",
       "67945    31.12.2021\n",
       "67946    31.12.2021\n",
       "67947    31.12.2021\n",
       "67948    31.12.2021\n",
       "Name: Tattag, Length: 67949, dtype: object"
      ]
     },
     "execution_count": 46,
     "metadata": {},
     "output_type": "execute_result"
    }
   ],
   "source": [
    "# getting column by label\n",
    "df3.loc[:,\"Tattag\"]"
   ]
  },
  {
   "cell_type": "code",
   "execution_count": 48,
   "id": "df8ea427",
   "metadata": {},
   "outputs": [
    {
     "data": {
      "text/plain": [
       "Tattag      01.01.2021\n",
       "Geldbuße            15\n",
       "Name: 2, dtype: object"
      ]
     },
     "execution_count": 48,
     "metadata": {},
     "output_type": "execute_result"
    }
   ],
   "source": [
    "# getting one specific row of multiple columns by their labels\n",
    "df3.loc[2, [\"Tattag\", \"Geldbuße\"]]"
   ]
  },
  {
   "cell_type": "markdown",
   "id": "cdaa4536",
   "metadata": {},
   "source": [
    "#### Selecting by Position"
   ]
  },
  {
   "cell_type": "code",
   "execution_count": 51,
   "id": "132c71f4",
   "metadata": {},
   "outputs": [
    {
     "data": {
      "text/plain": [
       "Tattag                              01.01.2021\n",
       "Zeit                                     11:54\n",
       "Tatort        Aachen, Turmstr./Prof.Pirletstr.\n",
       "Tatort 2                 Fahrtrichtung Ponttor\n",
       "Tatbestand                              103202\n",
       "Geldbuße                                    15\n",
       "Name: 3, dtype: object"
      ]
     },
     "execution_count": 51,
     "metadata": {},
     "output_type": "execute_result"
    }
   ],
   "source": [
    "# select row 3\n",
    "df3.iloc[3]"
   ]
  },
  {
   "cell_type": "code",
   "execution_count": 57,
   "id": "34e89fa9",
   "metadata": {},
   "outputs": [
    {
     "data": {
      "text/html": [
       "<div>\n",
       "<style scoped>\n",
       "    .dataframe tbody tr th:only-of-type {\n",
       "        vertical-align: middle;\n",
       "    }\n",
       "\n",
       "    .dataframe tbody tr th {\n",
       "        vertical-align: top;\n",
       "    }\n",
       "\n",
       "    .dataframe thead th {\n",
       "        text-align: right;\n",
       "    }\n",
       "</style>\n",
       "<table border=\"1\" class=\"dataframe\">\n",
       "  <thead>\n",
       "    <tr style=\"text-align: right;\">\n",
       "      <th></th>\n",
       "      <th>Tattag</th>\n",
       "      <th>Zeit</th>\n",
       "      <th>Tatort</th>\n",
       "      <th>Tatort 2</th>\n",
       "      <th>Tatbestand</th>\n",
       "      <th>Geldbuße</th>\n",
       "    </tr>\n",
       "  </thead>\n",
       "  <tbody>\n",
       "    <tr>\n",
       "      <th>2</th>\n",
       "      <td>01.01.2021</td>\n",
       "      <td>11:44</td>\n",
       "      <td>Aachen, Eupener Str. Höhe 274</td>\n",
       "      <td>Fahrtrichtung Belgien</td>\n",
       "      <td>103202</td>\n",
       "      <td>15</td>\n",
       "    </tr>\n",
       "    <tr>\n",
       "      <th>4</th>\n",
       "      <td>01.01.2021</td>\n",
       "      <td>13:18</td>\n",
       "      <td>Aachen, Eupener Str. Höhe 274</td>\n",
       "      <td>Fahrtrichtung Belgien</td>\n",
       "      <td>103202</td>\n",
       "      <td>15</td>\n",
       "    </tr>\n",
       "  </tbody>\n",
       "</table>\n",
       "</div>"
      ],
      "text/plain": [
       "       Tattag   Zeit                         Tatort               Tatort 2  \\\n",
       "2  01.01.2021  11:44  Aachen, Eupener Str. Höhe 274  Fahrtrichtung Belgien   \n",
       "4  01.01.2021  13:18  Aachen, Eupener Str. Höhe 274  Fahrtrichtung Belgien   \n",
       "\n",
       "   Tatbestand  Geldbuße  \n",
       "2      103202        15  \n",
       "4      103202        15  "
      ]
     },
     "execution_count": 57,
     "metadata": {},
     "output_type": "execute_result"
    }
   ],
   "source": [
    "# selecting rows\n",
    "df3.iloc[[2,4],:]"
   ]
  },
  {
   "cell_type": "code",
   "execution_count": 59,
   "id": "73c27d14",
   "metadata": {},
   "outputs": [
    {
     "data": {
      "text/html": [
       "<div>\n",
       "<style scoped>\n",
       "    .dataframe tbody tr th:only-of-type {\n",
       "        vertical-align: middle;\n",
       "    }\n",
       "\n",
       "    .dataframe tbody tr th {\n",
       "        vertical-align: top;\n",
       "    }\n",
       "\n",
       "    .dataframe thead th {\n",
       "        text-align: right;\n",
       "    }\n",
       "</style>\n",
       "<table border=\"1\" class=\"dataframe\">\n",
       "  <thead>\n",
       "    <tr style=\"text-align: right;\">\n",
       "      <th></th>\n",
       "      <th>Tatort</th>\n",
       "      <th>Tatbestand</th>\n",
       "    </tr>\n",
       "  </thead>\n",
       "  <tbody>\n",
       "    <tr>\n",
       "      <th>2</th>\n",
       "      <td>Aachen, Eupener Str. Höhe 274</td>\n",
       "      <td>103202</td>\n",
       "    </tr>\n",
       "    <tr>\n",
       "      <th>4</th>\n",
       "      <td>Aachen, Eupener Str. Höhe 274</td>\n",
       "      <td>103202</td>\n",
       "    </tr>\n",
       "  </tbody>\n",
       "</table>\n",
       "</div>"
      ],
      "text/plain": [
       "                          Tatort  Tatbestand\n",
       "2  Aachen, Eupener Str. Höhe 274      103202\n",
       "4  Aachen, Eupener Str. Höhe 274      103202"
      ]
     },
     "execution_count": 59,
     "metadata": {},
     "output_type": "execute_result"
    }
   ],
   "source": [
    "# selecting rows and columns\n",
    "df3.iloc[[2,4],[2,4]]"
   ]
  },
  {
   "cell_type": "markdown",
   "id": "455fee0a",
   "metadata": {},
   "source": [
    "#### Boolean Indexing"
   ]
  },
  {
   "cell_type": "code",
   "execution_count": 61,
   "id": "00e284e8",
   "metadata": {},
   "outputs": [
    {
     "data": {
      "text/html": [
       "<div>\n",
       "<style scoped>\n",
       "    .dataframe tbody tr th:only-of-type {\n",
       "        vertical-align: middle;\n",
       "    }\n",
       "\n",
       "    .dataframe tbody tr th {\n",
       "        vertical-align: top;\n",
       "    }\n",
       "\n",
       "    .dataframe thead th {\n",
       "        text-align: right;\n",
       "    }\n",
       "</style>\n",
       "<table border=\"1\" class=\"dataframe\">\n",
       "  <thead>\n",
       "    <tr style=\"text-align: right;\">\n",
       "      <th></th>\n",
       "      <th>Tattag</th>\n",
       "      <th>Zeit</th>\n",
       "      <th>Tatort</th>\n",
       "      <th>Tatort 2</th>\n",
       "      <th>Tatbestand</th>\n",
       "      <th>Geldbuße</th>\n",
       "    </tr>\n",
       "  </thead>\n",
       "  <tbody>\n",
       "    <tr>\n",
       "      <th>47</th>\n",
       "      <td>02.01.2021</td>\n",
       "      <td>09:32</td>\n",
       "      <td>Aachen, Eupener Str. Höhe 274</td>\n",
       "      <td>Fahrtrichtung Innenstadt</td>\n",
       "      <td>103762</td>\n",
       "      <td>80</td>\n",
       "    </tr>\n",
       "    <tr>\n",
       "      <th>48</th>\n",
       "      <td>02.01.2021</td>\n",
       "      <td>13:15</td>\n",
       "      <td>Aachen, Eupener Str. geg 340</td>\n",
       "      <td>Fahrtrichtung Innenstadt</td>\n",
       "      <td>103764</td>\n",
       "      <td>350</td>\n",
       "    </tr>\n",
       "    <tr>\n",
       "      <th>95</th>\n",
       "      <td>03.01.2021</td>\n",
       "      <td>13:31</td>\n",
       "      <td>Aachen, Trierer Str. 761-767</td>\n",
       "      <td>Richtung Innenstadt</td>\n",
       "      <td>103763</td>\n",
       "      <td>200</td>\n",
       "    </tr>\n",
       "    <tr>\n",
       "      <th>96</th>\n",
       "      <td>03.01.2021</td>\n",
       "      <td>11:41</td>\n",
       "      <td>Aachen, Hohenstaufenallee/Klemensstr.</td>\n",
       "      <td>Ri. Innenstadt</td>\n",
       "      <td>103765</td>\n",
       "      <td>860</td>\n",
       "    </tr>\n",
       "    <tr>\n",
       "      <th>135</th>\n",
       "      <td>04.01.2021</td>\n",
       "      <td>10:47</td>\n",
       "      <td>Aachen</td>\n",
       "      <td>Adenauerallee, 5m hi. Lat. 33</td>\n",
       "      <td>103762</td>\n",
       "      <td>80</td>\n",
       "    </tr>\n",
       "    <tr>\n",
       "      <th>...</th>\n",
       "      <td>...</td>\n",
       "      <td>...</td>\n",
       "      <td>...</td>\n",
       "      <td>...</td>\n",
       "      <td>...</td>\n",
       "      <td>...</td>\n",
       "    </tr>\n",
       "    <tr>\n",
       "      <th>67943</th>\n",
       "      <td>31.12.2021</td>\n",
       "      <td>18:34</td>\n",
       "      <td>Aachen, Eupener Str. Höhe 274</td>\n",
       "      <td>Fahrtrichtung Innenstadt</td>\n",
       "      <td>103761</td>\n",
       "      <td>70</td>\n",
       "    </tr>\n",
       "    <tr>\n",
       "      <th>67944</th>\n",
       "      <td>31.12.2021</td>\n",
       "      <td>00:36</td>\n",
       "      <td>Aachen, Eupener Str. Höhe 274</td>\n",
       "      <td>Fahrtrichtung Innenstadt</td>\n",
       "      <td>103762</td>\n",
       "      <td>115</td>\n",
       "    </tr>\n",
       "    <tr>\n",
       "      <th>67945</th>\n",
       "      <td>31.12.2021</td>\n",
       "      <td>16:15</td>\n",
       "      <td>Aachen, Eupener Str. Höhe 274</td>\n",
       "      <td>Fahrtrichtung Innenstadt</td>\n",
       "      <td>103762</td>\n",
       "      <td>115</td>\n",
       "    </tr>\n",
       "    <tr>\n",
       "      <th>67946</th>\n",
       "      <td>31.12.2021</td>\n",
       "      <td>16:59</td>\n",
       "      <td>Aachen, Turmstr./Prof.Pirletstr.</td>\n",
       "      <td>Fahrtrichtung Junkerstr.</td>\n",
       "      <td>103762</td>\n",
       "      <td>115</td>\n",
       "    </tr>\n",
       "    <tr>\n",
       "      <th>67948</th>\n",
       "      <td>31.12.2021</td>\n",
       "      <td>13:49</td>\n",
       "      <td>Aachen, Eupener Str. Höhe 274</td>\n",
       "      <td>Fahrtrichtung Innenstadt</td>\n",
       "      <td>123624</td>\n",
       "      <td>115</td>\n",
       "    </tr>\n",
       "  </tbody>\n",
       "</table>\n",
       "<p>7230 rows × 6 columns</p>\n",
       "</div>"
      ],
      "text/plain": [
       "           Tattag   Zeit                                 Tatort  \\\n",
       "47     02.01.2021  09:32          Aachen, Eupener Str. Höhe 274   \n",
       "48     02.01.2021  13:15           Aachen, Eupener Str. geg 340   \n",
       "95     03.01.2021  13:31           Aachen, Trierer Str. 761-767   \n",
       "96     03.01.2021  11:41  Aachen, Hohenstaufenallee/Klemensstr.   \n",
       "135    04.01.2021  10:47                                 Aachen   \n",
       "...           ...    ...                                    ...   \n",
       "67943  31.12.2021  18:34          Aachen, Eupener Str. Höhe 274   \n",
       "67944  31.12.2021  00:36          Aachen, Eupener Str. Höhe 274   \n",
       "67945  31.12.2021  16:15          Aachen, Eupener Str. Höhe 274   \n",
       "67946  31.12.2021  16:59       Aachen, Turmstr./Prof.Pirletstr.   \n",
       "67948  31.12.2021  13:49          Aachen, Eupener Str. Höhe 274   \n",
       "\n",
       "                            Tatort 2  Tatbestand  Geldbuße  \n",
       "47          Fahrtrichtung Innenstadt      103762        80  \n",
       "48          Fahrtrichtung Innenstadt      103764       350  \n",
       "95               Richtung Innenstadt      103763       200  \n",
       "96                    Ri. Innenstadt      103765       860  \n",
       "135    Adenauerallee, 5m hi. Lat. 33      103762        80  \n",
       "...                              ...         ...       ...  \n",
       "67943       Fahrtrichtung Innenstadt      103761        70  \n",
       "67944       Fahrtrichtung Innenstadt      103762       115  \n",
       "67945       Fahrtrichtung Innenstadt      103762       115  \n",
       "67946       Fahrtrichtung Junkerstr.      103762       115  \n",
       "67948       Fahrtrichtung Innenstadt      123624       115  \n",
       "\n",
       "[7230 rows x 6 columns]"
      ]
     },
     "execution_count": 61,
     "metadata": {},
     "output_type": "execute_result"
    }
   ],
   "source": [
    "# using a single column value to select data\n",
    "df3[df3[\"Geldbuße\"] > 50]"
   ]
  },
  {
   "cell_type": "code",
   "execution_count": 69,
   "id": "50eb9a63",
   "metadata": {},
   "outputs": [
    {
     "data": {
      "text/html": [
       "<div>\n",
       "<style scoped>\n",
       "    .dataframe tbody tr th:only-of-type {\n",
       "        vertical-align: middle;\n",
       "    }\n",
       "\n",
       "    .dataframe tbody tr th {\n",
       "        vertical-align: top;\n",
       "    }\n",
       "\n",
       "    .dataframe thead th {\n",
       "        text-align: right;\n",
       "    }\n",
       "</style>\n",
       "<table border=\"1\" class=\"dataframe\">\n",
       "  <thead>\n",
       "    <tr style=\"text-align: right;\">\n",
       "      <th></th>\n",
       "      <th>0</th>\n",
       "      <th>1</th>\n",
       "      <th>2</th>\n",
       "      <th>3</th>\n",
       "      <th>4</th>\n",
       "      <th>5</th>\n",
       "      <th>6</th>\n",
       "      <th>7</th>\n",
       "      <th>8</th>\n",
       "      <th>9</th>\n",
       "    </tr>\n",
       "  </thead>\n",
       "  <tbody>\n",
       "    <tr>\n",
       "      <th>0</th>\n",
       "      <td>1.912707</td>\n",
       "      <td>NaN</td>\n",
       "      <td>NaN</td>\n",
       "      <td>NaN</td>\n",
       "      <td>NaN</td>\n",
       "      <td>NaN</td>\n",
       "      <td>NaN</td>\n",
       "      <td>NaN</td>\n",
       "      <td>NaN</td>\n",
       "      <td>NaN</td>\n",
       "    </tr>\n",
       "    <tr>\n",
       "      <th>1</th>\n",
       "      <td>NaN</td>\n",
       "      <td>NaN</td>\n",
       "      <td>1.385069</td>\n",
       "      <td>NaN</td>\n",
       "      <td>NaN</td>\n",
       "      <td>NaN</td>\n",
       "      <td>1.850633</td>\n",
       "      <td>NaN</td>\n",
       "      <td>NaN</td>\n",
       "      <td>NaN</td>\n",
       "    </tr>\n",
       "    <tr>\n",
       "      <th>2</th>\n",
       "      <td>NaN</td>\n",
       "      <td>1.571183</td>\n",
       "      <td>NaN</td>\n",
       "      <td>NaN</td>\n",
       "      <td>NaN</td>\n",
       "      <td>NaN</td>\n",
       "      <td>NaN</td>\n",
       "      <td>NaN</td>\n",
       "      <td>NaN</td>\n",
       "      <td>NaN</td>\n",
       "    </tr>\n",
       "    <tr>\n",
       "      <th>3</th>\n",
       "      <td>NaN</td>\n",
       "      <td>NaN</td>\n",
       "      <td>NaN</td>\n",
       "      <td>NaN</td>\n",
       "      <td>1.059423</td>\n",
       "      <td>NaN</td>\n",
       "      <td>NaN</td>\n",
       "      <td>NaN</td>\n",
       "      <td>1.198212</td>\n",
       "      <td>NaN</td>\n",
       "    </tr>\n",
       "    <tr>\n",
       "      <th>4</th>\n",
       "      <td>NaN</td>\n",
       "      <td>NaN</td>\n",
       "      <td>1.769245</td>\n",
       "      <td>NaN</td>\n",
       "      <td>NaN</td>\n",
       "      <td>NaN</td>\n",
       "      <td>NaN</td>\n",
       "      <td>NaN</td>\n",
       "      <td>NaN</td>\n",
       "      <td>1.125886</td>\n",
       "    </tr>\n",
       "    <tr>\n",
       "      <th>5</th>\n",
       "      <td>NaN</td>\n",
       "      <td>NaN</td>\n",
       "      <td>NaN</td>\n",
       "      <td>NaN</td>\n",
       "      <td>NaN</td>\n",
       "      <td>NaN</td>\n",
       "      <td>NaN</td>\n",
       "      <td>NaN</td>\n",
       "      <td>NaN</td>\n",
       "      <td>NaN</td>\n",
       "    </tr>\n",
       "    <tr>\n",
       "      <th>6</th>\n",
       "      <td>1.350088</td>\n",
       "      <td>NaN</td>\n",
       "      <td>NaN</td>\n",
       "      <td>NaN</td>\n",
       "      <td>NaN</td>\n",
       "      <td>NaN</td>\n",
       "      <td>NaN</td>\n",
       "      <td>NaN</td>\n",
       "      <td>NaN</td>\n",
       "      <td>1.122656</td>\n",
       "    </tr>\n",
       "    <tr>\n",
       "      <th>7</th>\n",
       "      <td>NaN</td>\n",
       "      <td>NaN</td>\n",
       "      <td>NaN</td>\n",
       "      <td>NaN</td>\n",
       "      <td>NaN</td>\n",
       "      <td>NaN</td>\n",
       "      <td>1.360406</td>\n",
       "      <td>NaN</td>\n",
       "      <td>NaN</td>\n",
       "      <td>NaN</td>\n",
       "    </tr>\n",
       "    <tr>\n",
       "      <th>8</th>\n",
       "      <td>NaN</td>\n",
       "      <td>NaN</td>\n",
       "      <td>1.078924</td>\n",
       "      <td>NaN</td>\n",
       "      <td>NaN</td>\n",
       "      <td>NaN</td>\n",
       "      <td>NaN</td>\n",
       "      <td>NaN</td>\n",
       "      <td>NaN</td>\n",
       "      <td>NaN</td>\n",
       "    </tr>\n",
       "    <tr>\n",
       "      <th>9</th>\n",
       "      <td>NaN</td>\n",
       "      <td>NaN</td>\n",
       "      <td>NaN</td>\n",
       "      <td>1.050434</td>\n",
       "      <td>NaN</td>\n",
       "      <td>2.219802</td>\n",
       "      <td>NaN</td>\n",
       "      <td>NaN</td>\n",
       "      <td>NaN</td>\n",
       "      <td>NaN</td>\n",
       "    </tr>\n",
       "  </tbody>\n",
       "</table>\n",
       "</div>"
      ],
      "text/plain": [
       "          0         1         2         3         4         5         6   7  \\\n",
       "0  1.912707       NaN       NaN       NaN       NaN       NaN       NaN NaN   \n",
       "1       NaN       NaN  1.385069       NaN       NaN       NaN  1.850633 NaN   \n",
       "2       NaN  1.571183       NaN       NaN       NaN       NaN       NaN NaN   \n",
       "3       NaN       NaN       NaN       NaN  1.059423       NaN       NaN NaN   \n",
       "4       NaN       NaN  1.769245       NaN       NaN       NaN       NaN NaN   \n",
       "5       NaN       NaN       NaN       NaN       NaN       NaN       NaN NaN   \n",
       "6  1.350088       NaN       NaN       NaN       NaN       NaN       NaN NaN   \n",
       "7       NaN       NaN       NaN       NaN       NaN       NaN  1.360406 NaN   \n",
       "8       NaN       NaN  1.078924       NaN       NaN       NaN       NaN NaN   \n",
       "9       NaN       NaN       NaN  1.050434       NaN  2.219802       NaN NaN   \n",
       "\n",
       "          8         9  \n",
       "0       NaN       NaN  \n",
       "1       NaN       NaN  \n",
       "2       NaN       NaN  \n",
       "3  1.198212       NaN  \n",
       "4       NaN  1.125886  \n",
       "5       NaN       NaN  \n",
       "6       NaN  1.122656  \n",
       "7       NaN       NaN  \n",
       "8       NaN       NaN  \n",
       "9       NaN       NaN  "
      ]
     },
     "execution_count": 69,
     "metadata": {},
     "output_type": "execute_result"
    }
   ],
   "source": [
    "# selecting values that meet a boolean condition\n",
    "df2[df2 > 1]"
   ]
  },
  {
   "cell_type": "markdown",
   "id": "87294f89",
   "metadata": {},
   "source": [
    "#### Setting Values"
   ]
  },
  {
   "cell_type": "code",
   "execution_count": 70,
   "id": "e1200870",
   "metadata": {},
   "outputs": [
    {
     "data": {
      "text/html": [
       "<div>\n",
       "<style scoped>\n",
       "    .dataframe tbody tr th:only-of-type {\n",
       "        vertical-align: middle;\n",
       "    }\n",
       "\n",
       "    .dataframe tbody tr th {\n",
       "        vertical-align: top;\n",
       "    }\n",
       "\n",
       "    .dataframe thead th {\n",
       "        text-align: right;\n",
       "    }\n",
       "</style>\n",
       "<table border=\"1\" class=\"dataframe\">\n",
       "  <thead>\n",
       "    <tr style=\"text-align: right;\">\n",
       "      <th></th>\n",
       "      <th>0</th>\n",
       "      <th>1</th>\n",
       "      <th>2</th>\n",
       "      <th>3</th>\n",
       "      <th>4</th>\n",
       "      <th>5</th>\n",
       "      <th>6</th>\n",
       "      <th>7</th>\n",
       "      <th>8</th>\n",
       "      <th>9</th>\n",
       "    </tr>\n",
       "  </thead>\n",
       "  <tbody>\n",
       "    <tr>\n",
       "      <th>0</th>\n",
       "      <td>1.912707</td>\n",
       "      <td>-1.175194</td>\n",
       "      <td>-0.439828</td>\n",
       "      <td>-1.584741</td>\n",
       "      <td>-0.558594</td>\n",
       "      <td>-0.061947</td>\n",
       "      <td>-0.403085</td>\n",
       "      <td>-0.401009</td>\n",
       "      <td>-0.981270</td>\n",
       "      <td>0.761806</td>\n",
       "    </tr>\n",
       "    <tr>\n",
       "      <th>1</th>\n",
       "      <td>-0.106303</td>\n",
       "      <td>-0.201669</td>\n",
       "      <td>1.385069</td>\n",
       "      <td>-0.415475</td>\n",
       "      <td>-0.697072</td>\n",
       "      <td>-1.315049</td>\n",
       "      <td>1.850633</td>\n",
       "      <td>-0.078931</td>\n",
       "      <td>-1.751133</td>\n",
       "      <td>-2.323325</td>\n",
       "    </tr>\n",
       "    <tr>\n",
       "      <th>2</th>\n",
       "      <td>0.302120</td>\n",
       "      <td>1.571183</td>\n",
       "      <td>0.720835</td>\n",
       "      <td>0.622757</td>\n",
       "      <td>0.186416</td>\n",
       "      <td>-0.570612</td>\n",
       "      <td>-0.483853</td>\n",
       "      <td>-0.931561</td>\n",
       "      <td>-1.082551</td>\n",
       "      <td>-0.002478</td>\n",
       "    </tr>\n",
       "    <tr>\n",
       "      <th>3</th>\n",
       "      <td>0.554010</td>\n",
       "      <td>0.238735</td>\n",
       "      <td>0.816043</td>\n",
       "      <td>-0.229889</td>\n",
       "      <td>1.059423</td>\n",
       "      <td>-0.099396</td>\n",
       "      <td>-0.545719</td>\n",
       "      <td>0.049763</td>\n",
       "      <td>1.198212</td>\n",
       "      <td>0.278427</td>\n",
       "    </tr>\n",
       "    <tr>\n",
       "      <th>4</th>\n",
       "      <td>-0.100404</td>\n",
       "      <td>0.233400</td>\n",
       "      <td>1.769245</td>\n",
       "      <td>-1.755601</td>\n",
       "      <td>0.910272</td>\n",
       "      <td>0.105253</td>\n",
       "      <td>-0.928767</td>\n",
       "      <td>0.201712</td>\n",
       "      <td>0.079400</td>\n",
       "      <td>1.125886</td>\n",
       "    </tr>\n",
       "    <tr>\n",
       "      <th>5</th>\n",
       "      <td>-1.974237</td>\n",
       "      <td>0.995469</td>\n",
       "      <td>0.524299</td>\n",
       "      <td>0.167532</td>\n",
       "      <td>-0.525556</td>\n",
       "      <td>-0.443694</td>\n",
       "      <td>0.858684</td>\n",
       "      <td>0.665856</td>\n",
       "      <td>0.781521</td>\n",
       "      <td>-1.096162</td>\n",
       "    </tr>\n",
       "    <tr>\n",
       "      <th>6</th>\n",
       "      <td>1.350088</td>\n",
       "      <td>-1.008031</td>\n",
       "      <td>-2.179781</td>\n",
       "      <td>-0.935600</td>\n",
       "      <td>-0.243324</td>\n",
       "      <td>-1.015463</td>\n",
       "      <td>-0.143692</td>\n",
       "      <td>0.045937</td>\n",
       "      <td>0.656489</td>\n",
       "      <td>1.122656</td>\n",
       "    </tr>\n",
       "    <tr>\n",
       "      <th>7</th>\n",
       "      <td>0.276314</td>\n",
       "      <td>0.012092</td>\n",
       "      <td>-0.569280</td>\n",
       "      <td>0.003044</td>\n",
       "      <td>-0.951214</td>\n",
       "      <td>0.375466</td>\n",
       "      <td>1.360406</td>\n",
       "      <td>-0.508022</td>\n",
       "      <td>-0.979138</td>\n",
       "      <td>0.810259</td>\n",
       "    </tr>\n",
       "    <tr>\n",
       "      <th>8</th>\n",
       "      <td>-1.106170</td>\n",
       "      <td>-1.386908</td>\n",
       "      <td>1.078924</td>\n",
       "      <td>-0.976241</td>\n",
       "      <td>0.557081</td>\n",
       "      <td>-1.199145</td>\n",
       "      <td>-1.037135</td>\n",
       "      <td>0.194850</td>\n",
       "      <td>-0.310678</td>\n",
       "      <td>-1.047363</td>\n",
       "    </tr>\n",
       "    <tr>\n",
       "      <th>9</th>\n",
       "      <td>-2.122414</td>\n",
       "      <td>-1.575383</td>\n",
       "      <td>-0.458788</td>\n",
       "      <td>1.050434</td>\n",
       "      <td>0.096926</td>\n",
       "      <td>2.219802</td>\n",
       "      <td>0.123950</td>\n",
       "      <td>0.062149</td>\n",
       "      <td>0.553545</td>\n",
       "      <td>0.486472</td>\n",
       "    </tr>\n",
       "  </tbody>\n",
       "</table>\n",
       "</div>"
      ],
      "text/plain": [
       "          0         1         2         3         4         5         6  \\\n",
       "0  1.912707 -1.175194 -0.439828 -1.584741 -0.558594 -0.061947 -0.403085   \n",
       "1 -0.106303 -0.201669  1.385069 -0.415475 -0.697072 -1.315049  1.850633   \n",
       "2  0.302120  1.571183  0.720835  0.622757  0.186416 -0.570612 -0.483853   \n",
       "3  0.554010  0.238735  0.816043 -0.229889  1.059423 -0.099396 -0.545719   \n",
       "4 -0.100404  0.233400  1.769245 -1.755601  0.910272  0.105253 -0.928767   \n",
       "5 -1.974237  0.995469  0.524299  0.167532 -0.525556 -0.443694  0.858684   \n",
       "6  1.350088 -1.008031 -2.179781 -0.935600 -0.243324 -1.015463 -0.143692   \n",
       "7  0.276314  0.012092 -0.569280  0.003044 -0.951214  0.375466  1.360406   \n",
       "8 -1.106170 -1.386908  1.078924 -0.976241  0.557081 -1.199145 -1.037135   \n",
       "9 -2.122414 -1.575383 -0.458788  1.050434  0.096926  2.219802  0.123950   \n",
       "\n",
       "          7         8         9  \n",
       "0 -0.401009 -0.981270  0.761806  \n",
       "1 -0.078931 -1.751133 -2.323325  \n",
       "2 -0.931561 -1.082551 -0.002478  \n",
       "3  0.049763  1.198212  0.278427  \n",
       "4  0.201712  0.079400  1.125886  \n",
       "5  0.665856  0.781521 -1.096162  \n",
       "6  0.045937  0.656489  1.122656  \n",
       "7 -0.508022 -0.979138  0.810259  \n",
       "8  0.194850 -0.310678 -1.047363  \n",
       "9  0.062149  0.553545  0.486472  "
      ]
     },
     "execution_count": 70,
     "metadata": {},
     "output_type": "execute_result"
    }
   ],
   "source": [
    "# recap: this was df 2\n",
    "df2"
   ]
  },
  {
   "cell_type": "code",
   "execution_count": 71,
   "id": "2c8b6954",
   "metadata": {},
   "outputs": [
    {
     "data": {
      "text/html": [
       "<div>\n",
       "<style scoped>\n",
       "    .dataframe tbody tr th:only-of-type {\n",
       "        vertical-align: middle;\n",
       "    }\n",
       "\n",
       "    .dataframe tbody tr th {\n",
       "        vertical-align: top;\n",
       "    }\n",
       "\n",
       "    .dataframe thead th {\n",
       "        text-align: right;\n",
       "    }\n",
       "</style>\n",
       "<table border=\"1\" class=\"dataframe\">\n",
       "  <thead>\n",
       "    <tr style=\"text-align: right;\">\n",
       "      <th></th>\n",
       "      <th>0</th>\n",
       "      <th>1</th>\n",
       "      <th>2</th>\n",
       "      <th>3</th>\n",
       "      <th>4</th>\n",
       "      <th>5</th>\n",
       "      <th>6</th>\n",
       "      <th>7</th>\n",
       "      <th>8</th>\n",
       "      <th>9</th>\n",
       "      <th>10</th>\n",
       "    </tr>\n",
       "  </thead>\n",
       "  <tbody>\n",
       "    <tr>\n",
       "      <th>0</th>\n",
       "      <td>1.912707</td>\n",
       "      <td>-1.175194</td>\n",
       "      <td>-0.439828</td>\n",
       "      <td>-1.584741</td>\n",
       "      <td>-0.558594</td>\n",
       "      <td>-0.061947</td>\n",
       "      <td>-0.403085</td>\n",
       "      <td>-0.401009</td>\n",
       "      <td>-0.981270</td>\n",
       "      <td>0.761806</td>\n",
       "      <td>4</td>\n",
       "    </tr>\n",
       "    <tr>\n",
       "      <th>1</th>\n",
       "      <td>-0.106303</td>\n",
       "      <td>-0.201669</td>\n",
       "      <td>1.385069</td>\n",
       "      <td>-0.415475</td>\n",
       "      <td>-0.697072</td>\n",
       "      <td>-1.315049</td>\n",
       "      <td>1.850633</td>\n",
       "      <td>-0.078931</td>\n",
       "      <td>-1.751133</td>\n",
       "      <td>-2.323325</td>\n",
       "      <td>2</td>\n",
       "    </tr>\n",
       "    <tr>\n",
       "      <th>2</th>\n",
       "      <td>0.302120</td>\n",
       "      <td>1.571183</td>\n",
       "      <td>0.720835</td>\n",
       "      <td>0.622757</td>\n",
       "      <td>0.186416</td>\n",
       "      <td>-0.570612</td>\n",
       "      <td>-0.483853</td>\n",
       "      <td>-0.931561</td>\n",
       "      <td>-1.082551</td>\n",
       "      <td>-0.002478</td>\n",
       "      <td>3</td>\n",
       "    </tr>\n",
       "    <tr>\n",
       "      <th>3</th>\n",
       "      <td>0.554010</td>\n",
       "      <td>0.238735</td>\n",
       "      <td>0.816043</td>\n",
       "      <td>-0.229889</td>\n",
       "      <td>1.059423</td>\n",
       "      <td>-0.099396</td>\n",
       "      <td>-0.545719</td>\n",
       "      <td>0.049763</td>\n",
       "      <td>1.198212</td>\n",
       "      <td>0.278427</td>\n",
       "      <td>4</td>\n",
       "    </tr>\n",
       "    <tr>\n",
       "      <th>4</th>\n",
       "      <td>-0.100404</td>\n",
       "      <td>0.233400</td>\n",
       "      <td>1.769245</td>\n",
       "      <td>-1.755601</td>\n",
       "      <td>0.910272</td>\n",
       "      <td>0.105253</td>\n",
       "      <td>-0.928767</td>\n",
       "      <td>0.201712</td>\n",
       "      <td>0.079400</td>\n",
       "      <td>1.125886</td>\n",
       "      <td>5</td>\n",
       "    </tr>\n",
       "    <tr>\n",
       "      <th>5</th>\n",
       "      <td>-1.974237</td>\n",
       "      <td>0.995469</td>\n",
       "      <td>0.524299</td>\n",
       "      <td>0.167532</td>\n",
       "      <td>-0.525556</td>\n",
       "      <td>-0.443694</td>\n",
       "      <td>0.858684</td>\n",
       "      <td>0.665856</td>\n",
       "      <td>0.781521</td>\n",
       "      <td>-1.096162</td>\n",
       "      <td>8</td>\n",
       "    </tr>\n",
       "    <tr>\n",
       "      <th>6</th>\n",
       "      <td>1.350088</td>\n",
       "      <td>-1.008031</td>\n",
       "      <td>-2.179781</td>\n",
       "      <td>-0.935600</td>\n",
       "      <td>-0.243324</td>\n",
       "      <td>-1.015463</td>\n",
       "      <td>-0.143692</td>\n",
       "      <td>0.045937</td>\n",
       "      <td>0.656489</td>\n",
       "      <td>1.122656</td>\n",
       "      <td>7</td>\n",
       "    </tr>\n",
       "    <tr>\n",
       "      <th>7</th>\n",
       "      <td>0.276314</td>\n",
       "      <td>0.012092</td>\n",
       "      <td>-0.569280</td>\n",
       "      <td>0.003044</td>\n",
       "      <td>-0.951214</td>\n",
       "      <td>0.375466</td>\n",
       "      <td>1.360406</td>\n",
       "      <td>-0.508022</td>\n",
       "      <td>-0.979138</td>\n",
       "      <td>0.810259</td>\n",
       "      <td>1</td>\n",
       "    </tr>\n",
       "    <tr>\n",
       "      <th>8</th>\n",
       "      <td>-1.106170</td>\n",
       "      <td>-1.386908</td>\n",
       "      <td>1.078924</td>\n",
       "      <td>-0.976241</td>\n",
       "      <td>0.557081</td>\n",
       "      <td>-1.199145</td>\n",
       "      <td>-1.037135</td>\n",
       "      <td>0.194850</td>\n",
       "      <td>-0.310678</td>\n",
       "      <td>-1.047363</td>\n",
       "      <td>1</td>\n",
       "    </tr>\n",
       "    <tr>\n",
       "      <th>9</th>\n",
       "      <td>-2.122414</td>\n",
       "      <td>-1.575383</td>\n",
       "      <td>-0.458788</td>\n",
       "      <td>1.050434</td>\n",
       "      <td>0.096926</td>\n",
       "      <td>2.219802</td>\n",
       "      <td>0.123950</td>\n",
       "      <td>0.062149</td>\n",
       "      <td>0.553545</td>\n",
       "      <td>0.486472</td>\n",
       "      <td>2</td>\n",
       "    </tr>\n",
       "  </tbody>\n",
       "</table>\n",
       "</div>"
      ],
      "text/plain": [
       "         0         1         2         3         4         5         6   \\\n",
       "0  1.912707 -1.175194 -0.439828 -1.584741 -0.558594 -0.061947 -0.403085   \n",
       "1 -0.106303 -0.201669  1.385069 -0.415475 -0.697072 -1.315049  1.850633   \n",
       "2  0.302120  1.571183  0.720835  0.622757  0.186416 -0.570612 -0.483853   \n",
       "3  0.554010  0.238735  0.816043 -0.229889  1.059423 -0.099396 -0.545719   \n",
       "4 -0.100404  0.233400  1.769245 -1.755601  0.910272  0.105253 -0.928767   \n",
       "5 -1.974237  0.995469  0.524299  0.167532 -0.525556 -0.443694  0.858684   \n",
       "6  1.350088 -1.008031 -2.179781 -0.935600 -0.243324 -1.015463 -0.143692   \n",
       "7  0.276314  0.012092 -0.569280  0.003044 -0.951214  0.375466  1.360406   \n",
       "8 -1.106170 -1.386908  1.078924 -0.976241  0.557081 -1.199145 -1.037135   \n",
       "9 -2.122414 -1.575383 -0.458788  1.050434  0.096926  2.219802  0.123950   \n",
       "\n",
       "         7         8         9   10  \n",
       "0 -0.401009 -0.981270  0.761806   4  \n",
       "1 -0.078931 -1.751133 -2.323325   2  \n",
       "2 -0.931561 -1.082551 -0.002478   3  \n",
       "3  0.049763  1.198212  0.278427   4  \n",
       "4  0.201712  0.079400  1.125886   5  \n",
       "5  0.665856  0.781521 -1.096162   8  \n",
       "6  0.045937  0.656489  1.122656   7  \n",
       "7 -0.508022 -0.979138  0.810259   1  \n",
       "8  0.194850 -0.310678 -1.047363   1  \n",
       "9  0.062149  0.553545  0.486472   2  "
      ]
     },
     "execution_count": 71,
     "metadata": {},
     "output_type": "execute_result"
    }
   ],
   "source": [
    "# add a column to the dataframe\n",
    "df2[10]=[4,2,3,4,5,8,7,1,1,2]\n",
    "df2"
   ]
  },
  {
   "cell_type": "code",
   "execution_count": 72,
   "id": "2b061cec",
   "metadata": {},
   "outputs": [
    {
     "data": {
      "text/html": [
       "<div>\n",
       "<style scoped>\n",
       "    .dataframe tbody tr th:only-of-type {\n",
       "        vertical-align: middle;\n",
       "    }\n",
       "\n",
       "    .dataframe tbody tr th {\n",
       "        vertical-align: top;\n",
       "    }\n",
       "\n",
       "    .dataframe thead th {\n",
       "        text-align: right;\n",
       "    }\n",
       "</style>\n",
       "<table border=\"1\" class=\"dataframe\">\n",
       "  <thead>\n",
       "    <tr style=\"text-align: right;\">\n",
       "      <th></th>\n",
       "      <th>0</th>\n",
       "      <th>1</th>\n",
       "      <th>2</th>\n",
       "      <th>3</th>\n",
       "      <th>4</th>\n",
       "      <th>5</th>\n",
       "      <th>6</th>\n",
       "      <th>7</th>\n",
       "      <th>8</th>\n",
       "      <th>9</th>\n",
       "      <th>10</th>\n",
       "      <th>11</th>\n",
       "    </tr>\n",
       "  </thead>\n",
       "  <tbody>\n",
       "    <tr>\n",
       "      <th>0</th>\n",
       "      <td>1.912707</td>\n",
       "      <td>-1.175194</td>\n",
       "      <td>-0.439828</td>\n",
       "      <td>-1.584741</td>\n",
       "      <td>-0.558594</td>\n",
       "      <td>-0.061947</td>\n",
       "      <td>-0.403085</td>\n",
       "      <td>-0.401009</td>\n",
       "      <td>-0.981270</td>\n",
       "      <td>0.761806</td>\n",
       "      <td>4</td>\n",
       "      <td>1</td>\n",
       "    </tr>\n",
       "    <tr>\n",
       "      <th>1</th>\n",
       "      <td>-0.106303</td>\n",
       "      <td>-0.201669</td>\n",
       "      <td>1.385069</td>\n",
       "      <td>-0.415475</td>\n",
       "      <td>-0.697072</td>\n",
       "      <td>-1.315049</td>\n",
       "      <td>1.850633</td>\n",
       "      <td>-0.078931</td>\n",
       "      <td>-1.751133</td>\n",
       "      <td>-2.323325</td>\n",
       "      <td>2</td>\n",
       "      <td>1</td>\n",
       "    </tr>\n",
       "    <tr>\n",
       "      <th>2</th>\n",
       "      <td>0.302120</td>\n",
       "      <td>1.571183</td>\n",
       "      <td>0.720835</td>\n",
       "      <td>0.622757</td>\n",
       "      <td>0.186416</td>\n",
       "      <td>-0.570612</td>\n",
       "      <td>-0.483853</td>\n",
       "      <td>-0.931561</td>\n",
       "      <td>-1.082551</td>\n",
       "      <td>-0.002478</td>\n",
       "      <td>3</td>\n",
       "      <td>1</td>\n",
       "    </tr>\n",
       "    <tr>\n",
       "      <th>3</th>\n",
       "      <td>0.554010</td>\n",
       "      <td>0.238735</td>\n",
       "      <td>0.816043</td>\n",
       "      <td>-0.229889</td>\n",
       "      <td>1.059423</td>\n",
       "      <td>-0.099396</td>\n",
       "      <td>-0.545719</td>\n",
       "      <td>0.049763</td>\n",
       "      <td>1.198212</td>\n",
       "      <td>0.278427</td>\n",
       "      <td>4</td>\n",
       "      <td>1</td>\n",
       "    </tr>\n",
       "    <tr>\n",
       "      <th>4</th>\n",
       "      <td>-0.100404</td>\n",
       "      <td>0.233400</td>\n",
       "      <td>1.769245</td>\n",
       "      <td>-1.755601</td>\n",
       "      <td>0.910272</td>\n",
       "      <td>0.105253</td>\n",
       "      <td>-0.928767</td>\n",
       "      <td>0.201712</td>\n",
       "      <td>0.079400</td>\n",
       "      <td>1.125886</td>\n",
       "      <td>5</td>\n",
       "      <td>1</td>\n",
       "    </tr>\n",
       "    <tr>\n",
       "      <th>5</th>\n",
       "      <td>-1.974237</td>\n",
       "      <td>0.995469</td>\n",
       "      <td>0.524299</td>\n",
       "      <td>0.167532</td>\n",
       "      <td>-0.525556</td>\n",
       "      <td>-0.443694</td>\n",
       "      <td>0.858684</td>\n",
       "      <td>0.665856</td>\n",
       "      <td>0.781521</td>\n",
       "      <td>-1.096162</td>\n",
       "      <td>8</td>\n",
       "      <td>1</td>\n",
       "    </tr>\n",
       "    <tr>\n",
       "      <th>6</th>\n",
       "      <td>1.350088</td>\n",
       "      <td>-1.008031</td>\n",
       "      <td>-2.179781</td>\n",
       "      <td>-0.935600</td>\n",
       "      <td>-0.243324</td>\n",
       "      <td>-1.015463</td>\n",
       "      <td>-0.143692</td>\n",
       "      <td>0.045937</td>\n",
       "      <td>0.656489</td>\n",
       "      <td>1.122656</td>\n",
       "      <td>7</td>\n",
       "      <td>1</td>\n",
       "    </tr>\n",
       "    <tr>\n",
       "      <th>7</th>\n",
       "      <td>0.276314</td>\n",
       "      <td>0.012092</td>\n",
       "      <td>-0.569280</td>\n",
       "      <td>0.003044</td>\n",
       "      <td>-0.951214</td>\n",
       "      <td>0.375466</td>\n",
       "      <td>1.360406</td>\n",
       "      <td>-0.508022</td>\n",
       "      <td>-0.979138</td>\n",
       "      <td>0.810259</td>\n",
       "      <td>1</td>\n",
       "      <td>1</td>\n",
       "    </tr>\n",
       "    <tr>\n",
       "      <th>8</th>\n",
       "      <td>-1.106170</td>\n",
       "      <td>-1.386908</td>\n",
       "      <td>1.078924</td>\n",
       "      <td>-0.976241</td>\n",
       "      <td>0.557081</td>\n",
       "      <td>-1.199145</td>\n",
       "      <td>-1.037135</td>\n",
       "      <td>0.194850</td>\n",
       "      <td>-0.310678</td>\n",
       "      <td>-1.047363</td>\n",
       "      <td>1</td>\n",
       "      <td>1</td>\n",
       "    </tr>\n",
       "    <tr>\n",
       "      <th>9</th>\n",
       "      <td>-2.122414</td>\n",
       "      <td>-1.575383</td>\n",
       "      <td>-0.458788</td>\n",
       "      <td>1.050434</td>\n",
       "      <td>0.096926</td>\n",
       "      <td>2.219802</td>\n",
       "      <td>0.123950</td>\n",
       "      <td>0.062149</td>\n",
       "      <td>0.553545</td>\n",
       "      <td>0.486472</td>\n",
       "      <td>2</td>\n",
       "      <td>1</td>\n",
       "    </tr>\n",
       "  </tbody>\n",
       "</table>\n",
       "</div>"
      ],
      "text/plain": [
       "         0         1         2         3         4         5         6   \\\n",
       "0  1.912707 -1.175194 -0.439828 -1.584741 -0.558594 -0.061947 -0.403085   \n",
       "1 -0.106303 -0.201669  1.385069 -0.415475 -0.697072 -1.315049  1.850633   \n",
       "2  0.302120  1.571183  0.720835  0.622757  0.186416 -0.570612 -0.483853   \n",
       "3  0.554010  0.238735  0.816043 -0.229889  1.059423 -0.099396 -0.545719   \n",
       "4 -0.100404  0.233400  1.769245 -1.755601  0.910272  0.105253 -0.928767   \n",
       "5 -1.974237  0.995469  0.524299  0.167532 -0.525556 -0.443694  0.858684   \n",
       "6  1.350088 -1.008031 -2.179781 -0.935600 -0.243324 -1.015463 -0.143692   \n",
       "7  0.276314  0.012092 -0.569280  0.003044 -0.951214  0.375466  1.360406   \n",
       "8 -1.106170 -1.386908  1.078924 -0.976241  0.557081 -1.199145 -1.037135   \n",
       "9 -2.122414 -1.575383 -0.458788  1.050434  0.096926  2.219802  0.123950   \n",
       "\n",
       "         7         8         9   10  11  \n",
       "0 -0.401009 -0.981270  0.761806   4   1  \n",
       "1 -0.078931 -1.751133 -2.323325   2   1  \n",
       "2 -0.931561 -1.082551 -0.002478   3   1  \n",
       "3  0.049763  1.198212  0.278427   4   1  \n",
       "4  0.201712  0.079400  1.125886   5   1  \n",
       "5  0.665856  0.781521 -1.096162   8   1  \n",
       "6  0.045937  0.656489  1.122656   7   1  \n",
       "7 -0.508022 -0.979138  0.810259   1   1  \n",
       "8  0.194850 -0.310678 -1.047363   1   1  \n",
       "9  0.062149  0.553545  0.486472   2   1  "
      ]
     },
     "execution_count": 72,
     "metadata": {},
     "output_type": "execute_result"
    }
   ],
   "source": [
    "# add a column based on a scalar value\n",
    "df2[11]=1\n",
    "df2"
   ]
  },
  {
   "cell_type": "code",
   "execution_count": 103,
   "id": "4de82c0c",
   "metadata": {},
   "outputs": [
    {
     "data": {
      "text/html": [
       "<div>\n",
       "<style scoped>\n",
       "    .dataframe tbody tr th:only-of-type {\n",
       "        vertical-align: middle;\n",
       "    }\n",
       "\n",
       "    .dataframe tbody tr th {\n",
       "        vertical-align: top;\n",
       "    }\n",
       "\n",
       "    .dataframe thead th {\n",
       "        text-align: right;\n",
       "    }\n",
       "</style>\n",
       "<table border=\"1\" class=\"dataframe\">\n",
       "  <thead>\n",
       "    <tr style=\"text-align: right;\">\n",
       "      <th></th>\n",
       "      <th>a</th>\n",
       "      <th>b</th>\n",
       "      <th>c</th>\n",
       "      <th>d</th>\n",
       "      <th>e</th>\n",
       "      <th>f</th>\n",
       "      <th>g</th>\n",
       "      <th>h</th>\n",
       "      <th>i</th>\n",
       "      <th>j</th>\n",
       "      <th>k</th>\n",
       "      <th>l</th>\n",
       "    </tr>\n",
       "  </thead>\n",
       "  <tbody>\n",
       "    <tr>\n",
       "      <th>0</th>\n",
       "      <td>0.000000</td>\n",
       "      <td>-0.073154</td>\n",
       "      <td>0.004775</td>\n",
       "      <td>-0.437722</td>\n",
       "      <td>-0.975052</td>\n",
       "      <td>-1.538580</td>\n",
       "      <td>1.093397</td>\n",
       "      <td>-0.588969</td>\n",
       "      <td>0.246409</td>\n",
       "      <td>-0.935171</td>\n",
       "      <td>4</td>\n",
       "      <td>1</td>\n",
       "    </tr>\n",
       "    <tr>\n",
       "      <th>1</th>\n",
       "      <td>-0.082010</td>\n",
       "      <td>10.000000</td>\n",
       "      <td>0.431732</td>\n",
       "      <td>0.334703</td>\n",
       "      <td>-0.050858</td>\n",
       "      <td>-0.990364</td>\n",
       "      <td>1.231719</td>\n",
       "      <td>-2.056545</td>\n",
       "      <td>-1.646121</td>\n",
       "      <td>0.052792</td>\n",
       "      <td>2</td>\n",
       "      <td>1</td>\n",
       "    </tr>\n",
       "    <tr>\n",
       "      <th>2</th>\n",
       "      <td>-0.573351</td>\n",
       "      <td>0.369062</td>\n",
       "      <td>-0.318486</td>\n",
       "      <td>-1.006260</td>\n",
       "      <td>0.493555</td>\n",
       "      <td>-0.196032</td>\n",
       "      <td>-1.008971</td>\n",
       "      <td>0.160074</td>\n",
       "      <td>-0.819990</td>\n",
       "      <td>-0.083953</td>\n",
       "      <td>3</td>\n",
       "      <td>1</td>\n",
       "    </tr>\n",
       "    <tr>\n",
       "      <th>3</th>\n",
       "      <td>0.113457</td>\n",
       "      <td>0.203803</td>\n",
       "      <td>0.639847</td>\n",
       "      <td>-0.742944</td>\n",
       "      <td>-1.698746</td>\n",
       "      <td>0.419818</td>\n",
       "      <td>-1.344637</td>\n",
       "      <td>0.835584</td>\n",
       "      <td>-1.710342</td>\n",
       "      <td>0.750995</td>\n",
       "      <td>4</td>\n",
       "      <td>1</td>\n",
       "    </tr>\n",
       "    <tr>\n",
       "      <th>4</th>\n",
       "      <td>-0.055386</td>\n",
       "      <td>-0.606551</td>\n",
       "      <td>0.561045</td>\n",
       "      <td>-0.852149</td>\n",
       "      <td>-0.740451</td>\n",
       "      <td>-1.404650</td>\n",
       "      <td>0.559111</td>\n",
       "      <td>0.879245</td>\n",
       "      <td>-1.934584</td>\n",
       "      <td>0.424992</td>\n",
       "      <td>5</td>\n",
       "      <td>1</td>\n",
       "    </tr>\n",
       "    <tr>\n",
       "      <th>5</th>\n",
       "      <td>-0.095048</td>\n",
       "      <td>-0.521863</td>\n",
       "      <td>-1.412765</td>\n",
       "      <td>2.682318</td>\n",
       "      <td>1.102748</td>\n",
       "      <td>-0.531536</td>\n",
       "      <td>1.865056</td>\n",
       "      <td>-2.007814</td>\n",
       "      <td>0.390193</td>\n",
       "      <td>1.213710</td>\n",
       "      <td>8</td>\n",
       "      <td>1</td>\n",
       "    </tr>\n",
       "    <tr>\n",
       "      <th>6</th>\n",
       "      <td>-0.672599</td>\n",
       "      <td>-0.259075</td>\n",
       "      <td>-1.140535</td>\n",
       "      <td>0.562414</td>\n",
       "      <td>-0.828949</td>\n",
       "      <td>-0.281301</td>\n",
       "      <td>0.967435</td>\n",
       "      <td>0.836003</td>\n",
       "      <td>-0.633959</td>\n",
       "      <td>0.451731</td>\n",
       "      <td>7</td>\n",
       "      <td>1</td>\n",
       "    </tr>\n",
       "    <tr>\n",
       "      <th>7</th>\n",
       "      <td>-1.927475</td>\n",
       "      <td>1.122860</td>\n",
       "      <td>-0.903545</td>\n",
       "      <td>0.056787</td>\n",
       "      <td>-0.857490</td>\n",
       "      <td>0.326733</td>\n",
       "      <td>0.175435</td>\n",
       "      <td>-2.030105</td>\n",
       "      <td>1.477778</td>\n",
       "      <td>-2.459644</td>\n",
       "      <td>1</td>\n",
       "      <td>1</td>\n",
       "    </tr>\n",
       "    <tr>\n",
       "      <th>8</th>\n",
       "      <td>-0.328379</td>\n",
       "      <td>-1.715757</td>\n",
       "      <td>-1.129405</td>\n",
       "      <td>-0.573805</td>\n",
       "      <td>2.456164</td>\n",
       "      <td>-1.813646</td>\n",
       "      <td>0.320086</td>\n",
       "      <td>-0.723738</td>\n",
       "      <td>-0.234567</td>\n",
       "      <td>-0.585909</td>\n",
       "      <td>1</td>\n",
       "      <td>1</td>\n",
       "    </tr>\n",
       "    <tr>\n",
       "      <th>9</th>\n",
       "      <td>-1.515106</td>\n",
       "      <td>-2.609342</td>\n",
       "      <td>-0.256147</td>\n",
       "      <td>0.116045</td>\n",
       "      <td>-1.427349</td>\n",
       "      <td>0.972453</td>\n",
       "      <td>0.453070</td>\n",
       "      <td>0.380539</td>\n",
       "      <td>0.898912</td>\n",
       "      <td>0.367448</td>\n",
       "      <td>2</td>\n",
       "      <td>1</td>\n",
       "    </tr>\n",
       "  </tbody>\n",
       "</table>\n",
       "</div>"
      ],
      "text/plain": [
       "          a          b         c         d         e         f         g  \\\n",
       "0  0.000000  -0.073154  0.004775 -0.437722 -0.975052 -1.538580  1.093397   \n",
       "1 -0.082010  10.000000  0.431732  0.334703 -0.050858 -0.990364  1.231719   \n",
       "2 -0.573351   0.369062 -0.318486 -1.006260  0.493555 -0.196032 -1.008971   \n",
       "3  0.113457   0.203803  0.639847 -0.742944 -1.698746  0.419818 -1.344637   \n",
       "4 -0.055386  -0.606551  0.561045 -0.852149 -0.740451 -1.404650  0.559111   \n",
       "5 -0.095048  -0.521863 -1.412765  2.682318  1.102748 -0.531536  1.865056   \n",
       "6 -0.672599  -0.259075 -1.140535  0.562414 -0.828949 -0.281301  0.967435   \n",
       "7 -1.927475   1.122860 -0.903545  0.056787 -0.857490  0.326733  0.175435   \n",
       "8 -0.328379  -1.715757 -1.129405 -0.573805  2.456164 -1.813646  0.320086   \n",
       "9 -1.515106  -2.609342 -0.256147  0.116045 -1.427349  0.972453  0.453070   \n",
       "\n",
       "          h         i         j  k  l  \n",
       "0 -0.588969  0.246409 -0.935171  4  1  \n",
       "1 -2.056545 -1.646121  0.052792  2  1  \n",
       "2  0.160074 -0.819990 -0.083953  3  1  \n",
       "3  0.835584 -1.710342  0.750995  4  1  \n",
       "4  0.879245 -1.934584  0.424992  5  1  \n",
       "5 -2.007814  0.390193  1.213710  8  1  \n",
       "6  0.836003 -0.633959  0.451731  7  1  \n",
       "7 -2.030105  1.477778 -2.459644  1  1  \n",
       "8 -0.723738 -0.234567 -0.585909  1  1  \n",
       "9  0.380539  0.898912  0.367448  2  1  "
      ]
     },
     "execution_count": 103,
     "metadata": {},
     "output_type": "execute_result"
    }
   ],
   "source": [
    "# rename columns\n",
    "df2.columns = ['a', 'b', 'c', 'd', 'e', 'f', 'g', 'h', 'i', 'j', 'k', 'l']\n",
    "df2"
   ]
  },
  {
   "cell_type": "code",
   "execution_count": 105,
   "id": "04935a1b",
   "metadata": {},
   "outputs": [
    {
     "data": {
      "text/html": [
       "<div>\n",
       "<style scoped>\n",
       "    .dataframe tbody tr th:only-of-type {\n",
       "        vertical-align: middle;\n",
       "    }\n",
       "\n",
       "    .dataframe tbody tr th {\n",
       "        vertical-align: top;\n",
       "    }\n",
       "\n",
       "    .dataframe thead th {\n",
       "        text-align: right;\n",
       "    }\n",
       "</style>\n",
       "<table border=\"1\" class=\"dataframe\">\n",
       "  <thead>\n",
       "    <tr style=\"text-align: right;\">\n",
       "      <th></th>\n",
       "      <th>Col_1</th>\n",
       "      <th>b</th>\n",
       "      <th>c</th>\n",
       "      <th>d</th>\n",
       "      <th>e</th>\n",
       "      <th>f</th>\n",
       "      <th>g</th>\n",
       "      <th>h</th>\n",
       "      <th>i</th>\n",
       "      <th>j</th>\n",
       "      <th>k</th>\n",
       "      <th>l</th>\n",
       "    </tr>\n",
       "    <tr>\n",
       "      <th>foo</th>\n",
       "      <th></th>\n",
       "      <th></th>\n",
       "      <th></th>\n",
       "      <th></th>\n",
       "      <th></th>\n",
       "      <th></th>\n",
       "      <th></th>\n",
       "      <th></th>\n",
       "      <th></th>\n",
       "      <th></th>\n",
       "      <th></th>\n",
       "      <th></th>\n",
       "    </tr>\n",
       "  </thead>\n",
       "  <tbody>\n",
       "    <tr>\n",
       "      <th>0</th>\n",
       "      <td>0.000000</td>\n",
       "      <td>-0.073154</td>\n",
       "      <td>0.004775</td>\n",
       "      <td>-0.437722</td>\n",
       "      <td>-0.975052</td>\n",
       "      <td>-1.538580</td>\n",
       "      <td>1.093397</td>\n",
       "      <td>-0.588969</td>\n",
       "      <td>0.246409</td>\n",
       "      <td>-0.935171</td>\n",
       "      <td>4</td>\n",
       "      <td>1</td>\n",
       "    </tr>\n",
       "    <tr>\n",
       "      <th>1</th>\n",
       "      <td>-0.082010</td>\n",
       "      <td>10.000000</td>\n",
       "      <td>0.431732</td>\n",
       "      <td>0.334703</td>\n",
       "      <td>-0.050858</td>\n",
       "      <td>-0.990364</td>\n",
       "      <td>1.231719</td>\n",
       "      <td>-2.056545</td>\n",
       "      <td>-1.646121</td>\n",
       "      <td>0.052792</td>\n",
       "      <td>2</td>\n",
       "      <td>1</td>\n",
       "    </tr>\n",
       "    <tr>\n",
       "      <th>2</th>\n",
       "      <td>-0.573351</td>\n",
       "      <td>0.369062</td>\n",
       "      <td>-0.318486</td>\n",
       "      <td>-1.006260</td>\n",
       "      <td>0.493555</td>\n",
       "      <td>-0.196032</td>\n",
       "      <td>-1.008971</td>\n",
       "      <td>0.160074</td>\n",
       "      <td>-0.819990</td>\n",
       "      <td>-0.083953</td>\n",
       "      <td>3</td>\n",
       "      <td>1</td>\n",
       "    </tr>\n",
       "    <tr>\n",
       "      <th>3</th>\n",
       "      <td>0.113457</td>\n",
       "      <td>0.203803</td>\n",
       "      <td>0.639847</td>\n",
       "      <td>-0.742944</td>\n",
       "      <td>-1.698746</td>\n",
       "      <td>0.419818</td>\n",
       "      <td>-1.344637</td>\n",
       "      <td>0.835584</td>\n",
       "      <td>-1.710342</td>\n",
       "      <td>0.750995</td>\n",
       "      <td>4</td>\n",
       "      <td>1</td>\n",
       "    </tr>\n",
       "    <tr>\n",
       "      <th>4</th>\n",
       "      <td>-0.055386</td>\n",
       "      <td>-0.606551</td>\n",
       "      <td>0.561045</td>\n",
       "      <td>-0.852149</td>\n",
       "      <td>-0.740451</td>\n",
       "      <td>-1.404650</td>\n",
       "      <td>0.559111</td>\n",
       "      <td>0.879245</td>\n",
       "      <td>-1.934584</td>\n",
       "      <td>0.424992</td>\n",
       "      <td>5</td>\n",
       "      <td>1</td>\n",
       "    </tr>\n",
       "    <tr>\n",
       "      <th>5</th>\n",
       "      <td>-0.095048</td>\n",
       "      <td>-0.521863</td>\n",
       "      <td>-1.412765</td>\n",
       "      <td>2.682318</td>\n",
       "      <td>1.102748</td>\n",
       "      <td>-0.531536</td>\n",
       "      <td>1.865056</td>\n",
       "      <td>-2.007814</td>\n",
       "      <td>0.390193</td>\n",
       "      <td>1.213710</td>\n",
       "      <td>8</td>\n",
       "      <td>1</td>\n",
       "    </tr>\n",
       "    <tr>\n",
       "      <th>6</th>\n",
       "      <td>-0.672599</td>\n",
       "      <td>-0.259075</td>\n",
       "      <td>-1.140535</td>\n",
       "      <td>0.562414</td>\n",
       "      <td>-0.828949</td>\n",
       "      <td>-0.281301</td>\n",
       "      <td>0.967435</td>\n",
       "      <td>0.836003</td>\n",
       "      <td>-0.633959</td>\n",
       "      <td>0.451731</td>\n",
       "      <td>7</td>\n",
       "      <td>1</td>\n",
       "    </tr>\n",
       "    <tr>\n",
       "      <th>7</th>\n",
       "      <td>-1.927475</td>\n",
       "      <td>1.122860</td>\n",
       "      <td>-0.903545</td>\n",
       "      <td>0.056787</td>\n",
       "      <td>-0.857490</td>\n",
       "      <td>0.326733</td>\n",
       "      <td>0.175435</td>\n",
       "      <td>-2.030105</td>\n",
       "      <td>1.477778</td>\n",
       "      <td>-2.459644</td>\n",
       "      <td>1</td>\n",
       "      <td>1</td>\n",
       "    </tr>\n",
       "    <tr>\n",
       "      <th>8</th>\n",
       "      <td>-0.328379</td>\n",
       "      <td>-1.715757</td>\n",
       "      <td>-1.129405</td>\n",
       "      <td>-0.573805</td>\n",
       "      <td>2.456164</td>\n",
       "      <td>-1.813646</td>\n",
       "      <td>0.320086</td>\n",
       "      <td>-0.723738</td>\n",
       "      <td>-0.234567</td>\n",
       "      <td>-0.585909</td>\n",
       "      <td>1</td>\n",
       "      <td>1</td>\n",
       "    </tr>\n",
       "    <tr>\n",
       "      <th>9</th>\n",
       "      <td>-1.515106</td>\n",
       "      <td>-2.609342</td>\n",
       "      <td>-0.256147</td>\n",
       "      <td>0.116045</td>\n",
       "      <td>-1.427349</td>\n",
       "      <td>0.972453</td>\n",
       "      <td>0.453070</td>\n",
       "      <td>0.380539</td>\n",
       "      <td>0.898912</td>\n",
       "      <td>0.367448</td>\n",
       "      <td>2</td>\n",
       "      <td>1</td>\n",
       "    </tr>\n",
       "  </tbody>\n",
       "</table>\n",
       "</div>"
      ],
      "text/plain": [
       "        Col_1          b         c         d         e         f         g  \\\n",
       "foo                                                                          \n",
       "0    0.000000  -0.073154  0.004775 -0.437722 -0.975052 -1.538580  1.093397   \n",
       "1   -0.082010  10.000000  0.431732  0.334703 -0.050858 -0.990364  1.231719   \n",
       "2   -0.573351   0.369062 -0.318486 -1.006260  0.493555 -0.196032 -1.008971   \n",
       "3    0.113457   0.203803  0.639847 -0.742944 -1.698746  0.419818 -1.344637   \n",
       "4   -0.055386  -0.606551  0.561045 -0.852149 -0.740451 -1.404650  0.559111   \n",
       "5   -0.095048  -0.521863 -1.412765  2.682318  1.102748 -0.531536  1.865056   \n",
       "6   -0.672599  -0.259075 -1.140535  0.562414 -0.828949 -0.281301  0.967435   \n",
       "7   -1.927475   1.122860 -0.903545  0.056787 -0.857490  0.326733  0.175435   \n",
       "8   -0.328379  -1.715757 -1.129405 -0.573805  2.456164 -1.813646  0.320086   \n",
       "9   -1.515106  -2.609342 -0.256147  0.116045 -1.427349  0.972453  0.453070   \n",
       "\n",
       "            h         i         j  k  l  \n",
       "foo                                      \n",
       "0   -0.588969  0.246409 -0.935171  4  1  \n",
       "1   -2.056545 -1.646121  0.052792  2  1  \n",
       "2    0.160074 -0.819990 -0.083953  3  1  \n",
       "3    0.835584 -1.710342  0.750995  4  1  \n",
       "4    0.879245 -1.934584  0.424992  5  1  \n",
       "5   -2.007814  0.390193  1.213710  8  1  \n",
       "6    0.836003 -0.633959  0.451731  7  1  \n",
       "7   -2.030105  1.477778 -2.459644  1  1  \n",
       "8   -0.723738 -0.234567 -0.585909  1  1  \n",
       "9    0.380539  0.898912  0.367448  2  1  "
      ]
     },
     "execution_count": 105,
     "metadata": {},
     "output_type": "execute_result"
    }
   ],
   "source": [
    "# rename single column\n",
    "df2.rename(columns={'a': 'Col_1'})"
   ]
  },
  {
   "cell_type": "code",
   "execution_count": 106,
   "id": "0c7a9ad1",
   "metadata": {},
   "outputs": [
    {
     "data": {
      "text/html": [
       "<div>\n",
       "<style scoped>\n",
       "    .dataframe tbody tr th:only-of-type {\n",
       "        vertical-align: middle;\n",
       "    }\n",
       "\n",
       "    .dataframe tbody tr th {\n",
       "        vertical-align: top;\n",
       "    }\n",
       "\n",
       "    .dataframe thead th {\n",
       "        text-align: right;\n",
       "    }\n",
       "</style>\n",
       "<table border=\"1\" class=\"dataframe\">\n",
       "  <thead>\n",
       "    <tr style=\"text-align: right;\">\n",
       "      <th></th>\n",
       "      <th>a</th>\n",
       "      <th>b</th>\n",
       "      <th>c</th>\n",
       "      <th>d</th>\n",
       "      <th>e</th>\n",
       "      <th>f</th>\n",
       "      <th>g</th>\n",
       "      <th>h</th>\n",
       "      <th>i</th>\n",
       "      <th>j</th>\n",
       "      <th>k</th>\n",
       "      <th>l</th>\n",
       "    </tr>\n",
       "    <tr>\n",
       "      <th>foo</th>\n",
       "      <th></th>\n",
       "      <th></th>\n",
       "      <th></th>\n",
       "      <th></th>\n",
       "      <th></th>\n",
       "      <th></th>\n",
       "      <th></th>\n",
       "      <th></th>\n",
       "      <th></th>\n",
       "      <th></th>\n",
       "      <th></th>\n",
       "      <th></th>\n",
       "    </tr>\n",
       "  </thead>\n",
       "  <tbody>\n",
       "    <tr>\n",
       "      <th>Row_1</th>\n",
       "      <td>0.000000</td>\n",
       "      <td>-0.073154</td>\n",
       "      <td>0.004775</td>\n",
       "      <td>-0.437722</td>\n",
       "      <td>-0.975052</td>\n",
       "      <td>-1.538580</td>\n",
       "      <td>1.093397</td>\n",
       "      <td>-0.588969</td>\n",
       "      <td>0.246409</td>\n",
       "      <td>-0.935171</td>\n",
       "      <td>4</td>\n",
       "      <td>1</td>\n",
       "    </tr>\n",
       "    <tr>\n",
       "      <th>1</th>\n",
       "      <td>-0.082010</td>\n",
       "      <td>10.000000</td>\n",
       "      <td>0.431732</td>\n",
       "      <td>0.334703</td>\n",
       "      <td>-0.050858</td>\n",
       "      <td>-0.990364</td>\n",
       "      <td>1.231719</td>\n",
       "      <td>-2.056545</td>\n",
       "      <td>-1.646121</td>\n",
       "      <td>0.052792</td>\n",
       "      <td>2</td>\n",
       "      <td>1</td>\n",
       "    </tr>\n",
       "    <tr>\n",
       "      <th>2</th>\n",
       "      <td>-0.573351</td>\n",
       "      <td>0.369062</td>\n",
       "      <td>-0.318486</td>\n",
       "      <td>-1.006260</td>\n",
       "      <td>0.493555</td>\n",
       "      <td>-0.196032</td>\n",
       "      <td>-1.008971</td>\n",
       "      <td>0.160074</td>\n",
       "      <td>-0.819990</td>\n",
       "      <td>-0.083953</td>\n",
       "      <td>3</td>\n",
       "      <td>1</td>\n",
       "    </tr>\n",
       "    <tr>\n",
       "      <th>3</th>\n",
       "      <td>0.113457</td>\n",
       "      <td>0.203803</td>\n",
       "      <td>0.639847</td>\n",
       "      <td>-0.742944</td>\n",
       "      <td>-1.698746</td>\n",
       "      <td>0.419818</td>\n",
       "      <td>-1.344637</td>\n",
       "      <td>0.835584</td>\n",
       "      <td>-1.710342</td>\n",
       "      <td>0.750995</td>\n",
       "      <td>4</td>\n",
       "      <td>1</td>\n",
       "    </tr>\n",
       "    <tr>\n",
       "      <th>4</th>\n",
       "      <td>-0.055386</td>\n",
       "      <td>-0.606551</td>\n",
       "      <td>0.561045</td>\n",
       "      <td>-0.852149</td>\n",
       "      <td>-0.740451</td>\n",
       "      <td>-1.404650</td>\n",
       "      <td>0.559111</td>\n",
       "      <td>0.879245</td>\n",
       "      <td>-1.934584</td>\n",
       "      <td>0.424992</td>\n",
       "      <td>5</td>\n",
       "      <td>1</td>\n",
       "    </tr>\n",
       "    <tr>\n",
       "      <th>5</th>\n",
       "      <td>-0.095048</td>\n",
       "      <td>-0.521863</td>\n",
       "      <td>-1.412765</td>\n",
       "      <td>2.682318</td>\n",
       "      <td>1.102748</td>\n",
       "      <td>-0.531536</td>\n",
       "      <td>1.865056</td>\n",
       "      <td>-2.007814</td>\n",
       "      <td>0.390193</td>\n",
       "      <td>1.213710</td>\n",
       "      <td>8</td>\n",
       "      <td>1</td>\n",
       "    </tr>\n",
       "    <tr>\n",
       "      <th>6</th>\n",
       "      <td>-0.672599</td>\n",
       "      <td>-0.259075</td>\n",
       "      <td>-1.140535</td>\n",
       "      <td>0.562414</td>\n",
       "      <td>-0.828949</td>\n",
       "      <td>-0.281301</td>\n",
       "      <td>0.967435</td>\n",
       "      <td>0.836003</td>\n",
       "      <td>-0.633959</td>\n",
       "      <td>0.451731</td>\n",
       "      <td>7</td>\n",
       "      <td>1</td>\n",
       "    </tr>\n",
       "    <tr>\n",
       "      <th>7</th>\n",
       "      <td>-1.927475</td>\n",
       "      <td>1.122860</td>\n",
       "      <td>-0.903545</td>\n",
       "      <td>0.056787</td>\n",
       "      <td>-0.857490</td>\n",
       "      <td>0.326733</td>\n",
       "      <td>0.175435</td>\n",
       "      <td>-2.030105</td>\n",
       "      <td>1.477778</td>\n",
       "      <td>-2.459644</td>\n",
       "      <td>1</td>\n",
       "      <td>1</td>\n",
       "    </tr>\n",
       "    <tr>\n",
       "      <th>8</th>\n",
       "      <td>-0.328379</td>\n",
       "      <td>-1.715757</td>\n",
       "      <td>-1.129405</td>\n",
       "      <td>-0.573805</td>\n",
       "      <td>2.456164</td>\n",
       "      <td>-1.813646</td>\n",
       "      <td>0.320086</td>\n",
       "      <td>-0.723738</td>\n",
       "      <td>-0.234567</td>\n",
       "      <td>-0.585909</td>\n",
       "      <td>1</td>\n",
       "      <td>1</td>\n",
       "    </tr>\n",
       "    <tr>\n",
       "      <th>9</th>\n",
       "      <td>-1.515106</td>\n",
       "      <td>-2.609342</td>\n",
       "      <td>-0.256147</td>\n",
       "      <td>0.116045</td>\n",
       "      <td>-1.427349</td>\n",
       "      <td>0.972453</td>\n",
       "      <td>0.453070</td>\n",
       "      <td>0.380539</td>\n",
       "      <td>0.898912</td>\n",
       "      <td>0.367448</td>\n",
       "      <td>2</td>\n",
       "      <td>1</td>\n",
       "    </tr>\n",
       "  </tbody>\n",
       "</table>\n",
       "</div>"
      ],
      "text/plain": [
       "              a          b         c         d         e         f         g  \\\n",
       "foo                                                                            \n",
       "Row_1  0.000000  -0.073154  0.004775 -0.437722 -0.975052 -1.538580  1.093397   \n",
       "1     -0.082010  10.000000  0.431732  0.334703 -0.050858 -0.990364  1.231719   \n",
       "2     -0.573351   0.369062 -0.318486 -1.006260  0.493555 -0.196032 -1.008971   \n",
       "3      0.113457   0.203803  0.639847 -0.742944 -1.698746  0.419818 -1.344637   \n",
       "4     -0.055386  -0.606551  0.561045 -0.852149 -0.740451 -1.404650  0.559111   \n",
       "5     -0.095048  -0.521863 -1.412765  2.682318  1.102748 -0.531536  1.865056   \n",
       "6     -0.672599  -0.259075 -1.140535  0.562414 -0.828949 -0.281301  0.967435   \n",
       "7     -1.927475   1.122860 -0.903545  0.056787 -0.857490  0.326733  0.175435   \n",
       "8     -0.328379  -1.715757 -1.129405 -0.573805  2.456164 -1.813646  0.320086   \n",
       "9     -1.515106  -2.609342 -0.256147  0.116045 -1.427349  0.972453  0.453070   \n",
       "\n",
       "              h         i         j  k  l  \n",
       "foo                                        \n",
       "Row_1 -0.588969  0.246409 -0.935171  4  1  \n",
       "1     -2.056545 -1.646121  0.052792  2  1  \n",
       "2      0.160074 -0.819990 -0.083953  3  1  \n",
       "3      0.835584 -1.710342  0.750995  4  1  \n",
       "4      0.879245 -1.934584  0.424992  5  1  \n",
       "5     -2.007814  0.390193  1.213710  8  1  \n",
       "6      0.836003 -0.633959  0.451731  7  1  \n",
       "7     -2.030105  1.477778 -2.459644  1  1  \n",
       "8     -0.723738 -0.234567 -0.585909  1  1  \n",
       "9      0.380539  0.898912  0.367448  2  1  "
      ]
     },
     "execution_count": 106,
     "metadata": {},
     "output_type": "execute_result"
    }
   ],
   "source": [
    "# rename index label\n",
    "df2.rename(index={0: 'Row_1'})"
   ]
  },
  {
   "cell_type": "markdown",
   "id": "860ce544",
   "metadata": {},
   "source": [
    "### Missing Data"
   ]
  },
  {
   "cell_type": "markdown",
   "id": "175eb026",
   "metadata": {},
   "source": [
    "Pandas uses the __np.nan__ value to represent missing data."
   ]
  },
  {
   "cell_type": "code",
   "execution_count": 84,
   "id": "dd7ecbf8",
   "metadata": {},
   "outputs": [
    {
     "name": "stdout",
     "output_type": "stream",
     "text": [
      "         0         1   2         3         4         5         6         7   \\\n",
      "0  1.912707 -1.175194 NaN -1.584741 -0.558594 -0.061947 -0.403085 -0.401009   \n",
      "1 -0.106303 -0.201669 NaN -0.415475 -0.697072 -1.315049  1.850633 -0.078931   \n",
      "2  0.302120  1.571183 NaN  0.622757  0.186416 -0.570612 -0.483853 -0.931561   \n",
      "3  0.554010  0.238735 NaN -0.229889  1.059423 -0.099396 -0.545719  0.049763   \n",
      "4 -0.100404  0.233400 NaN -1.755601  0.910272  0.105253 -0.928767  0.201712   \n",
      "5 -1.974237  0.995469 NaN  0.167532 -0.525556 -0.443694  0.858684  0.665856   \n",
      "6  1.350088 -1.008031 NaN -0.935600 -0.243324 -1.015463 -0.143692  0.045937   \n",
      "7  0.276314  0.012092 NaN  0.003044 -0.951214  0.375466  1.360406 -0.508022   \n",
      "8 -1.106170 -1.386908 NaN -0.976241  0.557081 -1.199145 -1.037135  0.194850   \n",
      "9 -2.122414 -1.575383 NaN  1.050434  0.096926  2.219802  0.123950  0.062149   \n",
      "\n",
      "         8         9   10  11  \n",
      "0 -0.981270  0.761806   4   1  \n",
      "1 -1.751133 -2.323325   2   1  \n",
      "2 -1.082551 -0.002478   3   1  \n",
      "3  1.198212  0.278427   4   1  \n",
      "4  0.079400  1.125886   5   1  \n",
      "5  0.781521 -1.096162   8   1  \n",
      "6  0.656489  1.122656   7   1  \n",
      "7 -0.979138  0.810259   1   1  \n",
      "8 -0.310678 -1.047363   1   1  \n",
      "9  0.553545  0.486472   2   1  \n"
     ]
    }
   ],
   "source": [
    "df2 = pd.DataFrame(np.random.randn(10,10))\n",
    "df2_copy = df2.copy()\n",
    "df2_copy[2] = np.nan\n",
    "print(df2_copy)"
   ]
  },
  {
   "cell_type": "code",
   "execution_count": 85,
   "id": "94426620-ce87-466e-8860-537b3f7fe672",
   "metadata": {},
   "outputs": [
    {
     "name": "stdout",
     "output_type": "stream",
     "text": [
      "         0         1    2         3         4         5         6         7   \\\n",
      "0  1.912707 -1.175194  NaN -1.584741 -0.558594 -0.061947 -0.403085 -0.401009   \n",
      "1 -0.106303 -0.201669  1.0 -0.415475 -0.697072 -1.315049  1.850633 -0.078931   \n",
      "2  0.302120  1.571183  NaN  0.622757  0.186416 -0.570612 -0.483853 -0.931561   \n",
      "3  0.554010  0.238735  NaN -0.229889  1.059423 -0.099396 -0.545719  0.049763   \n",
      "4 -0.100404  0.233400  2.0 -1.755601  0.910272  0.105253 -0.928767  0.201712   \n",
      "5 -1.974237  0.995469  NaN  0.167532 -0.525556 -0.443694  0.858684  0.665856   \n",
      "6  1.350088 -1.008031  NaN -0.935600 -0.243324 -1.015463 -0.143692  0.045937   \n",
      "7  0.276314  0.012092  NaN  0.003044 -0.951214  0.375466  1.360406 -0.508022   \n",
      "8 -1.106170 -1.386908  NaN -0.976241  0.557081 -1.199145 -1.037135  0.194850   \n",
      "9 -2.122414 -1.575383  NaN  1.050434  0.096926  2.219802  0.123950  0.062149   \n",
      "\n",
      "         8         9   10  11  \n",
      "0 -0.981270  0.761806   4   1  \n",
      "1 -1.751133 -2.323325   2   1  \n",
      "2 -1.082551 -0.002478   3   1  \n",
      "3  1.198212  0.278427   4   1  \n",
      "4  0.079400  1.125886   5   1  \n",
      "5  0.781521 -1.096162   8   1  \n",
      "6  0.656489  1.122656   7   1  \n",
      "7 -0.979138  0.810259   1   1  \n",
      "8 -0.310678 -1.047363   1   1  \n",
      "9  0.553545  0.486472   2   1  \n"
     ]
    }
   ],
   "source": [
    "df2_copy.loc[1,2] = 1\n",
    "print(df2_copy)"
   ]
  },
  {
   "cell_type": "code",
   "execution_count": 86,
   "id": "0e6cfdf0",
   "metadata": {},
   "outputs": [
    {
     "data": {
      "text/html": [
       "<div>\n",
       "<style scoped>\n",
       "    .dataframe tbody tr th:only-of-type {\n",
       "        vertical-align: middle;\n",
       "    }\n",
       "\n",
       "    .dataframe tbody tr th {\n",
       "        vertical-align: top;\n",
       "    }\n",
       "\n",
       "    .dataframe thead th {\n",
       "        text-align: right;\n",
       "    }\n",
       "</style>\n",
       "<table border=\"1\" class=\"dataframe\">\n",
       "  <thead>\n",
       "    <tr style=\"text-align: right;\">\n",
       "      <th></th>\n",
       "      <th>0</th>\n",
       "      <th>1</th>\n",
       "      <th>2</th>\n",
       "      <th>3</th>\n",
       "      <th>4</th>\n",
       "      <th>5</th>\n",
       "      <th>6</th>\n",
       "      <th>7</th>\n",
       "      <th>8</th>\n",
       "      <th>9</th>\n",
       "      <th>10</th>\n",
       "      <th>11</th>\n",
       "    </tr>\n",
       "  </thead>\n",
       "  <tbody>\n",
       "    <tr>\n",
       "      <th>1</th>\n",
       "      <td>-0.106303</td>\n",
       "      <td>-0.201669</td>\n",
       "      <td>1.0</td>\n",
       "      <td>-0.415475</td>\n",
       "      <td>-0.697072</td>\n",
       "      <td>-1.315049</td>\n",
       "      <td>1.850633</td>\n",
       "      <td>-0.078931</td>\n",
       "      <td>-1.751133</td>\n",
       "      <td>-2.323325</td>\n",
       "      <td>2</td>\n",
       "      <td>1</td>\n",
       "    </tr>\n",
       "    <tr>\n",
       "      <th>4</th>\n",
       "      <td>-0.100404</td>\n",
       "      <td>0.233400</td>\n",
       "      <td>2.0</td>\n",
       "      <td>-1.755601</td>\n",
       "      <td>0.910272</td>\n",
       "      <td>0.105253</td>\n",
       "      <td>-0.928767</td>\n",
       "      <td>0.201712</td>\n",
       "      <td>0.079400</td>\n",
       "      <td>1.125886</td>\n",
       "      <td>5</td>\n",
       "      <td>1</td>\n",
       "    </tr>\n",
       "  </tbody>\n",
       "</table>\n",
       "</div>"
      ],
      "text/plain": [
       "         0         1    2         3         4         5         6         7   \\\n",
       "1 -0.106303 -0.201669  1.0 -0.415475 -0.697072 -1.315049  1.850633 -0.078931   \n",
       "4 -0.100404  0.233400  2.0 -1.755601  0.910272  0.105253 -0.928767  0.201712   \n",
       "\n",
       "         8         9   10  11  \n",
       "1 -1.751133 -2.323325   2   1  \n",
       "4  0.079400  1.125886   5   1  "
      ]
     },
     "execution_count": 86,
     "metadata": {},
     "output_type": "execute_result"
    }
   ],
   "source": [
    "# drop any rows that have missing data\n",
    "df2_copy.dropna(how=\"any\")"
   ]
  },
  {
   "cell_type": "code",
   "execution_count": 87,
   "id": "06a58337",
   "metadata": {},
   "outputs": [
    {
     "data": {
      "text/html": [
       "<div>\n",
       "<style scoped>\n",
       "    .dataframe tbody tr th:only-of-type {\n",
       "        vertical-align: middle;\n",
       "    }\n",
       "\n",
       "    .dataframe tbody tr th {\n",
       "        vertical-align: top;\n",
       "    }\n",
       "\n",
       "    .dataframe thead th {\n",
       "        text-align: right;\n",
       "    }\n",
       "</style>\n",
       "<table border=\"1\" class=\"dataframe\">\n",
       "  <thead>\n",
       "    <tr style=\"text-align: right;\">\n",
       "      <th></th>\n",
       "      <th>0</th>\n",
       "      <th>1</th>\n",
       "      <th>2</th>\n",
       "      <th>3</th>\n",
       "      <th>4</th>\n",
       "      <th>5</th>\n",
       "      <th>6</th>\n",
       "      <th>7</th>\n",
       "      <th>8</th>\n",
       "      <th>9</th>\n",
       "      <th>10</th>\n",
       "      <th>11</th>\n",
       "    </tr>\n",
       "  </thead>\n",
       "  <tbody>\n",
       "    <tr>\n",
       "      <th>0</th>\n",
       "      <td>1.912707</td>\n",
       "      <td>-1.175194</td>\n",
       "      <td>9.0</td>\n",
       "      <td>-1.584741</td>\n",
       "      <td>-0.558594</td>\n",
       "      <td>-0.061947</td>\n",
       "      <td>-0.403085</td>\n",
       "      <td>-0.401009</td>\n",
       "      <td>-0.981270</td>\n",
       "      <td>0.761806</td>\n",
       "      <td>4</td>\n",
       "      <td>1</td>\n",
       "    </tr>\n",
       "    <tr>\n",
       "      <th>1</th>\n",
       "      <td>-0.106303</td>\n",
       "      <td>-0.201669</td>\n",
       "      <td>1.0</td>\n",
       "      <td>-0.415475</td>\n",
       "      <td>-0.697072</td>\n",
       "      <td>-1.315049</td>\n",
       "      <td>1.850633</td>\n",
       "      <td>-0.078931</td>\n",
       "      <td>-1.751133</td>\n",
       "      <td>-2.323325</td>\n",
       "      <td>2</td>\n",
       "      <td>1</td>\n",
       "    </tr>\n",
       "    <tr>\n",
       "      <th>2</th>\n",
       "      <td>0.302120</td>\n",
       "      <td>1.571183</td>\n",
       "      <td>9.0</td>\n",
       "      <td>0.622757</td>\n",
       "      <td>0.186416</td>\n",
       "      <td>-0.570612</td>\n",
       "      <td>-0.483853</td>\n",
       "      <td>-0.931561</td>\n",
       "      <td>-1.082551</td>\n",
       "      <td>-0.002478</td>\n",
       "      <td>3</td>\n",
       "      <td>1</td>\n",
       "    </tr>\n",
       "    <tr>\n",
       "      <th>3</th>\n",
       "      <td>0.554010</td>\n",
       "      <td>0.238735</td>\n",
       "      <td>9.0</td>\n",
       "      <td>-0.229889</td>\n",
       "      <td>1.059423</td>\n",
       "      <td>-0.099396</td>\n",
       "      <td>-0.545719</td>\n",
       "      <td>0.049763</td>\n",
       "      <td>1.198212</td>\n",
       "      <td>0.278427</td>\n",
       "      <td>4</td>\n",
       "      <td>1</td>\n",
       "    </tr>\n",
       "    <tr>\n",
       "      <th>4</th>\n",
       "      <td>-0.100404</td>\n",
       "      <td>0.233400</td>\n",
       "      <td>2.0</td>\n",
       "      <td>-1.755601</td>\n",
       "      <td>0.910272</td>\n",
       "      <td>0.105253</td>\n",
       "      <td>-0.928767</td>\n",
       "      <td>0.201712</td>\n",
       "      <td>0.079400</td>\n",
       "      <td>1.125886</td>\n",
       "      <td>5</td>\n",
       "      <td>1</td>\n",
       "    </tr>\n",
       "    <tr>\n",
       "      <th>5</th>\n",
       "      <td>-1.974237</td>\n",
       "      <td>0.995469</td>\n",
       "      <td>9.0</td>\n",
       "      <td>0.167532</td>\n",
       "      <td>-0.525556</td>\n",
       "      <td>-0.443694</td>\n",
       "      <td>0.858684</td>\n",
       "      <td>0.665856</td>\n",
       "      <td>0.781521</td>\n",
       "      <td>-1.096162</td>\n",
       "      <td>8</td>\n",
       "      <td>1</td>\n",
       "    </tr>\n",
       "    <tr>\n",
       "      <th>6</th>\n",
       "      <td>1.350088</td>\n",
       "      <td>-1.008031</td>\n",
       "      <td>9.0</td>\n",
       "      <td>-0.935600</td>\n",
       "      <td>-0.243324</td>\n",
       "      <td>-1.015463</td>\n",
       "      <td>-0.143692</td>\n",
       "      <td>0.045937</td>\n",
       "      <td>0.656489</td>\n",
       "      <td>1.122656</td>\n",
       "      <td>7</td>\n",
       "      <td>1</td>\n",
       "    </tr>\n",
       "    <tr>\n",
       "      <th>7</th>\n",
       "      <td>0.276314</td>\n",
       "      <td>0.012092</td>\n",
       "      <td>9.0</td>\n",
       "      <td>0.003044</td>\n",
       "      <td>-0.951214</td>\n",
       "      <td>0.375466</td>\n",
       "      <td>1.360406</td>\n",
       "      <td>-0.508022</td>\n",
       "      <td>-0.979138</td>\n",
       "      <td>0.810259</td>\n",
       "      <td>1</td>\n",
       "      <td>1</td>\n",
       "    </tr>\n",
       "    <tr>\n",
       "      <th>8</th>\n",
       "      <td>-1.106170</td>\n",
       "      <td>-1.386908</td>\n",
       "      <td>9.0</td>\n",
       "      <td>-0.976241</td>\n",
       "      <td>0.557081</td>\n",
       "      <td>-1.199145</td>\n",
       "      <td>-1.037135</td>\n",
       "      <td>0.194850</td>\n",
       "      <td>-0.310678</td>\n",
       "      <td>-1.047363</td>\n",
       "      <td>1</td>\n",
       "      <td>1</td>\n",
       "    </tr>\n",
       "    <tr>\n",
       "      <th>9</th>\n",
       "      <td>-2.122414</td>\n",
       "      <td>-1.575383</td>\n",
       "      <td>9.0</td>\n",
       "      <td>1.050434</td>\n",
       "      <td>0.096926</td>\n",
       "      <td>2.219802</td>\n",
       "      <td>0.123950</td>\n",
       "      <td>0.062149</td>\n",
       "      <td>0.553545</td>\n",
       "      <td>0.486472</td>\n",
       "      <td>2</td>\n",
       "      <td>1</td>\n",
       "    </tr>\n",
       "  </tbody>\n",
       "</table>\n",
       "</div>"
      ],
      "text/plain": [
       "         0         1    2         3         4         5         6         7   \\\n",
       "0  1.912707 -1.175194  9.0 -1.584741 -0.558594 -0.061947 -0.403085 -0.401009   \n",
       "1 -0.106303 -0.201669  1.0 -0.415475 -0.697072 -1.315049  1.850633 -0.078931   \n",
       "2  0.302120  1.571183  9.0  0.622757  0.186416 -0.570612 -0.483853 -0.931561   \n",
       "3  0.554010  0.238735  9.0 -0.229889  1.059423 -0.099396 -0.545719  0.049763   \n",
       "4 -0.100404  0.233400  2.0 -1.755601  0.910272  0.105253 -0.928767  0.201712   \n",
       "5 -1.974237  0.995469  9.0  0.167532 -0.525556 -0.443694  0.858684  0.665856   \n",
       "6  1.350088 -1.008031  9.0 -0.935600 -0.243324 -1.015463 -0.143692  0.045937   \n",
       "7  0.276314  0.012092  9.0  0.003044 -0.951214  0.375466  1.360406 -0.508022   \n",
       "8 -1.106170 -1.386908  9.0 -0.976241  0.557081 -1.199145 -1.037135  0.194850   \n",
       "9 -2.122414 -1.575383  9.0  1.050434  0.096926  2.219802  0.123950  0.062149   \n",
       "\n",
       "         8         9   10  11  \n",
       "0 -0.981270  0.761806   4   1  \n",
       "1 -1.751133 -2.323325   2   1  \n",
       "2 -1.082551 -0.002478   3   1  \n",
       "3  1.198212  0.278427   4   1  \n",
       "4  0.079400  1.125886   5   1  \n",
       "5  0.781521 -1.096162   8   1  \n",
       "6  0.656489  1.122656   7   1  \n",
       "7 -0.979138  0.810259   1   1  \n",
       "8 -0.310678 -1.047363   1   1  \n",
       "9  0.553545  0.486472   2   1  "
      ]
     },
     "execution_count": 87,
     "metadata": {},
     "output_type": "execute_result"
    }
   ],
   "source": [
    "# fill in missing data\n",
    "df2_copy.fillna(value=9)"
   ]
  },
  {
   "cell_type": "code",
   "execution_count": 88,
   "id": "81e89fb9",
   "metadata": {},
   "outputs": [
    {
     "data": {
      "text/html": [
       "<div>\n",
       "<style scoped>\n",
       "    .dataframe tbody tr th:only-of-type {\n",
       "        vertical-align: middle;\n",
       "    }\n",
       "\n",
       "    .dataframe tbody tr th {\n",
       "        vertical-align: top;\n",
       "    }\n",
       "\n",
       "    .dataframe thead th {\n",
       "        text-align: right;\n",
       "    }\n",
       "</style>\n",
       "<table border=\"1\" class=\"dataframe\">\n",
       "  <thead>\n",
       "    <tr style=\"text-align: right;\">\n",
       "      <th></th>\n",
       "      <th>0</th>\n",
       "      <th>1</th>\n",
       "      <th>2</th>\n",
       "      <th>3</th>\n",
       "      <th>4</th>\n",
       "      <th>5</th>\n",
       "      <th>6</th>\n",
       "      <th>7</th>\n",
       "      <th>8</th>\n",
       "      <th>9</th>\n",
       "      <th>10</th>\n",
       "      <th>11</th>\n",
       "    </tr>\n",
       "  </thead>\n",
       "  <tbody>\n",
       "    <tr>\n",
       "      <th>0</th>\n",
       "      <td>False</td>\n",
       "      <td>False</td>\n",
       "      <td>True</td>\n",
       "      <td>False</td>\n",
       "      <td>False</td>\n",
       "      <td>False</td>\n",
       "      <td>False</td>\n",
       "      <td>False</td>\n",
       "      <td>False</td>\n",
       "      <td>False</td>\n",
       "      <td>False</td>\n",
       "      <td>False</td>\n",
       "    </tr>\n",
       "    <tr>\n",
       "      <th>1</th>\n",
       "      <td>False</td>\n",
       "      <td>False</td>\n",
       "      <td>False</td>\n",
       "      <td>False</td>\n",
       "      <td>False</td>\n",
       "      <td>False</td>\n",
       "      <td>False</td>\n",
       "      <td>False</td>\n",
       "      <td>False</td>\n",
       "      <td>False</td>\n",
       "      <td>False</td>\n",
       "      <td>False</td>\n",
       "    </tr>\n",
       "    <tr>\n",
       "      <th>2</th>\n",
       "      <td>False</td>\n",
       "      <td>False</td>\n",
       "      <td>True</td>\n",
       "      <td>False</td>\n",
       "      <td>False</td>\n",
       "      <td>False</td>\n",
       "      <td>False</td>\n",
       "      <td>False</td>\n",
       "      <td>False</td>\n",
       "      <td>False</td>\n",
       "      <td>False</td>\n",
       "      <td>False</td>\n",
       "    </tr>\n",
       "    <tr>\n",
       "      <th>3</th>\n",
       "      <td>False</td>\n",
       "      <td>False</td>\n",
       "      <td>True</td>\n",
       "      <td>False</td>\n",
       "      <td>False</td>\n",
       "      <td>False</td>\n",
       "      <td>False</td>\n",
       "      <td>False</td>\n",
       "      <td>False</td>\n",
       "      <td>False</td>\n",
       "      <td>False</td>\n",
       "      <td>False</td>\n",
       "    </tr>\n",
       "    <tr>\n",
       "      <th>4</th>\n",
       "      <td>False</td>\n",
       "      <td>False</td>\n",
       "      <td>False</td>\n",
       "      <td>False</td>\n",
       "      <td>False</td>\n",
       "      <td>False</td>\n",
       "      <td>False</td>\n",
       "      <td>False</td>\n",
       "      <td>False</td>\n",
       "      <td>False</td>\n",
       "      <td>False</td>\n",
       "      <td>False</td>\n",
       "    </tr>\n",
       "    <tr>\n",
       "      <th>5</th>\n",
       "      <td>False</td>\n",
       "      <td>False</td>\n",
       "      <td>True</td>\n",
       "      <td>False</td>\n",
       "      <td>False</td>\n",
       "      <td>False</td>\n",
       "      <td>False</td>\n",
       "      <td>False</td>\n",
       "      <td>False</td>\n",
       "      <td>False</td>\n",
       "      <td>False</td>\n",
       "      <td>False</td>\n",
       "    </tr>\n",
       "    <tr>\n",
       "      <th>6</th>\n",
       "      <td>False</td>\n",
       "      <td>False</td>\n",
       "      <td>True</td>\n",
       "      <td>False</td>\n",
       "      <td>False</td>\n",
       "      <td>False</td>\n",
       "      <td>False</td>\n",
       "      <td>False</td>\n",
       "      <td>False</td>\n",
       "      <td>False</td>\n",
       "      <td>False</td>\n",
       "      <td>False</td>\n",
       "    </tr>\n",
       "    <tr>\n",
       "      <th>7</th>\n",
       "      <td>False</td>\n",
       "      <td>False</td>\n",
       "      <td>True</td>\n",
       "      <td>False</td>\n",
       "      <td>False</td>\n",
       "      <td>False</td>\n",
       "      <td>False</td>\n",
       "      <td>False</td>\n",
       "      <td>False</td>\n",
       "      <td>False</td>\n",
       "      <td>False</td>\n",
       "      <td>False</td>\n",
       "    </tr>\n",
       "    <tr>\n",
       "      <th>8</th>\n",
       "      <td>False</td>\n",
       "      <td>False</td>\n",
       "      <td>True</td>\n",
       "      <td>False</td>\n",
       "      <td>False</td>\n",
       "      <td>False</td>\n",
       "      <td>False</td>\n",
       "      <td>False</td>\n",
       "      <td>False</td>\n",
       "      <td>False</td>\n",
       "      <td>False</td>\n",
       "      <td>False</td>\n",
       "    </tr>\n",
       "    <tr>\n",
       "      <th>9</th>\n",
       "      <td>False</td>\n",
       "      <td>False</td>\n",
       "      <td>True</td>\n",
       "      <td>False</td>\n",
       "      <td>False</td>\n",
       "      <td>False</td>\n",
       "      <td>False</td>\n",
       "      <td>False</td>\n",
       "      <td>False</td>\n",
       "      <td>False</td>\n",
       "      <td>False</td>\n",
       "      <td>False</td>\n",
       "    </tr>\n",
       "  </tbody>\n",
       "</table>\n",
       "</div>"
      ],
      "text/plain": [
       "      0      1      2      3      4      5      6      7      8      9   \\\n",
       "0  False  False   True  False  False  False  False  False  False  False   \n",
       "1  False  False  False  False  False  False  False  False  False  False   \n",
       "2  False  False   True  False  False  False  False  False  False  False   \n",
       "3  False  False   True  False  False  False  False  False  False  False   \n",
       "4  False  False  False  False  False  False  False  False  False  False   \n",
       "5  False  False   True  False  False  False  False  False  False  False   \n",
       "6  False  False   True  False  False  False  False  False  False  False   \n",
       "7  False  False   True  False  False  False  False  False  False  False   \n",
       "8  False  False   True  False  False  False  False  False  False  False   \n",
       "9  False  False   True  False  False  False  False  False  False  False   \n",
       "\n",
       "      10     11  \n",
       "0  False  False  \n",
       "1  False  False  \n",
       "2  False  False  \n",
       "3  False  False  \n",
       "4  False  False  \n",
       "5  False  False  \n",
       "6  False  False  \n",
       "7  False  False  \n",
       "8  False  False  \n",
       "9  False  False  "
      ]
     },
     "execution_count": 88,
     "metadata": {},
     "output_type": "execute_result"
    }
   ],
   "source": [
    "# get boolean mask\n",
    "pd.isna(df2_copy)"
   ]
  },
  {
   "cell_type": "markdown",
   "id": "34feee44",
   "metadata": {},
   "source": [
    "### Operations"
   ]
  },
  {
   "cell_type": "code",
   "execution_count": 107,
   "id": "91be5b75",
   "metadata": {},
   "outputs": [
    {
     "data": {
      "text/plain": [
       "a   -0.513590\n",
       "b    0.590998\n",
       "c   -0.352348\n",
       "d    0.013939\n",
       "e   -0.252643\n",
       "f   -0.503711\n",
       "g    0.431170\n",
       "h   -0.431573\n",
       "i   -0.396627\n",
       "j   -0.080301\n",
       "k    3.700000\n",
       "l    1.000000\n",
       "dtype: float64"
      ]
     },
     "execution_count": 107,
     "metadata": {},
     "output_type": "execute_result"
    }
   ],
   "source": [
    "# get means of columns\n",
    "df2.mean()"
   ]
  },
  {
   "cell_type": "code",
   "execution_count": 110,
   "id": "45ddbbf4",
   "metadata": {},
   "outputs": [
    {
     "data": {
      "text/plain": [
       "a     0.113457\n",
       "b    10.000000\n",
       "c     0.639847\n",
       "d     2.682318\n",
       "e     2.456164\n",
       "f     0.972453\n",
       "g     1.865056\n",
       "h     0.879245\n",
       "i     1.477778\n",
       "j     1.213710\n",
       "k     8.000000\n",
       "l     1.000000\n",
       "dtype: float64"
      ]
     },
     "execution_count": 110,
     "metadata": {},
     "output_type": "execute_result"
    }
   ],
   "source": [
    "# applying a function to all columns\n",
    "df2.apply(lambda x: x.max())"
   ]
  },
  {
   "cell_type": "code",
   "execution_count": 111,
   "id": "2d6bbe17",
   "metadata": {},
   "outputs": [
    {
     "data": {
      "text/plain": [
       "foo\n",
       "0     4.000000\n",
       "1    10.000000\n",
       "2     3.000000\n",
       "3     4.000000\n",
       "4     5.000000\n",
       "5     8.000000\n",
       "6     7.000000\n",
       "7     1.477778\n",
       "8     2.456164\n",
       "9     2.000000\n",
       "dtype: float64"
      ]
     },
     "execution_count": 111,
     "metadata": {},
     "output_type": "execute_result"
    }
   ],
   "source": [
    "# applying a function to all rows\n",
    "df2.apply(lambda x: x.max(), axis = 1)"
   ]
  },
  {
   "cell_type": "markdown",
   "id": "25c0557a",
   "metadata": {},
   "source": [
    "### Merge"
   ]
  },
  {
   "cell_type": "code",
   "execution_count": 116,
   "id": "e42b5830",
   "metadata": {},
   "outputs": [
    {
     "data": {
      "text/plain": [
       "[            a         b         c         d         e         f         g  \\\n",
       " foo                                                                         \n",
       " 2   -0.573351  0.369062 -0.318486 -1.006260  0.493555 -0.196032 -1.008971   \n",
       " 3    0.113457  0.203803  0.639847 -0.742944 -1.698746  0.419818 -1.344637   \n",
       " \n",
       "             h         i         j  k  l  \n",
       " foo                                      \n",
       " 2    0.160074 -0.819990 -0.083953  3  1  \n",
       " 3    0.835584 -1.710342  0.750995  4  1  ,\n",
       "             a         b         c         d         e         f         g  \\\n",
       " foo                                                                         \n",
       " 5   -0.095048 -0.521863 -1.412765  2.682318  1.102748 -0.531536  1.865056   \n",
       " 6   -0.672599 -0.259075 -1.140535  0.562414 -0.828949 -0.281301  0.967435   \n",
       " \n",
       "             h         i         j  k  l  \n",
       " foo                                      \n",
       " 5   -2.007814  0.390193  1.213710  8  1  \n",
       " 6    0.836003 -0.633959  0.451731  7  1  ]"
      ]
     },
     "execution_count": 116,
     "metadata": {},
     "output_type": "execute_result"
    }
   ],
   "source": [
    "pieces = [df2[2:4], df2[5:7]]\n",
    "pieces"
   ]
  },
  {
   "cell_type": "code",
   "execution_count": 117,
   "id": "cd0212c8",
   "metadata": {},
   "outputs": [
    {
     "data": {
      "text/html": [
       "<div>\n",
       "<style scoped>\n",
       "    .dataframe tbody tr th:only-of-type {\n",
       "        vertical-align: middle;\n",
       "    }\n",
       "\n",
       "    .dataframe tbody tr th {\n",
       "        vertical-align: top;\n",
       "    }\n",
       "\n",
       "    .dataframe thead th {\n",
       "        text-align: right;\n",
       "    }\n",
       "</style>\n",
       "<table border=\"1\" class=\"dataframe\">\n",
       "  <thead>\n",
       "    <tr style=\"text-align: right;\">\n",
       "      <th></th>\n",
       "      <th>a</th>\n",
       "      <th>b</th>\n",
       "      <th>c</th>\n",
       "      <th>d</th>\n",
       "      <th>e</th>\n",
       "      <th>f</th>\n",
       "      <th>g</th>\n",
       "      <th>h</th>\n",
       "      <th>i</th>\n",
       "      <th>j</th>\n",
       "      <th>k</th>\n",
       "      <th>l</th>\n",
       "    </tr>\n",
       "    <tr>\n",
       "      <th>foo</th>\n",
       "      <th></th>\n",
       "      <th></th>\n",
       "      <th></th>\n",
       "      <th></th>\n",
       "      <th></th>\n",
       "      <th></th>\n",
       "      <th></th>\n",
       "      <th></th>\n",
       "      <th></th>\n",
       "      <th></th>\n",
       "      <th></th>\n",
       "      <th></th>\n",
       "    </tr>\n",
       "  </thead>\n",
       "  <tbody>\n",
       "    <tr>\n",
       "      <th>2</th>\n",
       "      <td>-0.573351</td>\n",
       "      <td>0.369062</td>\n",
       "      <td>-0.318486</td>\n",
       "      <td>-1.006260</td>\n",
       "      <td>0.493555</td>\n",
       "      <td>-0.196032</td>\n",
       "      <td>-1.008971</td>\n",
       "      <td>0.160074</td>\n",
       "      <td>-0.819990</td>\n",
       "      <td>-0.083953</td>\n",
       "      <td>3</td>\n",
       "      <td>1</td>\n",
       "    </tr>\n",
       "    <tr>\n",
       "      <th>3</th>\n",
       "      <td>0.113457</td>\n",
       "      <td>0.203803</td>\n",
       "      <td>0.639847</td>\n",
       "      <td>-0.742944</td>\n",
       "      <td>-1.698746</td>\n",
       "      <td>0.419818</td>\n",
       "      <td>-1.344637</td>\n",
       "      <td>0.835584</td>\n",
       "      <td>-1.710342</td>\n",
       "      <td>0.750995</td>\n",
       "      <td>4</td>\n",
       "      <td>1</td>\n",
       "    </tr>\n",
       "    <tr>\n",
       "      <th>5</th>\n",
       "      <td>-0.095048</td>\n",
       "      <td>-0.521863</td>\n",
       "      <td>-1.412765</td>\n",
       "      <td>2.682318</td>\n",
       "      <td>1.102748</td>\n",
       "      <td>-0.531536</td>\n",
       "      <td>1.865056</td>\n",
       "      <td>-2.007814</td>\n",
       "      <td>0.390193</td>\n",
       "      <td>1.213710</td>\n",
       "      <td>8</td>\n",
       "      <td>1</td>\n",
       "    </tr>\n",
       "    <tr>\n",
       "      <th>6</th>\n",
       "      <td>-0.672599</td>\n",
       "      <td>-0.259075</td>\n",
       "      <td>-1.140535</td>\n",
       "      <td>0.562414</td>\n",
       "      <td>-0.828949</td>\n",
       "      <td>-0.281301</td>\n",
       "      <td>0.967435</td>\n",
       "      <td>0.836003</td>\n",
       "      <td>-0.633959</td>\n",
       "      <td>0.451731</td>\n",
       "      <td>7</td>\n",
       "      <td>1</td>\n",
       "    </tr>\n",
       "  </tbody>\n",
       "</table>\n",
       "</div>"
      ],
      "text/plain": [
       "            a         b         c         d         e         f         g  \\\n",
       "foo                                                                         \n",
       "2   -0.573351  0.369062 -0.318486 -1.006260  0.493555 -0.196032 -1.008971   \n",
       "3    0.113457  0.203803  0.639847 -0.742944 -1.698746  0.419818 -1.344637   \n",
       "5   -0.095048 -0.521863 -1.412765  2.682318  1.102748 -0.531536  1.865056   \n",
       "6   -0.672599 -0.259075 -1.140535  0.562414 -0.828949 -0.281301  0.967435   \n",
       "\n",
       "            h         i         j  k  l  \n",
       "foo                                      \n",
       "2    0.160074 -0.819990 -0.083953  3  1  \n",
       "3    0.835584 -1.710342  0.750995  4  1  \n",
       "5   -2.007814  0.390193  1.213710  8  1  \n",
       "6    0.836003 -0.633959  0.451731  7  1  "
      ]
     },
     "execution_count": 117,
     "metadata": {},
     "output_type": "execute_result"
    }
   ],
   "source": [
    "# merge over rows\n",
    "pd.concat(pieces)"
   ]
  },
  {
   "cell_type": "code",
   "execution_count": 118,
   "id": "0a851898",
   "metadata": {},
   "outputs": [
    {
     "data": {
      "text/html": [
       "<div>\n",
       "<style scoped>\n",
       "    .dataframe tbody tr th:only-of-type {\n",
       "        vertical-align: middle;\n",
       "    }\n",
       "\n",
       "    .dataframe tbody tr th {\n",
       "        vertical-align: top;\n",
       "    }\n",
       "\n",
       "    .dataframe thead th {\n",
       "        text-align: right;\n",
       "    }\n",
       "</style>\n",
       "<table border=\"1\" class=\"dataframe\">\n",
       "  <thead>\n",
       "    <tr style=\"text-align: right;\">\n",
       "      <th></th>\n",
       "      <th>key</th>\n",
       "      <th>value</th>\n",
       "      <th>newvalue</th>\n",
       "    </tr>\n",
       "  </thead>\n",
       "  <tbody>\n",
       "    <tr>\n",
       "      <th>0</th>\n",
       "      <td>first</td>\n",
       "      <td>1</td>\n",
       "      <td>2</td>\n",
       "    </tr>\n",
       "    <tr>\n",
       "      <th>1</th>\n",
       "      <td>second</td>\n",
       "      <td>2</td>\n",
       "      <td>4</td>\n",
       "    </tr>\n",
       "  </tbody>\n",
       "</table>\n",
       "</div>"
      ],
      "text/plain": [
       "      key  value  newvalue\n",
       "0   first      1         2\n",
       "1  second      2         4"
      ]
     },
     "execution_count": 118,
     "metadata": {},
     "output_type": "execute_result"
    }
   ],
   "source": [
    "left = pd.DataFrame({\"key\": [\"first\", \"second\"], \"value\": [1, 2]})\n",
    "right = pd.DataFrame({\"key\": [\"first\", \"second\"], \"newvalue\": [2, 4]})\n",
    "\n",
    "# merge over columns\n",
    "pd.merge(left, right, on=\"key\")"
   ]
  },
  {
   "cell_type": "markdown",
   "id": "fb678de1-e8e8-4b4b-bb8f-216b381ea9a9",
   "metadata": {},
   "source": [
    "# Tutorial Plotting\n",
    "with Matplotlib"
   ]
  },
  {
   "cell_type": "markdown",
   "id": "d1c47a36-dc1f-4614-b4d6-97b496519b50",
   "metadata": {},
   "source": [
    "Matplotlib is a comprehensive library for creating static, animated, and interactive visualizations in Python. Matplotlib makes easy things easy and hard things possible. [Click here for more information](https://matplotlib.org/)"
   ]
  },
  {
   "cell_type": "markdown",
   "id": "d2e35962-acac-4196-aac6-83504cc20993",
   "metadata": {},
   "source": [
    "## Basics"
   ]
  },
  {
   "cell_type": "code",
   "execution_count": 99,
   "id": "c61b95d8-bb79-4a3b-9a5f-8301883941ab",
   "metadata": {},
   "outputs": [],
   "source": [
    "import matplotlib as mpl\n",
    "import matplotlib.pyplot as plt"
   ]
  },
  {
   "cell_type": "code",
   "execution_count": 100,
   "id": "14cf9e67-cbd6-4841-a02b-b3d8855ce15d",
   "metadata": {},
   "outputs": [],
   "source": [
    "import pandas as pd\n",
    "import numpy as np"
   ]
  },
  {
   "cell_type": "code",
   "execution_count": 3,
   "id": "fc6f1cf1-657d-46cc-9504-ea96d9e87684",
   "metadata": {},
   "outputs": [
    {
     "data": {
      "text/plain": [
       "[<matplotlib.lines.Line2D at 0x7f6b6419ae50>]"
      ]
     },
     "execution_count": 3,
     "metadata": {},
     "output_type": "execute_result"
    },
    {
     "data": {
      "image/png": "[encoded data removed]",
      "text/plain": [
       "<Figure size 432x288 with 1 Axes>"
      ]
     },
     "metadata": {
      "needs_background": "light"
     },
     "output_type": "display_data"
    }
   ],
   "source": [
    "plt.plot([1, 2, 3, 4], [1, 4, 2, 3])"
   ]
  },
  {
   "cell_type": "code",
   "execution_count": 4,
   "id": "5f158d08-c4ce-42c7-8a23-884bc114830f",
   "metadata": {},
   "outputs": [
    {
     "data": {
      "text/plain": [
       "[<matplotlib.lines.Line2D at 0x7f6b5c0aa700>]"
      ]
     },
     "execution_count": 4,
     "metadata": {},
     "output_type": "execute_result"
    },
    {
     "data": {
      "image/png": "[encoded data removed]",
      "text/plain": [
       "<Figure size 432x288 with 1 Axes>"
      ]
     },
     "metadata": {
      "needs_background": "light"
     },
     "output_type": "display_data"
    }
   ],
   "source": [
    "plt.plot([1, 2, 3, 4], [1, 4, 2, 3], marker='o')"
   ]
  },
  {
   "cell_type": "code",
   "execution_count": 5,
   "id": "31374e5d-b047-404d-9c5d-bca0d8fa4d5c",
   "metadata": {},
   "outputs": [
    {
     "data": {
      "text/plain": [
       "[<matplotlib.lines.Line2D at 0x7f5846f66220>]"
      ]
     },
     "execution_count": 5,
     "metadata": {},
     "output_type": "execute_result"
    },
    {
     "data": {
      "image/png": "[encoded data removed]",
      "text/plain": [
       "<Figure size 432x288 with 1 Axes>"
      ]
     },
     "metadata": {
      "needs_background": "light"
     },
     "output_type": "display_data"
    }
   ],
   "source": [
    "plt.plot([1, 2, 3, 4], [1, 4, 2, 3], marker='o', linestyle='None')"
   ]
  },
  {
   "cell_type": "markdown",
   "id": "7b1fbca6-3543-4520-a2ca-dc325d7d2b4f",
   "metadata": {},
   "source": [
    "### Axes\n",
    "This is what you think of as 'a plot', it is the region of the image with the data space. A given figure can contain many Axes, but a given Axes object can only be in one Figure. \n",
    "[Source](https://matplotlib.org/stable/tutorials/introductory/usage.html#axes)"
   ]
  },
  {
   "cell_type": "code",
   "execution_count": 6,
   "id": "35f8983f-7948-4bb2-88f5-fc7a1c247261",
   "metadata": {},
   "outputs": [
    {
     "data": {
      "text/plain": [
       "<Figure size 432x288 with 0 Axes>"
      ]
     },
     "metadata": {},
     "output_type": "display_data"
    }
   ],
   "source": [
    "# an empty figure with no Axes\n",
    "fig = plt.figure()"
   ]
  },
  {
   "cell_type": "code",
   "execution_count": 7,
   "id": "fe1a704f-9d4f-47d7-a801-850071d621c1",
   "metadata": {},
   "outputs": [
    {
     "data": {
      "image/png": "[encoded data removed]",
      "text/plain": [
       "<Figure size 432x288 with 1 Axes>"
      ]
     },
     "metadata": {
      "needs_background": "light"
     },
     "output_type": "display_data"
    }
   ],
   "source": [
    "# a figure with a single Axes\n",
    "fig, ax = plt.subplots()\n",
    "\n",
    "data1, data2, data3, data4 = np.random.randn(4, 100)\n",
    "ax.plot(data1, data2)\n",
    "\n",
    "plt.show()"
   ]
  },
  {
   "cell_type": "code",
   "execution_count": 8,
   "id": "ca576d59-9992-4433-8bc7-08f48c458f0d",
   "metadata": {},
   "outputs": [
    {
     "data": {
      "image/png": "[encoded data removed]",
      "text/plain": [
       "<Figure size 432x288 with 4 Axes>"
      ]
     },
     "metadata": {
      "needs_background": "light"
     },
     "output_type": "display_data"
    }
   ],
   "source": [
    "# a figure with a 2x2 grid of Axes\n",
    "fig, axs = plt.subplots(2, 2)\n",
    "\n",
    "data1, data2, data3, data4 = np.random.randn(4, 100)\n",
    "# first row\n",
    "axs[0,0].plot(data1, data2)\n",
    "axs[0,1].plot(data3, data4)\n",
    "# second row\n",
    "axs[1,0].plot(data3, data2)\n",
    "axs[1,1].plot(data1, data4)\n",
    "\n",
    "plt.show()"
   ]
  },
  {
   "cell_type": "markdown",
   "id": "794083a5-287f-4363-9239-585535cce75e",
   "metadata": {},
   "source": [
    "#### Axis\n",
    "These are the number-line-like objects. They take care of setting the graph limits and generating the ticks (the marks on the axis) and ticklabels (strings labeling the ticks)."
   ]
  },
  {
   "cell_type": "markdown",
   "id": "24ff2c0b-d884-4365-bfbd-652bf5a05370",
   "metadata": {},
   "source": [
    "#### Artist\n",
    "Basically, everything you can see on the figure is an artist (even the Figure, Axes, and Axis objects). This includes Text objects, Line2D objects, collections objects, Patch objects ... (you get the idea). When the figure is rendered, all of the artists are drawn to the canvas."
   ]
  },
  {
   "cell_type": "markdown",
   "id": "4eaf70c4-777a-4d49-ac2e-c7e2a7cfe643",
   "metadata": {},
   "source": [
    "#### Styles"
   ]
  },
  {
   "cell_type": "code",
   "execution_count": 9,
   "id": "57e38cd6-b372-4554-8f70-b9606ac89eee",
   "metadata": {},
   "outputs": [
    {
     "data": {
      "image/png": "[encoded data removed]",
      "text/plain": [
       "<Figure size 432x288 with 1 Axes>"
      ]
     },
     "metadata": {
      "needs_background": "light"
     },
     "output_type": "display_data"
    }
   ],
   "source": [
    "# object-oriented style\n",
    "fig, ax = plt.subplots()\n",
    "ax.plot([1, 2], [3, 4])\n",
    "plt.show()"
   ]
  },
  {
   "cell_type": "code",
   "execution_count": 102,
   "id": "2e105484-7f47-4d79-a903-8776c9106442",
   "metadata": {},
   "outputs": [
    {
     "data": {
      "text/plain": [
       "[<matplotlib.lines.Line2D at 0x7f38cb338700>]"
      ]
     },
     "execution_count": 102,
     "metadata": {},
     "output_type": "execute_result"
    },
    {
     "data": {
      "image/png": "[encoded data removed]",
      "text/plain": [
       "<Figure size 432x288 with 1 Axes>"
      ]
     },
     "metadata": {
      "needs_background": "light"
     },
     "output_type": "display_data"
    }
   ],
   "source": [
    "# pyplot style\n",
    "plt.plot([1, 2], [3, 4])"
   ]
  },
  {
   "cell_type": "markdown",
   "id": "fc6f40cf-a0e1-4ecd-8ecf-80871c815012",
   "metadata": {},
   "source": [
    "## Input Data"
   ]
  },
  {
   "cell_type": "markdown",
   "id": "a9083edc-ab60-40c0-8627-daa5daf068ba",
   "metadata": {},
   "source": [
    "#### Numpy"
   ]
  },
  {
   "cell_type": "code",
   "execution_count": 107,
   "id": "ef426b5e-19b2-4f91-b972-f8e10c1a5ff1",
   "metadata": {},
   "outputs": [
    {
     "name": "stdout",
     "output_type": "stream",
     "text": [
      "[[1 2]\n",
      " [3 4]]\n"
     ]
    }
   ],
   "source": [
    "# numpy matrix\n",
    "a = np.array([[1, 2], [3, 4]])\n",
    "print(a)"
   ]
  },
  {
   "cell_type": "code",
   "execution_count": 114,
   "id": "52dac18d-5a1f-4ccb-a2eb-c77a31de37f4",
   "metadata": {},
   "outputs": [
    {
     "data": {
      "image/png": "[encoded data removed]",
      "text/plain": [
       "<Figure size 432x288 with 1 Axes>"
      ]
     },
     "metadata": {
      "needs_background": "light"
     },
     "output_type": "display_data"
    }
   ],
   "source": [
    "# create a figure with an axes\n",
    "fig, ax = plt.subplots()\n",
    "ax.plot(a)\n",
    "plt.show()"
   ]
  },
  {
   "cell_type": "code",
   "execution_count": 13,
   "id": "f4a0954f-5fe3-4c41-bd42-ce409976aa21",
   "metadata": {},
   "outputs": [
    {
     "name": "stdout",
     "output_type": "stream",
     "text": [
      "[0.         0.02020202 0.04040404 0.06060606 0.08080808 0.1010101\n",
      " 0.12121212 0.14141414 0.16161616 0.18181818 0.2020202  0.22222222\n",
      " 0.24242424 0.26262626 0.28282828 0.3030303  0.32323232 0.34343434\n",
      " 0.36363636 0.38383838 0.4040404  0.42424242 0.44444444 0.46464646\n",
      " 0.48484848 0.50505051 0.52525253 0.54545455 0.56565657 0.58585859\n",
      " 0.60606061 0.62626263 0.64646465 0.66666667 0.68686869 0.70707071\n",
      " 0.72727273 0.74747475 0.76767677 0.78787879 0.80808081 0.82828283\n",
      " 0.84848485 0.86868687 0.88888889 0.90909091 0.92929293 0.94949495\n",
      " 0.96969697 0.98989899 1.01010101 1.03030303 1.05050505 1.07070707\n",
      " 1.09090909 1.11111111 1.13131313 1.15151515 1.17171717 1.19191919\n",
      " 1.21212121 1.23232323 1.25252525 1.27272727 1.29292929 1.31313131\n",
      " 1.33333333 1.35353535 1.37373737 1.39393939 1.41414141 1.43434343\n",
      " 1.45454545 1.47474747 1.49494949 1.51515152 1.53535354 1.55555556\n",
      " 1.57575758 1.5959596  1.61616162 1.63636364 1.65656566 1.67676768\n",
      " 1.6969697  1.71717172 1.73737374 1.75757576 1.77777778 1.7979798\n",
      " 1.81818182 1.83838384 1.85858586 1.87878788 1.8989899  1.91919192\n",
      " 1.93939394 1.95959596 1.97979798 2.        ]\n"
     ]
    }
   ],
   "source": [
    "# create array with 100 values between 0 and 2\n",
    "x = np.linspace(0, 2, 100)\n",
    "print(x)"
   ]
  },
  {
   "cell_type": "code",
   "execution_count": 14,
   "id": "13d6a21c-6b97-45c2-971a-35707b13e53a",
   "metadata": {},
   "outputs": [
    {
     "data": {
      "image/png": "[encoded data removed]",
      "text/plain": [
       "<Figure size 432x288 with 1 Axes>"
      ]
     },
     "metadata": {
      "needs_background": "light"
     },
     "output_type": "display_data"
    }
   ],
   "source": [
    "# plot some functions with the help of the numpy array x\n",
    "fig, ax = plt.subplots()\n",
    "ax.plot(x, x, label='linear')\n",
    "ax.plot(x, x**2, label='quadratic')\n",
    "ax.legend()\n",
    "plt.show()"
   ]
  },
  {
   "cell_type": "markdown",
   "id": "f673e023-c507-4c95-952c-9af67d8afa30",
   "metadata": {},
   "source": [
    "#### Pandas"
   ]
  },
  {
   "cell_type": "code",
   "execution_count": 15,
   "id": "cea259ef-2f48-4515-a567-55f7753f32af",
   "metadata": {},
   "outputs": [
    {
     "name": "stdout",
     "output_type": "stream",
     "text": [
      "   a  b\n",
      "0  1  2\n",
      "1  3  4\n"
     ]
    }
   ],
   "source": [
    "b = pd.DataFrame(a, columns=list('ab'))\n",
    "print(b)"
   ]
  },
  {
   "cell_type": "code",
   "execution_count": 16,
   "id": "4b10131f-15f3-49cb-9cf3-494e932d73ef",
   "metadata": {},
   "outputs": [
    {
     "name": "stdout",
     "output_type": "stream",
     "text": [
      "[[1 2]\n",
      " [3 4]]\n"
     ]
    }
   ],
   "source": [
    "b_asarray = b.values\n",
    "print(b_asarray)"
   ]
  },
  {
   "cell_type": "code",
   "execution_count": 17,
   "id": "327a97cb-2fe6-4028-8d13-59610e17e6d9",
   "metadata": {},
   "outputs": [
    {
     "data": {
      "image/png": "[encoded data removed]",
      "text/plain": [
       "<Figure size 432x288 with 1 Axes>"
      ]
     },
     "metadata": {
      "needs_background": "light"
     },
     "output_type": "display_data"
    }
   ],
   "source": [
    "# create a figure with an axes\n",
    "fig, ax = plt.subplots()\n",
    "\n",
    "ax.plot(b_asarray)\n",
    "\n",
    "plt.show()"
   ]
  },
  {
   "cell_type": "markdown",
   "id": "e46977fa-c8c1-4a83-80a7-a150fe0747cb",
   "metadata": {},
   "source": [
    "## Scatter Plots"
   ]
  },
  {
   "cell_type": "code",
   "execution_count": 18,
   "id": "18451bbd-4271-4b23-b678-421ebd7003b1",
   "metadata": {},
   "outputs": [
    {
     "data": {
      "image/png": "[encoded data removed]",
      "text/plain": [
       "<Figure size 432x288 with 1 Axes>"
      ]
     },
     "metadata": {
      "needs_background": "light"
     },
     "output_type": "display_data"
    }
   ],
   "source": [
    "fig, ax = plt.subplots()\n",
    "\n",
    "ax.scatter([1, 1.5, 2, 2.5], [0.5, 1.5, 2, 1], color='r')\n",
    "\n",
    "plt.show()"
   ]
  },
  {
   "cell_type": "markdown",
   "id": "261b4ba7-0b51-42ae-9e27-0fee5ae593dc",
   "metadata": {},
   "source": [
    "## Bar Plots"
   ]
  },
  {
   "cell_type": "code",
   "execution_count": 19,
   "id": "81c81980-937a-4ede-8cae-5f3e6f20f29b",
   "metadata": {},
   "outputs": [
    {
     "data": {
      "image/png": "[encoded data removed]",
      "text/plain": [
       "<Figure size 432x288 with 1 Axes>"
      ]
     },
     "metadata": {
      "needs_background": "light"
     },
     "output_type": "display_data"
    }
   ],
   "source": [
    "fig, ax = plt.subplots()\n",
    "\n",
    "ax.bar(('A', 'B', 'C'), (3, 5, 4))\n",
    "\n",
    "plt.show()"
   ]
  },
  {
   "cell_type": "code",
   "execution_count": 20,
   "id": "b4ca38b8-c51b-4d02-8bab-dd497649abd9",
   "metadata": {},
   "outputs": [
    {
     "data": {
      "image/png": "[encoded data removed]",
      "text/plain": [
       "<Figure size 432x288 with 1 Axes>"
      ]
     },
     "metadata": {
      "needs_background": "light"
     },
     "output_type": "display_data"
    }
   ],
   "source": [
    "fig, ax = plt.subplots()\n",
    "\n",
    "ax.bar(('A', 'B', 'C'), (3, 5, 4), 0.35, label='first', color='r')\n",
    "ax.bar(('A', 'B', 'C'), (2, 1, 3), 0.35, label='second', color='g')\n",
    "\n",
    "plt.show()"
   ]
  },
  {
   "cell_type": "markdown",
   "id": "a6d6c889-e128-4bfe-b73e-aa2280e68a5c",
   "metadata": {},
   "source": [
    "## Histograms"
   ]
  },
  {
   "cell_type": "code",
   "execution_count": 21,
   "id": "61f556ed-e286-4ed9-bc92-682bede1ad17",
   "metadata": {},
   "outputs": [
    {
     "data": {
      "image/png": "[encoded data removed]",
      "text/plain": [
       "<Figure size 432x288 with 1 Axes>"
      ]
     },
     "metadata": {
      "needs_background": "light"
     },
     "output_type": "display_data"
    }
   ],
   "source": [
    "a = np.array([22,87,5,43,56,73,55,54,11,20,51,5,79,31,27])\n",
    "\n",
    "fig, ax = plt.subplots()\n",
    "\n",
    "ax.hist(a, bins = [0,25,50,75,100])\n",
    "ax.set_xticks([0,25,50,75,100])\n",
    "\n",
    "plt.show()"
   ]
  },
  {
   "cell_type": "markdown",
   "id": "d4739719-4521-4333-b0b6-ff077db3e10f",
   "metadata": {},
   "source": [
    "## Box Plots"
   ]
  },
  {
   "cell_type": "code",
   "execution_count": 22,
   "id": "3a5a0520-b410-48f1-8727-cebe97e10fe2",
   "metadata": {},
   "outputs": [
    {
     "data": {
      "image/png": "[encoded data removed]",
      "text/plain": [
       "<Figure size 432x288 with 1 Axes>"
      ]
     },
     "metadata": {
      "needs_background": "light"
     },
     "output_type": "display_data"
    }
   ],
   "source": [
    "fig, ax = plt.subplots()\n",
    "\n",
    "# requires a two-dimensional array for multiple boxes\n",
    "ax.boxplot([[1, 2, 3, 3, 3.2, 1, 2, 1.5, 7],[3, 2, 3.4, 4, 2.3, 5, 4.3, 4.6]], labels=['first', 'second'])\n",
    "\n",
    "plt.show()"
   ]
  },
  {
   "cell_type": "markdown",
   "id": "9142004f-19a4-47d0-9302-58a7e3528f0b",
   "metadata": {},
   "source": [
    "## Adjust Plots"
   ]
  },
  {
   "cell_type": "code",
   "execution_count": 25,
   "id": "22f3380f-95cf-401d-968b-97e3b0d25e8f",
   "metadata": {},
   "outputs": [
    {
     "data": {
      "image/png": "[encoded data removed]",
      "text/plain": [
       "<Figure size 432x288 with 1 Axes>"
      ]
     },
     "metadata": {
      "needs_background": "light"
     },
     "output_type": "display_data"
    }
   ],
   "source": [
    "# create plot\n",
    "fig, ax = plt.subplots()\n",
    "\n",
    "# plot data\n",
    "x = np.linspace(0, 2, 100)\n",
    "ax.plot(x, x, label='linear')\n",
    "ax.plot(x, x**2, label='quadratic')\n",
    "\n",
    "# set label of figure\n",
    "ax.set_xlabel('input data')\n",
    "ax.set_ylabel('output data')\n",
    "\n",
    "# set title of figure\n",
    "ax.set_title(\"Math Stuff\")\n",
    "\n",
    "# set ticks on axis\n",
    "ax.set_xticks([0,0.5,1,1.5,2])\n",
    "ax.set_yticks([0,1,2,3,4])\n",
    "\n",
    "# show legend\n",
    "ax.legend()\n",
    "\n",
    "plt.show()"
   ]
  },
  {
   "cell_type": "code",
   "execution_count": null,
   "id": "798aa7ac-6c88-47da-a64a-fbfb1675affa",
   "metadata": {},
   "outputs": [],
   "source": []
  }
 ],
 "metadata": {
  "kernelspec": {
   "display_name": "Python 3",
   "language": "python",
   "name": "python3"
  },
  "language_info": {
   "codemirror_mode": {
    "name": "ipython",
    "version": 3
   },
   "file_extension": ".py",
   "mimetype": "text/x-python",
   "name": "python",
   "nbconvert_exporter": "python",
   "pygments_lexer": "ipython3",
   "version": "3.8.10"
  }
 },
 "nbformat": 4,
 "nbformat_minor": 5
}
